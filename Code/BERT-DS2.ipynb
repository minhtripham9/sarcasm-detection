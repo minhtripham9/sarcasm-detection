{
 "cells": [
  {
   "cell_type": "markdown",
   "id": "0",
   "metadata": {},
   "source": [
    "## BERT-DS2"
   ]
  },
  {
   "cell_type": "markdown",
   "id": "1",
   "metadata": {
    "id": "54136140"
   },
   "source": [
    "### Managing imports"
   ]
  },
  {
   "cell_type": "code",
   "execution_count": null,
   "id": "2",
   "metadata": {
    "id": "556eb40f"
   },
   "outputs": [],
   "source": [
    "import pandas as pd\n",
    "import numpy as np\n",
    "import seaborn as sns\n",
    "import matplotlib.pyplot as plt\n",
    "import joblib\n",
    "import torch\n",
    "from transformers import AutoTokenizer, AutoModelForSequenceClassification\n",
    "from sklearn.model_selection import train_test_split\n",
    "from sklearn.svm import SVC\n",
    "from sklearn.feature_extraction.text import TfidfVectorizer\n",
    "from sklearn.metrics import classification_report, confusion_matrix\n",
    "from tensorflow.keras.preprocessing.text import Tokenizer\n",
    "from tensorflow.keras.preprocessing.sequence import pad_sequences\n",
    "from tensorflow.keras.models import Sequential\n",
    "from tensorflow.keras.layers import Embedding, LSTM, Dense, Dropout\n",
    "from torch.utils.data import TensorDataset, DataLoader\n",
    "from torch.optim import AdamW\n",
    "from tqdm import tqdm\n",
    "\n"
   ]
  },
  {
   "cell_type": "markdown",
   "id": "3",
   "metadata": {
    "id": "afc5aaa3"
   },
   "source": [
    "## Without context"
   ]
  },
  {
   "cell_type": "markdown",
   "id": "4",
   "metadata": {
    "id": "f2b5f40b"
   },
   "source": [
    "#### Loading dataset 2"
   ]
  },
  {
   "cell_type": "code",
   "execution_count": null,
   "id": "5",
   "metadata": {
    "colab": {
     "base_uri": "https://localhost:8080/",
     "height": 478
    },
    "id": "c21bd9f3",
    "outputId": "36ba1efa-fac1-4693-d57a-216810c67f05"
   },
   "outputs": [],
   "source": [
    "# Only read the first 4400 rows and specific columns\n",
    "cols_to_use = ['label', 'comment', 'parent_comment']\n",
    "\n",
    "df = pd.read_csv('../Dataset/train-balanced-sarcasm.csv', usecols=cols_to_use, nrows=4400)\n",
    "\n",
    "# Rename columns\n",
    "df = df.rename(columns={\n",
    "    'comment': 'response',\n",
    "    'parent_comment': 'context'\n",
    "})\n",
    "\n",
    "df"
   ]
  },
  {
   "cell_type": "markdown",
   "id": "6",
   "metadata": {
    "id": "5ba827db"
   },
   "source": [
    "#### Dataset 2 preparation\n"
   ]
  },
  {
   "cell_type": "code",
   "execution_count": null,
   "id": "7",
   "metadata": {
    "colab": {
     "base_uri": "https://localhost:8080/"
    },
    "id": "560c9ec1",
    "outputId": "11e9821e-5d50-4dc6-b44b-4b5faeef5aed"
   },
   "outputs": [],
   "source": [
    "df['input_text'] = df['response']\n",
    "\n",
    "# Check the result\n",
    "print(df[['input_text', 'label']].head())\n",
    "df"
   ]
  },
  {
   "cell_type": "code",
   "execution_count": null,
   "id": "8",
   "metadata": {
    "colab": {
     "base_uri": "https://localhost:8080/"
    },
    "id": "YiwGiYZNHGlK",
    "outputId": "5576da2c-8c02-4da7-874e-880b16145c17"
   },
   "outputs": [],
   "source": [
    "# Split\n",
    "X_train, X_test, y_train, y_test = train_test_split(\n",
    "    df['input_text'], df['label'],\n",
    "    test_size=0.2, random_state=42, stratify=df['label']\n",
    ")\n",
    "\n",
    "train_df = pd.DataFrame({'input_text': X_train, 'label': y_train})\n",
    "test_df = pd.DataFrame({'input_text': X_test, 'label': y_test})\n",
    "\n",
    "\n",
    "print(\"Train and test splits saved!\")"
   ]
  },
  {
   "cell_type": "markdown",
   "id": "9",
   "metadata": {
    "id": "f726fd50"
   },
   "source": [
    "### Transformers based models : RoBERTa"
   ]
  },
  {
   "cell_type": "markdown",
   "id": "10",
   "metadata": {
    "id": "af3d6cbc"
   },
   "source": [
    "#### Training\n"
   ]
  },
  {
   "cell_type": "code",
   "execution_count": null,
   "id": "11",
   "metadata": {
    "colab": {
     "base_uri": "https://localhost:8080/",
     "height": 301,
     "referenced_widgets": [
      "e9946b0868b247ff863c3b5c946f2e6f",
      "87314012ed4940abaf39d68299b74cf9",
      "8517a50fe018404c90d02c51826b283a",
      "9f9c2ab9fcdb4ff5bc3cf89046072fec",
      "70cb36cc97f84e8794f74405bd3e33a0",
      "759030c83ed74d4cadcd7230906f9194",
      "6f162fe79f9646c48f29989fdc926ec7",
      "df98bb8c56db409da7a306b6e46c26a1",
      "8761e338259d4c21a683b8faf3576a3c",
      "9d263030f769454185177776e48bd3fa",
      "78db1bab06bd4ac9bce18c723936a2f7",
      "08f077193caa4e3984b3887bca724521",
      "da8df3cc59814447b4ca0d5ad263bc6e",
      "3ceff2872ade4b449274bfc451eb42d5",
      "b5b6101a8818491eac5660e0468b3184",
      "532e2c8a3dea46ddb4d7c66c73f986ff",
      "86544244ab304eb19a4067783d86ab68",
      "c94e84be90bf495fb0e7dc451f7d0212",
      "70c255e17d0647d0be79126205b0b90a",
      "4c6070205baa4ba4a723ca90cb962744",
      "549cc1187acd4af6938cb12c998e9e1d",
      "bafb9bd5a0ea4ab5a8db1143c9f8941d",
      "b5a6547f2e134ae8a29f73abfda5b33e",
      "0a6285f279804278b5cabfbbc76a7eb6",
      "28643a734d80480481a8fd021aacb922",
      "c94c8d1a1c2d4373b0f5a348aa550184",
      "07f387412e5343ab8d2002cfc84cd804",
      "17a9efb4db254a5cb4dc8b9f1f360873",
      "3565492fea75462b8d191852ea5aade8",
      "42d5e053a0184deb9f68728f4f442159",
      "053b3587985648758e8c4dc72c2cd9ad",
      "6dad3f6db137485f8fe4d23bbab5e2b6",
      "e50ab5f78e4e41d5865fcf8b1e0de7bc",
      "ca75f82066e34adfa4542a920a229344",
      "03f2ca21471b4b8e9f36efd282d8f98c",
      "b50bf5f414ec4ac497fa862ec3abb9d6",
      "836acaf7804045a7a91a67aa20c36684",
      "013ce6e7ef484d709b47ea673a13ba36",
      "b421b9943780422dbd05af04acd42a1d",
      "c99e28826f82462c8e6c7d9c29d64b96",
      "8368d7060cbb4b31999ffe47f1fc4125",
      "5d9cabddec014efea4a85a5f5a672a1f",
      "fe77481a43ad47a28d561d77b43e2332",
      "1d44e13ab3024bc8bc6bfa8cf65d0fc2",
      "71c55602a02b443081cb12f9ca975a89",
      "244a9bb95b144e99b1464abdf2b37fc6",
      "6029a9f123d64bf3b2ecd463af49f008",
      "034dc76d56b34258b40c3f9853e6a6c9",
      "57f9c9b3d2544567b2610c432a7d6975",
      "99d74a0e38e146f1b30255f5553902aa",
      "5eeefe2ab98541768e709a2bf930b144",
      "3ac65fec013c4452a9de6d892a0a1db5",
      "a72f919eb3aa4fc2927f8a69211878b5",
      "6d220a6bbcfe499ba41993a1a815cab7",
      "588d7f1f8c104bb982626f40990aef19"
     ]
    },
    "id": "a25c4576",
    "outputId": "b5535454-d871-44c7-a4b4-55271254371d"
   },
   "outputs": [],
   "source": [
    "X_train_roberta = train_df['input_text'].astype(str).tolist()\n",
    "y_train_roberta = train_df['label'].tolist()\n",
    "X_test_roberta = test_df['input_text'].astype(str).tolist()\n",
    "y_test_roberta = test_df['label'].tolist()\n",
    "\n",
    "tokenizer = AutoTokenizer.from_pretrained(\"roberta-base\")"
   ]
  },
  {
   "cell_type": "code",
   "execution_count": null,
   "id": "12",
   "metadata": {
    "id": "83ea4094"
   },
   "outputs": [],
   "source": [
    "X_train_enc_roberta = tokenizer(\n",
    "    X_train_roberta,\n",
    "    padding='max_length',\n",
    "    truncation=True,\n",
    "    max_length=110,\n",
    "    return_tensors='pt'\n",
    ")\n",
    "X_test_enc_roberta = tokenizer(\n",
    "    X_test_roberta,\n",
    "    padding='max_length',\n",
    "    truncation=True,\n",
    "    max_length=110,\n",
    "    return_tensors='pt'\n",
    ")\n"
   ]
  },
  {
   "cell_type": "code",
   "execution_count": null,
   "id": "13",
   "metadata": {
    "id": "ddb92df9"
   },
   "outputs": [],
   "source": [
    "# Convert to torch tensors\n",
    "train_dataset_roberta = TensorDataset(\n",
    "    X_train_enc_roberta['input_ids'],\n",
    "    X_train_enc_roberta['attention_mask'],\n",
    "    torch.tensor(y_train_roberta)\n",
    ")\n",
    "\n",
    "test_dataset_roberta = TensorDataset(\n",
    "    X_test_enc_roberta['input_ids'],\n",
    "    X_test_enc_roberta['attention_mask'],\n",
    "    torch.tensor(y_test_roberta)\n",
    ")\n"
   ]
  },
  {
   "cell_type": "code",
   "execution_count": null,
   "id": "14",
   "metadata": {
    "id": "489a36bf"
   },
   "outputs": [],
   "source": [
    "batch_size = 32\n",
    "\n",
    "train_loader = DataLoader(train_dataset_roberta, batch_size=batch_size, shuffle=True)\n",
    "test_loader = DataLoader(test_dataset_roberta, batch_size=batch_size)"
   ]
  },
  {
   "cell_type": "code",
   "execution_count": null,
   "id": "15",
   "metadata": {
    "colab": {
     "base_uri": "https://localhost:8080/",
     "height": 104,
     "referenced_widgets": [
      "66552c9fb5b84248b650f02cbf543bb7",
      "3f7a2c7d49434947a6df410a2427b230",
      "3e2a4afedfce436d84d835bf83eb4a9c",
      "6617f274396943518b6ff2b966047711",
      "a594d71ce0d842e6920d27de95c3a670",
      "04b679c594ed435f95fb43c28b881ccc",
      "d01681eeebf34a2791e19d8aff1b0fd2",
      "cfaeefa5664d401da26d89efbf3b4495",
      "205e71a529bf4aeeaf7a98fa09f80270",
      "cef1e04fdb544c2d802ec7f3effd4e3c",
      "e8207e27e3c74a41bab9ee234aeb2c8b"
     ]
    },
    "id": "e78479c9",
    "outputId": "fa3c2d88-1d8b-47c9-da51-900b5f556f00"
   },
   "outputs": [],
   "source": [
    "device = torch.device('cuda' if torch.cuda.is_available() else 'cpu')\n",
    "\n",
    "model = AutoModelForSequenceClassification.from_pretrained(\"roberta-base\", num_labels=2)\n",
    "model = model.to(device)\n",
    "optimizer = AdamW(model.parameters(), lr=2e-5)"
   ]
  },
  {
   "cell_type": "markdown",
   "id": "16",
   "metadata": {
    "id": "17075b3c"
   },
   "source": [
    "#### Training loop"
   ]
  },
  {
   "cell_type": "code",
   "execution_count": null,
   "id": "17",
   "metadata": {
    "colab": {
     "base_uri": "https://localhost:8080/"
    },
    "id": "1e38b0b6",
    "outputId": "a7798d69-df2c-4a92-a0ad-80022fdb278d"
   },
   "outputs": [],
   "source": [
    "epochs = 3\n",
    "\n",
    "for epoch in range(epochs):\n",
    "    model.train()\n",
    "    total_loss = 0\n",
    "    for batch in tqdm(train_loader):\n",
    "        b_input_ids, b_attn_mask, b_labels = [x.to(device) for x in batch]\n",
    "        outputs = model(input_ids=b_input_ids, attention_mask=b_attn_mask, labels=b_labels)\n",
    "        loss = outputs.loss\n",
    "        optimizer.zero_grad()\n",
    "        loss.backward()\n",
    "        optimizer.step()\n",
    "        total_loss += loss.item()\n",
    "    print(f\"Epoch {epoch+1}, Loss: {total_loss/len(train_loader):.4f}\")\n"
   ]
  },
  {
   "cell_type": "markdown",
   "id": "18",
   "metadata": {
    "id": "562e20f1"
   },
   "source": [
    "#### Evaluation"
   ]
  },
  {
   "cell_type": "code",
   "execution_count": null,
   "id": "19",
   "metadata": {
    "colab": {
     "base_uri": "https://localhost:8080/",
     "height": 663
    },
    "id": "92dde7cb",
    "outputId": "4d677827-3a25-4ffb-f9ba-6231c4651386"
   },
   "outputs": [],
   "source": [
    "model.eval()\n",
    "preds_roberta, truths_roberta = [], []\n",
    "with torch.no_grad():\n",
    "    for batch in test_loader:\n",
    "        b_input_ids, b_attn_mask, b_labels = [x.to(device) for x in batch]\n",
    "        outputs = model(input_ids=b_input_ids, attention_mask=b_attn_mask)\n",
    "        logits = outputs.logits\n",
    "        preds_roberta.extend(torch.argmax(logits, dim=1).cpu().numpy())\n",
    "        truths_roberta.extend(b_labels.cpu().numpy())\n",
    "\n",
    "print(classification_report(truths_roberta, preds_roberta, target_names=['Not Sarcastic', 'Sarcastic']))\n",
    "\n",
    "cm_roberta = confusion_matrix(truths_roberta, preds_roberta)\n",
    "labels = ['Not Sarcastic', 'Sarcastic']\n",
    "\n",
    "plt.figure(figsize=(6, 5))\n",
    "sns.heatmap(cm_roberta, annot=True, fmt='d', cmap='Blues',\n",
    "            xticklabels=labels, yticklabels=labels)\n",
    "plt.xlabel('Predicted Label')\n",
    "plt.ylabel('True Label')\n",
    "plt.title('Confusion Matrix - RoBERTa Sarcasm Detection')\n",
    "plt.tight_layout()\n",
    "plt.show()\n"
   ]
  },
  {
   "cell_type": "markdown",
   "id": "20",
   "metadata": {
    "id": "dc6fe394"
   },
   "source": [
    "## With context\n"
   ]
  },
  {
   "cell_type": "markdown",
   "id": "21",
   "metadata": {
    "id": "19c2daf0"
   },
   "source": [
    "#### Dataset 2 preparation\n"
   ]
  },
  {
   "cell_type": "code",
   "execution_count": null,
   "id": "22",
   "metadata": {
    "colab": {
     "base_uri": "https://localhost:8080/"
    },
    "id": "b9e2ef07",
    "outputId": "880022da-cb0d-4a14-99b5-0345ca3df9f3"
   },
   "outputs": [],
   "source": [
    "df['input_text'] = df['response'] + ' [SEP] ' + 'Context :' + df['context']\n",
    "\n",
    "# Check the result\n",
    "print(df[['input_text', 'label']].head())"
   ]
  },
  {
   "cell_type": "code",
   "execution_count": null,
   "id": "23",
   "metadata": {
    "colab": {
     "base_uri": "https://localhost:8080/"
    },
    "id": "12e7bccc",
    "outputId": "31029cb4-db62-4bc5-d0f8-0946fe4eb3bb"
   },
   "outputs": [],
   "source": [
    "# Split\n",
    "X_train, X_test, y_train, y_test = train_test_split(\n",
    "    df['input_text'], df['label'],\n",
    "    test_size=0.2, random_state=42, stratify=df['label']\n",
    ")\n",
    "\n",
    "train_df = pd.DataFrame({'input_text': X_train, 'label': y_train})\n",
    "test_df = pd.DataFrame({'input_text': X_test, 'label': y_test})\n",
    "\n",
    "print(\"Train and test splits saved!\")"
   ]
  },
  {
   "cell_type": "markdown",
   "id": "24",
   "metadata": {
    "id": "6f3b5b95"
   },
   "source": [
    "### Transformers based models : RoBERTa"
   ]
  },
  {
   "cell_type": "markdown",
   "id": "25",
   "metadata": {
    "id": "b39a5a39"
   },
   "source": [
    "#### Training\n"
   ]
  },
  {
   "cell_type": "code",
   "execution_count": null,
   "id": "26",
   "metadata": {
    "id": "5b1586b9"
   },
   "outputs": [],
   "source": [
    "X_train_roberta = train_df['input_text'].astype(str).tolist()\n",
    "y_train_roberta = train_df['label'].tolist()\n",
    "X_test_roberta = test_df['input_text'].astype(str).tolist()\n",
    "y_test_roberta = test_df['label'].tolist()\n",
    "\n",
    "tokenizer = AutoTokenizer.from_pretrained(\"roberta-base\")"
   ]
  },
  {
   "cell_type": "code",
   "execution_count": null,
   "id": "27",
   "metadata": {
    "id": "fc506299"
   },
   "outputs": [],
   "source": [
    "X_train_enc_roberta = tokenizer(\n",
    "    X_train_roberta,\n",
    "    padding='max_length',\n",
    "    truncation=True,\n",
    "    max_length=110,\n",
    "    return_tensors='pt'\n",
    ")\n",
    "X_test_enc_roberta = tokenizer(\n",
    "    X_test_roberta,\n",
    "    padding='max_length',\n",
    "    truncation=True,\n",
    "    max_length=110,\n",
    "    return_tensors='pt'\n",
    ")\n"
   ]
  },
  {
   "cell_type": "code",
   "execution_count": null,
   "id": "28",
   "metadata": {
    "id": "522714e0"
   },
   "outputs": [],
   "source": [
    "# Convert to torch tensors\n",
    "train_dataset_roberta = TensorDataset(\n",
    "    X_train_enc_roberta['input_ids'],\n",
    "    X_train_enc_roberta['attention_mask'],\n",
    "    torch.tensor(y_train_roberta)\n",
    ")\n",
    "\n",
    "test_dataset_roberta = TensorDataset(\n",
    "    X_test_enc_roberta['input_ids'],\n",
    "    X_test_enc_roberta['attention_mask'],\n",
    "    torch.tensor(y_test_roberta)\n",
    ")\n"
   ]
  },
  {
   "cell_type": "code",
   "execution_count": null,
   "id": "29",
   "metadata": {
    "id": "7a5d134a"
   },
   "outputs": [],
   "source": [
    "batch_size = 32\n",
    "\n",
    "train_loader = DataLoader(train_dataset_roberta, batch_size=batch_size, shuffle=True)\n",
    "test_loader = DataLoader(test_dataset_roberta, batch_size=batch_size)"
   ]
  },
  {
   "cell_type": "code",
   "execution_count": null,
   "id": "30",
   "metadata": {
    "colab": {
     "base_uri": "https://localhost:8080/"
    },
    "id": "0e025e56",
    "outputId": "51ecc888-a9ee-4fb5-e476-15a2b89f534e"
   },
   "outputs": [],
   "source": [
    "device = torch.device('cuda' if torch.cuda.is_available() else 'cpu')\n",
    "\n",
    "model = AutoModelForSequenceClassification.from_pretrained(\"roberta-base\", num_labels=2)\n",
    "model = model.to(device)\n",
    "optimizer = AdamW(model.parameters(), lr=2e-5)"
   ]
  },
  {
   "cell_type": "markdown",
   "id": "31",
   "metadata": {
    "id": "196e0695"
   },
   "source": [
    "#### Training loop"
   ]
  },
  {
   "cell_type": "code",
   "execution_count": null,
   "id": "32",
   "metadata": {
    "colab": {
     "base_uri": "https://localhost:8080/"
    },
    "id": "6a10dae3",
    "outputId": "0085cab0-5dbd-435a-b0a2-378bca7e0526"
   },
   "outputs": [],
   "source": [
    "epochs = 3\n",
    "\n",
    "for epoch in range(epochs):\n",
    "    model.train()\n",
    "    total_loss = 0\n",
    "    for batch in tqdm(train_loader):\n",
    "        b_input_ids, b_attn_mask, b_labels = [x.to(device) for x in batch]\n",
    "        outputs = model(input_ids=b_input_ids, attention_mask=b_attn_mask, labels=b_labels)\n",
    "        loss = outputs.loss\n",
    "        optimizer.zero_grad()\n",
    "        loss.backward()\n",
    "        optimizer.step()\n",
    "        total_loss += loss.item()\n",
    "    print(f\"Epoch {epoch+1}, Loss: {total_loss/len(train_loader):.4f}\")\n"
   ]
  },
  {
   "cell_type": "markdown",
   "id": "33",
   "metadata": {
    "id": "e0d66eac"
   },
   "source": [
    "#### Evaluation"
   ]
  },
  {
   "cell_type": "code",
   "execution_count": null,
   "id": "34",
   "metadata": {
    "colab": {
     "base_uri": "https://localhost:8080/",
     "height": 787
    },
    "id": "fdfdb80c",
    "outputId": "abbcf72a-3e97-4596-cd73-3b111d3919f8"
   },
   "outputs": [],
   "source": [
    "model.eval()\n",
    "preds_roberta, truths_roberta = [], []\n",
    "with torch.no_grad():\n",
    "    for batch in test_loader:\n",
    "        b_input_ids, b_attn_mask, b_labels = [x.to(device) for x in batch]\n",
    "        outputs = model(input_ids=b_input_ids, attention_mask=b_attn_mask)\n",
    "        logits = outputs.logits\n",
    "        preds_roberta.extend(torch.argmax(logits, dim=1).cpu().numpy())\n",
    "        truths_roberta.extend(b_labels.cpu().numpy())\n",
    "\n",
    "print(classification_report(truths_roberta, preds_roberta, target_names=['Not Sarcastic', 'Sarcastic']))\n",
    "\n",
    "cm_roberta = confusion_matrix(truths_roberta, preds_roberta)\n",
    "labels = ['Not Sarcastic', 'Sarcastic']\n",
    "\n",
    "plt.figure(figsize=(6, 5))\n",
    "sns.heatmap(cm_roberta, annot=True, fmt='d', cmap='Blues',\n",
    "            xticklabels=labels, yticklabels=labels)\n",
    "plt.xlabel('Predicted Label')\n",
    "plt.ylabel('True Label')\n",
    "plt.title('Confusion Matrix - RoBERTa Sarcasm Detection')\n",
    "plt.tight_layout()\n",
    "plt.show()\n"
   ]
  }
 ],
 "metadata": {
  "accelerator": "GPU",
  "colab": {
   "gpuType": "T4",
   "provenance": []
  },
  "kernelspec": {
   "display_name": "base",
   "language": "python",
   "name": "python3"
  },
  "language_info": {
   "codemirror_mode": {
    "name": "ipython",
    "version": 3
   },
   "file_extension": ".py",
   "mimetype": "text/x-python",
   "name": "python",
   "nbconvert_exporter": "python",
   "pygments_lexer": "ipython3",
   "version": "3.12.7"
  }
 },
 "nbformat": 4,
 "nbformat_minor": 5
}
