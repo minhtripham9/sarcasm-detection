{
 "cells": [
  {
   "cell_type": "markdown",
   "id": "54136140",
   "metadata": {},
   "source": [
    "### Managing imports"
   ]
  },
  {
   "cell_type": "code",
   "execution_count": null,
   "id": "7c8c7e89",
   "metadata": {},
   "outputs": [],
   "source": [
    "!pip install tensorflow transformers torch datasets hf_xet"
   ]
  },
  {
   "cell_type": "code",
   "execution_count": null,
   "id": "556eb40f",
   "metadata": {},
   "outputs": [],
   "source": [
    "import pandas as pd\n",
    "import numpy as np\n",
    "import seaborn as sns\n",
    "import matplotlib.pyplot as plt\n",
    "import joblib\n",
    "import torch\n",
    "from sklearn.model_selection import train_test_split\n",
    "from sklearn.svm import SVC\n",
    "from sklearn.feature_extraction.text import TfidfVectorizer\n",
    "from sklearn.metrics import classification_report, confusion_matrix\n",
    "from transformers import AutoTokenizer\n",
    "from tensorflow.keras.preprocessing.text import Tokenizer\n",
    "from tensorflow.keras.preprocessing.sequence import pad_sequences\n",
    "from tensorflow.keras.models import Sequential\n",
    "from tensorflow.keras.layers import Embedding, LSTM, Dense, Dropout\n",
    "from torch.utils.data import TensorDataset, DataLoader\n",
    "from torch.optim import AdamW\n",
    "from tqdm import tqdm\n",
    "\n"
   ]
  },
  {
   "cell_type": "markdown",
   "id": "f2b5f40b",
   "metadata": {},
   "source": [
    "#### Loading dataset 1"
   ]
  },
  {
   "cell_type": "code",
   "execution_count": null,
   "id": "c21bd9f3",
   "metadata": {},
   "outputs": [],
   "source": [
    "# Load the JSONL file (lines=True is key!)\n",
    "df1 = pd.read_json('../Dataset/sarcasm_detection_shared_task_reddit_training.jsonl', lines=True)\n",
    "\n",
    "# Map label: SARCASM -> 1, NOT_SARCASM -> 0\n",
    "df1['label'] = df1['label'].replace({'SARCASM': 1, 'NOT_SARCASM': 0}).astype(int)\n",
    "\n",
    "# Convert context list to string (join with ' ||| ')\n",
    "df1['context'] = df1['context'].apply(lambda x: ' ||| '.join(x) if isinstance(x, list) else '')\n",
    "\n",
    "# Save to CSV\n",
    "df1.to_csv('../Dataset/sarcasm_detection_training_data.csv', index=False, columns=['label', 'response', 'context'])\n",
    "df1\n"
   ]
  },
  {
   "cell_type": "markdown",
   "id": "5ba827db",
   "metadata": {},
   "source": [
    "#### Dataset 1 preparation\n"
   ]
  },
  {
   "cell_type": "code",
   "execution_count": null,
   "id": "560c9ec1",
   "metadata": {},
   "outputs": [],
   "source": [
    "df1['input_text'] = df1['context'] + ' [SEP] ' + df1['response']\n",
    "\n",
    "# Check the result\n",
    "print(df1[['input_text', 'label']].head())"
   ]
  },
  {
   "cell_type": "markdown",
   "id": "f726fd50",
   "metadata": {},
   "source": [
    "### Transformers based models : RoBERTa"
   ]
  },
  {
   "cell_type": "markdown",
   "id": "af3d6cbc",
   "metadata": {},
   "source": [
    "#### Training\n"
   ]
  },
  {
   "cell_type": "code",
   "execution_count": null,
   "id": "a25c4576",
   "metadata": {},
   "outputs": [],
   "source": [
    "X_train_roberta = train_df1['input_text'].astype(str).tolist()\n",
    "y_train_roberta = train_df1['label'].tolist()\n",
    "X_test_roberta = test_df1['input_text'].astype(str).tolist()\n",
    "y_test_roberta = test_df1['label'].tolist()"
   ]
  },
  {
   "cell_type": "code",
   "execution_count": null,
   "id": "83ea4094",
   "metadata": {},
   "outputs": [],
   "source": [
    "X_train_enc_roberta = tokenizer(\n",
    "    X_train_roberta,\n",
    "    padding='max_length',\n",
    "    truncation=True,\n",
    "    max_length=64,\n",
    "    return_tensors='pt'\n",
    ")\n",
    "X_test_enc_roberta = tokenizer(\n",
    "    X_test_roberta,\n",
    "    padding='max_length',\n",
    "    truncation=True,\n",
    "    max_length=64,\n",
    "    return_tensors='pt'\n",
    ")\n"
   ]
  },
  {
   "cell_type": "code",
   "execution_count": null,
   "id": "ddb92df9",
   "metadata": {},
   "outputs": [],
   "source": [
    "# Convert to torch tensors\n",
    "train_dataset_roberta = TensorDataset(\n",
    "    X_train_enc_roberta['input_ids'],\n",
    "    X_train_enc_roberta['attention_mask'],\n",
    "    torch.tensor(y_train_roberta)\n",
    ")\n",
    "\n",
    "test_dataset_roberta = TensorDataset(\n",
    "    X_test_enc_roberta['input_ids'],\n",
    "    X_test_enc_roberta['attention_mask'],\n",
    "    torch.tensor(y_test_roberta)\n",
    ")\n"
   ]
  },
  {
   "cell_type": "code",
   "execution_count": null,
   "id": "489a36bf",
   "metadata": {},
   "outputs": [],
   "source": [
    "batch_size = 16\n",
    "\n",
    "train_loader = DataLoader(train_dataset_roberta, batch_size=batch_size, shuffle=True)\n",
    "test_loader = DataLoader(test_dataset_roberta, batch_size=batch_size)"
   ]
  },
  {
   "cell_type": "code",
   "execution_count": null,
   "id": "e78479c9",
   "metadata": {},
   "outputs": [],
   "source": [
    "device = torch.device('cuda' if torch.cuda.is_available() else 'cpu')\n",
    "\n",
    "model = AutoModelForSequenceClassification.from_pretrained(\"roberta-base\", num_labels=2)\n",
    "model = model.to(device)\n",
    "optimizer = AdamW(model.parameters(), lr=2e-5)"
   ]
  },
  {
   "cell_type": "markdown",
   "id": "17075b3c",
   "metadata": {},
   "source": [
    "#### Training loop"
   ]
  },
  {
   "cell_type": "code",
   "execution_count": null,
   "id": "1e38b0b6",
   "metadata": {},
   "outputs": [],
   "source": [
    "epochs = 3\n",
    "\n",
    "for epoch in range(epochs):\n",
    "    model.train()\n",
    "    total_loss = 0\n",
    "    for batch in tqdm(train_loader):\n",
    "        b_input_ids, b_attn_mask, b_labels = [x.to(device) for x in batch]\n",
    "        outputs = model(input_ids=b_input_ids, attention_mask=b_attn_mask, labels=b_labels)\n",
    "        loss = outputs.loss\n",
    "        optimizer.zero_grad()\n",
    "        loss.backward()\n",
    "        optimizer.step()\n",
    "        total_loss += loss.item()\n",
    "    print(f\"Epoch {epoch+1}, Loss: {total_loss/len(train_loader):.4f}\")\n"
   ]
  },
  {
   "cell_type": "markdown",
   "id": "562e20f1",
   "metadata": {},
   "source": [
    "#### Evaluation"
   ]
  },
  {
   "cell_type": "code",
   "execution_count": null,
   "id": "92dde7cb",
   "metadata": {},
   "outputs": [],
   "source": [
    "model.eval()\n",
    "preds, truths = [], []\n",
    "with torch.no_grad():\n",
    "    for batch in test_loader:\n",
    "        b_input_ids, b_attn_mask, b_labels = [x.to(device) for x in batch]\n",
    "        outputs = model(input_ids=b_input_ids, attention_mask=b_attn_mask)\n",
    "        logits = outputs.logits\n",
    "        preds.extend(torch.argmax(logits, dim=1).cpu().numpy())\n",
    "        truths.extend(b_labels.cpu().numpy())\n",
    "\n",
    "print(classification_report(truths, preds, target_names=['Not Sarcastic', 'Sarcastic']))\n",
    "\n",
    "plt.figure(figsize=(6, 5))\n",
    "sns.heatmap(cm, annot=True, fmt='d', cmap='Blues',\n",
    "            xticklabels=labels, yticklabels=labels)\n",
    "plt.xlabel('Predicted Label')\n",
    "plt.ylabel('True Label')\n",
    "plt.title('Confusion Matrix - RoBERTa Sarcasm Detection')\n",
    "plt.tight_layout()\n",
    "plt.show()\n"
   ]
  },
  {
   "cell_type": "markdown",
   "id": "d4bf5e0c",
   "metadata": {},
   "source": [
    "### Onto Token-free models : ByT5"
   ]
  },
  {
   "cell_type": "markdown",
   "id": "0dfd0637",
   "metadata": {},
   "source": [
    "#### Training"
   ]
  },
  {
   "cell_type": "code",
   "execution_count": null,
   "id": "7acb50cb",
   "metadata": {},
   "outputs": [],
   "source": [
    "train_df1['input_text'] = train_df1['input_text'].fillna(\"\").astype(str)\n",
    "test_df1['input_text'] = test_df1['input_text'].fillna(\"\").astype(str)\n",
    "\n",
    "X_train_byt5 = train_df1['input_text'].tolist()\n",
    "y_train_byt5 = train_df1['label'].tolist()\n",
    "X_test_byt5 = test_df1['input_text'].tolist()\n",
    "y_test_byt5 = test_df1['label'].tolist()"
   ]
  },
  {
   "cell_type": "code",
   "execution_count": null,
   "id": "31973d00",
   "metadata": {},
   "outputs": [],
   "source": [
    "tokenizer = AutoTokenizer.from_pretrained(\"google/byt5-small\")\n",
    "\n",
    "def tokenize(texts):\n",
    "    return tokenizer(\n",
    "        texts,\n",
    "        padding=\"max_length\",\n",
    "        truncation=True,\n",
    "        max_length=128,         # You can adjust for your dataset\n",
    "        return_tensors='pt'\n",
    "    )\n",
    "\n",
    "X_train_enc_byt5 = tokenize(X_train_byt5)\n",
    "X_test_enc_byt5 = tokenize(X_test_byt5)"
   ]
  },
  {
   "cell_type": "code",
   "execution_count": null,
   "id": "acce4ef9",
   "metadata": {},
   "outputs": [],
   "source": [
    "train_dataset_byt5 = TensorDataset(\n",
    "    X_train_enc_byt5['input_ids'],\n",
    "    X_train_enc_byt5['attention_mask'],\n",
    "    torch.tensor(y_train_byt5)\n",
    ")\n",
    "\n",
    "test_dataset_byt5 = TensorDataset(\n",
    "    X_test_enc_byt5['input_ids'],\n",
    "    X_test_enc_byt5['attention_mask'],\n",
    "    torch.tensor(y_test_byt5)\n",
    ")"
   ]
  },
  {
   "cell_type": "code",
   "execution_count": null,
   "id": "064f5097",
   "metadata": {},
   "outputs": [],
   "source": [
    "batch_size = 16\n",
    "\n",
    "train_loader = DataLoader(train_dataset_byt5, batch_size=batch_size, shuffle=True)\n",
    "test_loader = DataLoader(test_dataset_byt5, batch_size=batch_size)"
   ]
  },
  {
   "cell_type": "code",
   "execution_count": null,
   "id": "5759598e",
   "metadata": {},
   "outputs": [],
   "source": [
    "device = torch.device('cuda' if torch.cuda.is_available() else 'cpu')\n",
    "\n",
    "model = AutoModelForSequenceClassification.from_pretrained(\"google/byt5-small\", num_labels=2)\n",
    "model = model.to(device)"
   ]
  },
  {
   "cell_type": "code",
   "execution_count": null,
   "id": "e92991ff",
   "metadata": {},
   "outputs": [],
   "source": [
    "optimizer = AdamW(model.parameters(), lr=2e-5)"
   ]
  },
  {
   "cell_type": "markdown",
   "id": "80f27d03",
   "metadata": {},
   "source": [
    "#### Training loop\n"
   ]
  },
  {
   "cell_type": "code",
   "execution_count": null,
   "id": "f967b1b8",
   "metadata": {},
   "outputs": [],
   "source": [
    "epochs = 3\n",
    "\n",
    "for epoch in range(epochs):\n",
    "    model.train()\n",
    "    total_loss = 0\n",
    "    for batch in tqdm(train_loader):\n",
    "        b_input_ids, b_attn_mask, b_labels = [x.to(device) for x in batch]\n",
    "        outputs = model(input_ids=b_input_ids, attention_mask=b_attn_mask, labels=b_labels)\n",
    "        loss = outputs.loss\n",
    "        optimizer.zero_grad()\n",
    "        loss.backward()\n",
    "        optimizer.step()\n",
    "        total_loss += loss.item()\n",
    "    print(f\"Epoch {epoch+1} Loss: {total_loss/len(train_loader):.4f}\")"
   ]
  },
  {
   "cell_type": "markdown",
   "id": "e5a74080",
   "metadata": {},
   "source": [
    "#### Evaluation"
   ]
  },
  {
   "cell_type": "code",
   "execution_count": null,
   "id": "b5b6f1d6",
   "metadata": {},
   "outputs": [],
   "source": [
    "model.eval()\n",
    "preds, truths = [], []\n",
    "with torch.no_grad():\n",
    "    for batch in test_loader:\n",
    "        b_input_ids, b_attn_mask, b_labels = [x.to(device) for x in batch]\n",
    "        outputs = model(input_ids=b_input_ids, attention_mask=b_attn_mask)\n",
    "        logits = outputs.logits\n",
    "        preds.extend(torch.argmax(logits, dim=1).cpu().numpy())\n",
    "        truths.extend(b_labels.cpu().numpy())\n",
    "\n",
    "print(classification_report(truths, preds, target_names=['Not Sarcastic', 'Sarcastic']))"
   ]
  }
 ],
 "metadata": {
  "language_info": {
   "name": "python"
  }
 },
 "nbformat": 4,
 "nbformat_minor": 5
}
