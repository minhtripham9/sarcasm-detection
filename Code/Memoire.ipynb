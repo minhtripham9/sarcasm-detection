{
 "cells": [
  {
   "cell_type": "markdown",
   "id": "0b27209b",
   "metadata": {},
   "source": [
    "## Master's thesis : Evolution of sarcasm detection by using Machine Learning techniques"
   ]
  },
  {
   "cell_type": "markdown",
   "id": "29999824",
   "metadata": {},
   "source": [
    "### Managing imports"
   ]
  },
  {
   "cell_type": "code",
   "execution_count": 36,
   "id": "2a0db61b",
   "metadata": {},
   "outputs": [],
   "source": [
    "import pandas as pd\n",
    "from sklearn.model_selection import train_test_split\n",
    "from sklearn.svm import SVC\n",
    "from sklearn.feature_extraction.text import TfidfVectorizer\n",
    "import joblib\n",
    "from sklearn.metrics import classification_report, confusion_matrix\n",
    "import seaborn as sns\n",
    "import matplotlib.pyplot as plt"
   ]
  },
  {
   "cell_type": "markdown",
   "id": "2eed4fdd",
   "metadata": {},
   "source": [
    "### Reading datasets and formatting"
   ]
  },
  {
   "cell_type": "markdown",
   "id": "b08c8315",
   "metadata": {},
   "source": [
    "#### Loading dataset 1"
   ]
  },
  {
   "cell_type": "code",
   "execution_count": 37,
   "id": "fc939630",
   "metadata": {},
   "outputs": [
    {
     "name": "stderr",
     "output_type": "stream",
     "text": [
      "C:\\Users\\minht\\AppData\\Local\\Temp\\ipykernel_28460\\1197742467.py:5: FutureWarning: Downcasting behavior in `replace` is deprecated and will be removed in a future version. To retain the old behavior, explicitly call `result.infer_objects(copy=False)`. To opt-in to the future behavior, set `pd.set_option('future.no_silent_downcasting', True)`\n",
      "  df1['label'] = df1['label'].replace({'SARCASM': 1, 'NOT_SARCASM': 0}).astype(int)\n"
     ]
    },
    {
     "data": {
      "text/html": [
       "<div>\n",
       "<style scoped>\n",
       "    .dataframe tbody tr th:only-of-type {\n",
       "        vertical-align: middle;\n",
       "    }\n",
       "\n",
       "    .dataframe tbody tr th {\n",
       "        vertical-align: top;\n",
       "    }\n",
       "\n",
       "    .dataframe thead th {\n",
       "        text-align: right;\n",
       "    }\n",
       "</style>\n",
       "<table border=\"1\" class=\"dataframe\">\n",
       "  <thead>\n",
       "    <tr style=\"text-align: right;\">\n",
       "      <th></th>\n",
       "      <th>label</th>\n",
       "      <th>response</th>\n",
       "      <th>context</th>\n",
       "    </tr>\n",
       "  </thead>\n",
       "  <tbody>\n",
       "    <tr>\n",
       "      <th>0</th>\n",
       "      <td>1</td>\n",
       "      <td>Yeah I mean there's only one gender anyways, w...</td>\n",
       "      <td>LPT: If you're worried about hurting someone's...</td>\n",
       "    </tr>\n",
       "    <tr>\n",
       "      <th>1</th>\n",
       "      <td>1</td>\n",
       "      <td>Sounds like you don't like science, you theist...</td>\n",
       "      <td>Promotional images for some guy's Facebook pag...</td>\n",
       "    </tr>\n",
       "    <tr>\n",
       "      <th>2</th>\n",
       "      <td>1</td>\n",
       "      <td>Ofc play them in try mode, Blizzard were so ge...</td>\n",
       "      <td>My friends won't play Dota2; I won't play LoL;...</td>\n",
       "    </tr>\n",
       "    <tr>\n",
       "      <th>3</th>\n",
       "      <td>1</td>\n",
       "      <td>I don't understand, Reddit told me that Hillar...</td>\n",
       "      <td>Poll: Convention boosts Clinton to 11-point le...</td>\n",
       "    </tr>\n",
       "    <tr>\n",
       "      <th>4</th>\n",
       "      <td>1</td>\n",
       "      <td>yeh, they're the reigning triple premiers, why...</td>\n",
       "      <td>Wayne Ludbey: Jordan Lewis has the ultimate co...</td>\n",
       "    </tr>\n",
       "    <tr>\n",
       "      <th>...</th>\n",
       "      <td>...</td>\n",
       "      <td>...</td>\n",
       "      <td>...</td>\n",
       "    </tr>\n",
       "    <tr>\n",
       "      <th>4395</th>\n",
       "      <td>0</td>\n",
       "      <td>well you could've been adulting if you hadn't ...</td>\n",
       "      <td>8-9ft man found in ancient indian burial mound...</td>\n",
       "    </tr>\n",
       "    <tr>\n",
       "      <th>4396</th>\n",
       "      <td>0</td>\n",
       "      <td>Also they'll have to join the euro</td>\n",
       "      <td>Second Scottish independence referendum 'on th...</td>\n",
       "    </tr>\n",
       "    <tr>\n",
       "      <th>4397</th>\n",
       "      <td>0</td>\n",
       "      <td>plot: AI assists a cyborg in freelance investi...</td>\n",
       "      <td>Pinoy Cyborg by James Simmons ||| Mag-ingat sa...</td>\n",
       "    </tr>\n",
       "    <tr>\n",
       "      <th>4398</th>\n",
       "      <td>0</td>\n",
       "      <td>Some airlines proposed this but too much publi...</td>\n",
       "      <td>The logic here is flawless! ||| No it isn't, f...</td>\n",
       "    </tr>\n",
       "    <tr>\n",
       "      <th>4399</th>\n",
       "      <td>0</td>\n",
       "      <td>Any number of corporate shill organizations ba...</td>\n",
       "      <td>TIL One of the founding members of Greenpeace ...</td>\n",
       "    </tr>\n",
       "  </tbody>\n",
       "</table>\n",
       "<p>4400 rows × 3 columns</p>\n",
       "</div>"
      ],
      "text/plain": [
       "      label                                           response  \\\n",
       "0         1  Yeah I mean there's only one gender anyways, w...   \n",
       "1         1  Sounds like you don't like science, you theist...   \n",
       "2         1  Ofc play them in try mode, Blizzard were so ge...   \n",
       "3         1  I don't understand, Reddit told me that Hillar...   \n",
       "4         1  yeh, they're the reigning triple premiers, why...   \n",
       "...     ...                                                ...   \n",
       "4395      0  well you could've been adulting if you hadn't ...   \n",
       "4396      0                 Also they'll have to join the euro   \n",
       "4397      0  plot: AI assists a cyborg in freelance investi...   \n",
       "4398      0  Some airlines proposed this but too much publi...   \n",
       "4399      0  Any number of corporate shill organizations ba...   \n",
       "\n",
       "                                                context  \n",
       "0     LPT: If you're worried about hurting someone's...  \n",
       "1     Promotional images for some guy's Facebook pag...  \n",
       "2     My friends won't play Dota2; I won't play LoL;...  \n",
       "3     Poll: Convention boosts Clinton to 11-point le...  \n",
       "4     Wayne Ludbey: Jordan Lewis has the ultimate co...  \n",
       "...                                                 ...  \n",
       "4395  8-9ft man found in ancient indian burial mound...  \n",
       "4396  Second Scottish independence referendum 'on th...  \n",
       "4397  Pinoy Cyborg by James Simmons ||| Mag-ingat sa...  \n",
       "4398  The logic here is flawless! ||| No it isn't, f...  \n",
       "4399  TIL One of the founding members of Greenpeace ...  \n",
       "\n",
       "[4400 rows x 3 columns]"
      ]
     },
     "execution_count": 37,
     "metadata": {},
     "output_type": "execute_result"
    }
   ],
   "source": [
    "\n",
    "\n",
    "# Load the JSONL file (lines=True is key!)\n",
    "df1 = pd.read_json('../Dataset/sarcasm_detection_shared_task_reddit_training.jsonl', lines=True)\n",
    "\n",
    "# Map label: SARCASM -> 1, NOT_SARCASM -> 0\n",
    "df1['label'] = df1['label'].replace({'SARCASM': 1, 'NOT_SARCASM': 0}).astype(int)\n",
    "\n",
    "# Convert context list to string (join with ' ||| ')\n",
    "df1['context'] = df1['context'].apply(lambda x: ' ||| '.join(x) if isinstance(x, list) else '')\n",
    "\n",
    "# Save to CSV\n",
    "df1.to_csv('../Dataset/sarcasm_detection_training_data.csv', index=False, columns=['label', 'response', 'context'])\n",
    "df1\n"
   ]
  },
  {
   "cell_type": "markdown",
   "id": "c01b7d58",
   "metadata": {},
   "source": [
    "#### Dataset 1 preparation\n"
   ]
  },
  {
   "cell_type": "code",
   "execution_count": 38,
   "id": "c1d2f52e",
   "metadata": {},
   "outputs": [
    {
     "name": "stdout",
     "output_type": "stream",
     "text": [
      "                                          input_text  label\n",
      "0  LPT: If you're worried about hurting someone's...      1\n",
      "1  Promotional images for some guy's Facebook pag...      1\n",
      "2  My friends won't play Dota2; I won't play LoL;...      1\n",
      "3  Poll: Convention boosts Clinton to 11-point le...      1\n",
      "4  Wayne Ludbey: Jordan Lewis has the ultimate co...      1\n"
     ]
    }
   ],
   "source": [
    "df1['input_text'] = df1['context'] + ' [SEP] ' + df1['response']\n",
    "\n",
    "# Check the result\n",
    "print(df1[['input_text', 'label']].head())"
   ]
  },
  {
   "cell_type": "markdown",
   "id": "48da4aef",
   "metadata": {},
   "source": [
    "#### Loading Dataset 2"
   ]
  },
  {
   "cell_type": "code",
   "execution_count": 39,
   "id": "4c553c32",
   "metadata": {},
   "outputs": [
    {
     "data": {
      "text/html": [
       "<div>\n",
       "<style scoped>\n",
       "    .dataframe tbody tr th:only-of-type {\n",
       "        vertical-align: middle;\n",
       "    }\n",
       "\n",
       "    .dataframe tbody tr th {\n",
       "        vertical-align: top;\n",
       "    }\n",
       "\n",
       "    .dataframe thead th {\n",
       "        text-align: right;\n",
       "    }\n",
       "</style>\n",
       "<table border=\"1\" class=\"dataframe\">\n",
       "  <thead>\n",
       "    <tr style=\"text-align: right;\">\n",
       "      <th></th>\n",
       "      <th>label</th>\n",
       "      <th>response</th>\n",
       "      <th>context</th>\n",
       "    </tr>\n",
       "  </thead>\n",
       "  <tbody>\n",
       "    <tr>\n",
       "      <th>0</th>\n",
       "      <td>1</td>\n",
       "      <td>That's exactly what a country who made up a ho...</td>\n",
       "      <td>China Tells Trump That Climate Change Is No Ho...</td>\n",
       "    </tr>\n",
       "    <tr>\n",
       "      <th>1</th>\n",
       "      <td>1</td>\n",
       "      <td>but it still snows</td>\n",
       "      <td>Facts for those who dispute man-made climate c...</td>\n",
       "    </tr>\n",
       "    <tr>\n",
       "      <th>2</th>\n",
       "      <td>0</td>\n",
       "      <td>lol, you can't make this stuff up.</td>\n",
       "      <td>\"Suppression of dissent is about as facist as ...</td>\n",
       "    </tr>\n",
       "    <tr>\n",
       "      <th>3</th>\n",
       "      <td>0</td>\n",
       "      <td>He didn't drink the compliance</td>\n",
       "      <td>The Worst \"Got Talent\" Judges Go on a Power Trip</td>\n",
       "    </tr>\n",
       "    <tr>\n",
       "      <th>4</th>\n",
       "      <td>0</td>\n",
       "      <td>In the Half Life series, the reason Gordon Fre...</td>\n",
       "      <td>What 'fan theories' have blown your mind with ...</td>\n",
       "    </tr>\n",
       "    <tr>\n",
       "      <th>...</th>\n",
       "      <td>...</td>\n",
       "      <td>...</td>\n",
       "      <td>...</td>\n",
       "    </tr>\n",
       "    <tr>\n",
       "      <th>4395</th>\n",
       "      <td>1</td>\n",
       "      <td>Not to be sexist but uhhhh, stupid women have ...</td>\n",
       "      <td>\"Not tryna be racist but uhhh\"</td>\n",
       "    </tr>\n",
       "    <tr>\n",
       "      <th>4396</th>\n",
       "      <td>0</td>\n",
       "      <td>He's opposed only when they don't pick him.</td>\n",
       "      <td>Wait wait. Please. Let me stop laughing at the...</td>\n",
       "    </tr>\n",
       "    <tr>\n",
       "      <th>4397</th>\n",
       "      <td>0</td>\n",
       "      <td>Round Aboot.</td>\n",
       "      <td>Canadian Solution to SimCity's Round-about Pro...</td>\n",
       "    </tr>\n",
       "    <tr>\n",
       "      <th>4398</th>\n",
       "      <td>0</td>\n",
       "      <td>That's some pretty impressive camouflage though.</td>\n",
       "      <td>As a hunter i find this super pathetic.</td>\n",
       "    </tr>\n",
       "    <tr>\n",
       "      <th>4399</th>\n",
       "      <td>0</td>\n",
       "      <td>Before I leave the house with my wife to go to...</td>\n",
       "      <td>I'm currently hidden in my GF's closet, waitin...</td>\n",
       "    </tr>\n",
       "  </tbody>\n",
       "</table>\n",
       "<p>4400 rows × 3 columns</p>\n",
       "</div>"
      ],
      "text/plain": [
       "      label                                           response  \\\n",
       "0         1  That's exactly what a country who made up a ho...   \n",
       "1         1                                 but it still snows   \n",
       "2         0                 lol, you can't make this stuff up.   \n",
       "3         0                     He didn't drink the compliance   \n",
       "4         0  In the Half Life series, the reason Gordon Fre...   \n",
       "...     ...                                                ...   \n",
       "4395      1  Not to be sexist but uhhhh, stupid women have ...   \n",
       "4396      0        He's opposed only when they don't pick him.   \n",
       "4397      0                                       Round Aboot.   \n",
       "4398      0   That's some pretty impressive camouflage though.   \n",
       "4399      0  Before I leave the house with my wife to go to...   \n",
       "\n",
       "                                                context  \n",
       "0     China Tells Trump That Climate Change Is No Ho...  \n",
       "1     Facts for those who dispute man-made climate c...  \n",
       "2     \"Suppression of dissent is about as facist as ...  \n",
       "3      The Worst \"Got Talent\" Judges Go on a Power Trip  \n",
       "4     What 'fan theories' have blown your mind with ...  \n",
       "...                                                 ...  \n",
       "4395                     \"Not tryna be racist but uhhh\"  \n",
       "4396  Wait wait. Please. Let me stop laughing at the...  \n",
       "4397  Canadian Solution to SimCity's Round-about Pro...  \n",
       "4398            As a hunter i find this super pathetic.  \n",
       "4399  I'm currently hidden in my GF's closet, waitin...  \n",
       "\n",
       "[4400 rows x 3 columns]"
      ]
     },
     "execution_count": 39,
     "metadata": {},
     "output_type": "execute_result"
    }
   ],
   "source": [
    "# Only read the first 4400 rows and specific columns\n",
    "cols_to_use = ['label', 'comment', 'parent_comment']\n",
    "\n",
    "df2 = pd.read_csv('../Dataset/train-balanced-sarcasm.csv', usecols=cols_to_use, nrows=4400)\n",
    "\n",
    "# Rename columns\n",
    "df2 = df2.rename(columns={\n",
    "    'comment': 'response',\n",
    "    'parent_comment': 'context'\n",
    "})\n",
    "\n",
    "# Save to CSV\n",
    "df2.to_csv('../Dataset/sarcasm_detection_single_context_training_data.csv', index=False)\n",
    "df2"
   ]
  },
  {
   "cell_type": "markdown",
   "id": "a8106709",
   "metadata": {},
   "source": [
    "#### Dataset 2 preparation"
   ]
  },
  {
   "cell_type": "code",
   "execution_count": 40,
   "id": "b0f08ebd",
   "metadata": {},
   "outputs": [
    {
     "name": "stdout",
     "output_type": "stream",
     "text": [
      "                                          input_text  label\n",
      "0  China Tells Trump That Climate Change Is No Ho...      1\n",
      "1  Facts for those who dispute man-made climate c...      1\n",
      "2  \"Suppression of dissent is about as facist as ...      0\n",
      "3  The Worst \"Got Talent\" Judges Go on a Power Tr...      0\n",
      "4  What 'fan theories' have blown your mind with ...      0\n"
     ]
    }
   ],
   "source": [
    "df2['input_text'] = df2['context'] + ' [SEP] ' + df2['response']\n",
    "\n",
    "# Check the result\n",
    "print(df2[['input_text', 'label']].head())"
   ]
  },
  {
   "cell_type": "markdown",
   "id": "44762ca1",
   "metadata": {},
   "source": [
    "#### Datasets value count"
   ]
  },
  {
   "cell_type": "code",
   "execution_count": 41,
   "id": "848450f1",
   "metadata": {},
   "outputs": [
    {
     "name": "stdout",
     "output_type": "stream",
     "text": [
      "Dataset 1:\n",
      "label\n",
      "1    2200\n",
      "0    2200\n",
      "Name: count, dtype: int64\n",
      "\n",
      "Dataset 2:\n",
      "label\n",
      "0    2504\n",
      "1    1896\n",
      "Name: count, dtype: int64\n"
     ]
    }
   ],
   "source": [
    "print(\"Dataset 1:\")\n",
    "print(df1['label'].value_counts())\n",
    "print(\"\\nDataset 2:\")\n",
    "print(df2['label'].value_counts())"
   ]
  },
  {
   "cell_type": "code",
   "execution_count": 42,
   "id": "be4e9a06",
   "metadata": {},
   "outputs": [
    {
     "name": "stdout",
     "output_type": "stream",
     "text": [
      "Train and test splits saved!\n"
     ]
    }
   ],
   "source": [
    "# Split\n",
    "X_train, X_test, y_train, y_test = train_test_split(\n",
    "    df1['input_text'], df1['label'],\n",
    "    test_size=0.2, random_state=42, stratify=df1['label']\n",
    ")\n",
    "\n",
    "# Save train\n",
    "train_df1 = pd.DataFrame({'input_text': X_train, 'label': y_train})\n",
    "train_df1.to_csv(\"../Dataset/train_data.csv\", index=False)\n",
    "\n",
    "# Save test\n",
    "test_df1 = pd.DataFrame({'input_text': X_test, 'label': y_test})\n",
    "test_df1.to_csv(\"../Dataset/test_data.csv\", index=False)\n",
    "\n",
    "print(\"Train and test splits saved!\")\n"
   ]
  },
  {
   "cell_type": "code",
   "execution_count": 44,
   "id": "1ebd6ea6",
   "metadata": {},
   "outputs": [
    {
     "name": "stdout",
     "output_type": "stream",
     "text": [
      "Training complete. Model and vectorizer saved.\n"
     ]
    }
   ],
   "source": [
    "vectorizer = TfidfVectorizer(max_features=10000)\n",
    "X_train_vec = vectorizer.fit_transform(X_train)\n",
    "\n",
    "svm = SVC(class_weight='balanced', probability=True, random_state=42)\n",
    "svm.fit(X_train_vec, y_train)\n",
    "\n",
    "# Save the model and vectorizer for later use\n",
    "joblib.dump(svm, \"../Dataset/temp/svm_model.joblib\")\n",
    "joblib.dump(vectorizer, \"../Dataset/temp/tfidf_vectorizer.joblib\")\n",
    "\n",
    "print(\"Training complete. Model and vectorizer saved.\")"
   ]
  },
  {
   "cell_type": "code",
   "execution_count": 46,
   "id": "bb58825c",
   "metadata": {},
   "outputs": [
    {
     "name": "stdout",
     "output_type": "stream",
     "text": [
      "Classification Report:\n",
      "               precision    recall  f1-score   support\n",
      "\n",
      "           0       0.59      0.60      0.60       440\n",
      "           1       0.59      0.58      0.59       440\n",
      "\n",
      "    accuracy                           0.59       880\n",
      "   macro avg       0.59      0.59      0.59       880\n",
      "weighted avg       0.59      0.59      0.59       880\n",
      "\n"
     ]
    },
    {
     "data": {
      "image/png": "[encoded data removed]",
      "text/plain": [
       "<Figure size 600x500 with 2 Axes>"
      ]
     },
     "metadata": {},
     "output_type": "display_data"
    }
   ],
   "source": [
    "# Load test data, model, and vectorizer\n",
    "test_df = pd.read_csv(\"../Dataset/test_data.csv\")\n",
    "X_test = test_df['input_text']\n",
    "y_test = test_df['label']\n",
    "\n",
    "vectorizer = joblib.load(\"../Dataset/temp/tfidf_vectorizer.joblib\")\n",
    "svm = joblib.load(\"../Dataset/temp/svm_model.joblib\")\n",
    "\n",
    "# Transform test data and predict\n",
    "X_test_vec = vectorizer.transform(X_test)\n",
    "y_pred = svm.predict(X_test_vec)\n",
    "\n",
    "# Evaluate\n",
    "print(\"Classification Report:\\n\", classification_report(y_test, y_pred))\n",
    "\n",
    "cm = confusion_matrix(y_test, y_pred)\n",
    "labels = ['Not Sarcastic', 'Sarcastic']\n",
    "\n",
    "# Plot using seaborn\n",
    "plt.figure(figsize=(6, 5))\n",
    "sns.heatmap(cm, annot=True, fmt='d', cmap='Blues',\n",
    "            xticklabels=labels, yticklabels=labels)\n",
    "plt.xlabel('Predicted Label')\n",
    "plt.ylabel('True Label')\n",
    "plt.title('Confusion Matrix - SVM Sarcasm Detection')\n",
    "plt.tight_layout()\n",
    "plt.show()"
   ]
  }
 ],
 "metadata": {
  "kernelspec": {
   "display_name": "base",
   "language": "python",
   "name": "python3"
  },
  "language_info": {
   "codemirror_mode": {
    "name": "ipython",
    "version": 3
   },
   "file_extension": ".py",
   "mimetype": "text/x-python",
   "name": "python",
   "nbconvert_exporter": "python",
   "pygments_lexer": "ipython3",
   "version": "3.12.7"
  }
 },
 "nbformat": 4,
 "nbformat_minor": 5
}
