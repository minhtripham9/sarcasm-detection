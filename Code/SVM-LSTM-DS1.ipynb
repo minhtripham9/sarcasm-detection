{
 "cells": [
  {
   "cell_type": "markdown",
   "id": "0b27209b",
   "metadata": {},
   "source": [
    "## SVM-LSTM-DS1\n"
   ]
  },
  {
   "cell_type": "markdown",
   "id": "29999824",
   "metadata": {},
   "source": [
    "### Managing imports"
   ]
  },
  {
   "cell_type": "code",
   "execution_count": 42,
   "id": "8a6fe34c",
   "metadata": {},
   "outputs": [
    {
     "name": "stdout",
     "output_type": "stream",
     "text": [
      "Requirement already satisfied: tensorflow in c:\\users\\minht\\anaconda3\\lib\\site-packages (2.19.0)\n",
      "Requirement already satisfied: transformers in c:\\users\\minht\\anaconda3\\lib\\site-packages (4.54.0)\n",
      "Requirement already satisfied: torch in c:\\users\\minht\\anaconda3\\lib\\site-packages (2.7.1)\n",
      "Requirement already satisfied: datasets in c:\\users\\minht\\anaconda3\\lib\\site-packages (4.0.0)\n",
      "Requirement already satisfied: hf_xet in c:\\users\\minht\\anaconda3\\lib\\site-packages (1.1.5)\n",
      "Requirement already satisfied: absl-py>=1.0.0 in c:\\users\\minht\\anaconda3\\lib\\site-packages (from tensorflow) (2.3.1)\n",
      "Requirement already satisfied: astunparse>=1.6.0 in c:\\users\\minht\\anaconda3\\lib\\site-packages (from tensorflow) (1.6.3)\n",
      "Requirement already satisfied: flatbuffers>=24.3.25 in c:\\users\\minht\\anaconda3\\lib\\site-packages (from tensorflow) (25.2.10)\n",
      "Requirement already satisfied: gast!=0.5.0,!=0.5.1,!=0.5.2,>=0.2.1 in c:\\users\\minht\\anaconda3\\lib\\site-packages (from tensorflow) (0.6.0)\n",
      "Requirement already satisfied: google-pasta>=0.1.1 in c:\\users\\minht\\anaconda3\\lib\\site-packages (from tensorflow) (0.2.0)\n",
      "Requirement already satisfied: libclang>=13.0.0 in c:\\users\\minht\\anaconda3\\lib\\site-packages (from tensorflow) (18.1.1)\n",
      "Requirement already satisfied: opt-einsum>=2.3.2 in c:\\users\\minht\\anaconda3\\lib\\site-packages (from tensorflow) (3.4.0)\n",
      "Requirement already satisfied: packaging in c:\\users\\minht\\anaconda3\\lib\\site-packages (from tensorflow) (24.1)\n",
      "Requirement already satisfied: protobuf!=4.21.0,!=4.21.1,!=4.21.2,!=4.21.3,!=4.21.4,!=4.21.5,<6.0.0dev,>=3.20.3 in c:\\users\\minht\\anaconda3\\lib\\site-packages (from tensorflow) (4.25.3)\n",
      "Requirement already satisfied: requests<3,>=2.21.0 in c:\\users\\minht\\anaconda3\\lib\\site-packages (from tensorflow) (2.32.3)\n",
      "Requirement already satisfied: setuptools in c:\\users\\minht\\anaconda3\\lib\\site-packages (from tensorflow) (75.1.0)\n",
      "Requirement already satisfied: six>=1.12.0 in c:\\users\\minht\\anaconda3\\lib\\site-packages (from tensorflow) (1.16.0)\n",
      "Requirement already satisfied: termcolor>=1.1.0 in c:\\users\\minht\\anaconda3\\lib\\site-packages (from tensorflow) (3.1.0)\n",
      "Requirement already satisfied: typing-extensions>=3.6.6 in c:\\users\\minht\\anaconda3\\lib\\site-packages (from tensorflow) (4.11.0)\n",
      "Requirement already satisfied: wrapt>=1.11.0 in c:\\users\\minht\\anaconda3\\lib\\site-packages (from tensorflow) (1.14.1)\n",
      "Requirement already satisfied: grpcio<2.0,>=1.24.3 in c:\\users\\minht\\anaconda3\\lib\\site-packages (from tensorflow) (1.74.0)\n",
      "Requirement already satisfied: tensorboard~=2.19.0 in c:\\users\\minht\\anaconda3\\lib\\site-packages (from tensorflow) (2.19.0)\n",
      "Requirement already satisfied: keras>=3.5.0 in c:\\users\\minht\\anaconda3\\lib\\site-packages (from tensorflow) (3.10.0)\n",
      "Requirement already satisfied: numpy<2.2.0,>=1.26.0 in c:\\users\\minht\\anaconda3\\lib\\site-packages (from tensorflow) (1.26.4)\n",
      "Requirement already satisfied: h5py>=3.11.0 in c:\\users\\minht\\anaconda3\\lib\\site-packages (from tensorflow) (3.11.0)\n",
      "Requirement already satisfied: ml-dtypes<1.0.0,>=0.5.1 in c:\\users\\minht\\anaconda3\\lib\\site-packages (from tensorflow) (0.5.1)\n",
      "Requirement already satisfied: filelock in c:\\users\\minht\\anaconda3\\lib\\site-packages (from transformers) (3.13.1)\n",
      "Requirement already satisfied: huggingface-hub<1.0,>=0.34.0 in c:\\users\\minht\\anaconda3\\lib\\site-packages (from transformers) (0.34.2)\n",
      "Requirement already satisfied: pyyaml>=5.1 in c:\\users\\minht\\anaconda3\\lib\\site-packages (from transformers) (6.0.1)\n",
      "Requirement already satisfied: regex!=2019.12.17 in c:\\users\\minht\\anaconda3\\lib\\site-packages (from transformers) (2024.9.11)\n",
      "Requirement already satisfied: tokenizers<0.22,>=0.21 in c:\\users\\minht\\anaconda3\\lib\\site-packages (from transformers) (0.21.2)\n",
      "Requirement already satisfied: safetensors>=0.4.3 in c:\\users\\minht\\anaconda3\\lib\\site-packages (from transformers) (0.5.3)\n",
      "Requirement already satisfied: tqdm>=4.27 in c:\\users\\minht\\anaconda3\\lib\\site-packages (from transformers) (4.66.5)\n",
      "Requirement already satisfied: sympy>=1.13.3 in c:\\users\\minht\\anaconda3\\lib\\site-packages (from torch) (1.14.0)\n",
      "Requirement already satisfied: networkx in c:\\users\\minht\\anaconda3\\lib\\site-packages (from torch) (3.3)\n",
      "Requirement already satisfied: jinja2 in c:\\users\\minht\\anaconda3\\lib\\site-packages (from torch) (3.1.4)\n",
      "Requirement already satisfied: fsspec in c:\\users\\minht\\anaconda3\\lib\\site-packages (from torch) (2024.6.1)\n",
      "Requirement already satisfied: pyarrow>=15.0.0 in c:\\users\\minht\\anaconda3\\lib\\site-packages (from datasets) (16.1.0)\n",
      "Requirement already satisfied: dill<0.3.9,>=0.3.0 in c:\\users\\minht\\anaconda3\\lib\\site-packages (from datasets) (0.3.8)\n",
      "Requirement already satisfied: pandas in c:\\users\\minht\\anaconda3\\lib\\site-packages (from datasets) (2.2.2)\n",
      "Requirement already satisfied: xxhash in c:\\users\\minht\\anaconda3\\lib\\site-packages (from datasets) (3.5.0)\n",
      "Requirement already satisfied: multiprocess<0.70.17 in c:\\users\\minht\\anaconda3\\lib\\site-packages (from datasets) (0.70.16)\n",
      "Requirement already satisfied: wheel<1.0,>=0.23.0 in c:\\users\\minht\\anaconda3\\lib\\site-packages (from astunparse>=1.6.0->tensorflow) (0.44.0)\n",
      "Requirement already satisfied: aiohttp!=4.0.0a0,!=4.0.0a1 in c:\\users\\minht\\anaconda3\\lib\\site-packages (from fsspec[http]<=2025.3.0,>=2023.1.0->datasets) (3.10.5)\n",
      "Requirement already satisfied: rich in c:\\users\\minht\\anaconda3\\lib\\site-packages (from keras>=3.5.0->tensorflow) (13.7.1)\n",
      "Requirement already satisfied: namex in c:\\users\\minht\\anaconda3\\lib\\site-packages (from keras>=3.5.0->tensorflow) (0.1.0)\n",
      "Requirement already satisfied: optree in c:\\users\\minht\\anaconda3\\lib\\site-packages (from keras>=3.5.0->tensorflow) (0.17.0)\n",
      "Requirement already satisfied: charset-normalizer<4,>=2 in c:\\users\\minht\\anaconda3\\lib\\site-packages (from requests<3,>=2.21.0->tensorflow) (3.3.2)\n",
      "Requirement already satisfied: idna<4,>=2.5 in c:\\users\\minht\\anaconda3\\lib\\site-packages (from requests<3,>=2.21.0->tensorflow) (3.7)\n",
      "Requirement already satisfied: urllib3<3,>=1.21.1 in c:\\users\\minht\\anaconda3\\lib\\site-packages (from requests<3,>=2.21.0->tensorflow) (2.2.3)\n",
      "Requirement already satisfied: certifi>=2017.4.17 in c:\\users\\minht\\anaconda3\\lib\\site-packages (from requests<3,>=2.21.0->tensorflow) (2025.4.26)\n",
      "Requirement already satisfied: mpmath<1.4,>=1.1.0 in c:\\users\\minht\\anaconda3\\lib\\site-packages (from sympy>=1.13.3->torch) (1.3.0)\n",
      "Requirement already satisfied: markdown>=2.6.8 in c:\\users\\minht\\anaconda3\\lib\\site-packages (from tensorboard~=2.19.0->tensorflow) (3.4.1)\n",
      "Requirement already satisfied: tensorboard-data-server<0.8.0,>=0.7.0 in c:\\users\\minht\\anaconda3\\lib\\site-packages (from tensorboard~=2.19.0->tensorflow) (0.7.2)\n",
      "Requirement already satisfied: werkzeug>=1.0.1 in c:\\users\\minht\\anaconda3\\lib\\site-packages (from tensorboard~=2.19.0->tensorflow) (3.0.3)\n",
      "Requirement already satisfied: colorama in c:\\users\\minht\\anaconda3\\lib\\site-packages (from tqdm>=4.27->transformers) (0.4.6)\n",
      "Requirement already satisfied: MarkupSafe>=2.0 in c:\\users\\minht\\anaconda3\\lib\\site-packages (from jinja2->torch) (2.1.3)\n",
      "Requirement already satisfied: python-dateutil>=2.8.2 in c:\\users\\minht\\anaconda3\\lib\\site-packages (from pandas->datasets) (2.9.0.post0)\n",
      "Requirement already satisfied: pytz>=2020.1 in c:\\users\\minht\\anaconda3\\lib\\site-packages (from pandas->datasets) (2024.1)\n",
      "Requirement already satisfied: tzdata>=2022.7 in c:\\users\\minht\\anaconda3\\lib\\site-packages (from pandas->datasets) (2023.3)\n",
      "Requirement already satisfied: aiohappyeyeballs>=2.3.0 in c:\\users\\minht\\anaconda3\\lib\\site-packages (from aiohttp!=4.0.0a0,!=4.0.0a1->fsspec[http]<=2025.3.0,>=2023.1.0->datasets) (2.4.0)\n",
      "Requirement already satisfied: aiosignal>=1.1.2 in c:\\users\\minht\\anaconda3\\lib\\site-packages (from aiohttp!=4.0.0a0,!=4.0.0a1->fsspec[http]<=2025.3.0,>=2023.1.0->datasets) (1.2.0)\n",
      "Requirement already satisfied: attrs>=17.3.0 in c:\\users\\minht\\anaconda3\\lib\\site-packages (from aiohttp!=4.0.0a0,!=4.0.0a1->fsspec[http]<=2025.3.0,>=2023.1.0->datasets) (23.1.0)\n",
      "Requirement already satisfied: frozenlist>=1.1.1 in c:\\users\\minht\\anaconda3\\lib\\site-packages (from aiohttp!=4.0.0a0,!=4.0.0a1->fsspec[http]<=2025.3.0,>=2023.1.0->datasets) (1.4.0)\n",
      "Requirement already satisfied: multidict<7.0,>=4.5 in c:\\users\\minht\\anaconda3\\lib\\site-packages (from aiohttp!=4.0.0a0,!=4.0.0a1->fsspec[http]<=2025.3.0,>=2023.1.0->datasets) (6.0.4)\n",
      "Requirement already satisfied: yarl<2.0,>=1.0 in c:\\users\\minht\\anaconda3\\lib\\site-packages (from aiohttp!=4.0.0a0,!=4.0.0a1->fsspec[http]<=2025.3.0,>=2023.1.0->datasets) (1.11.0)\n",
      "Requirement already satisfied: markdown-it-py>=2.2.0 in c:\\users\\minht\\anaconda3\\lib\\site-packages (from rich->keras>=3.5.0->tensorflow) (2.2.0)\n",
      "Requirement already satisfied: pygments<3.0.0,>=2.13.0 in c:\\users\\minht\\anaconda3\\lib\\site-packages (from rich->keras>=3.5.0->tensorflow) (2.15.1)\n",
      "Requirement already satisfied: mdurl~=0.1 in c:\\users\\minht\\anaconda3\\lib\\site-packages (from markdown-it-py>=2.2.0->rich->keras>=3.5.0->tensorflow) (0.1.0)\n"
     ]
    }
   ],
   "source": [
    "!pip install tensorflow transformers torch datasets hf_xet"
   ]
  },
  {
   "cell_type": "code",
   "execution_count": 43,
   "id": "2a0db61b",
   "metadata": {},
   "outputs": [],
   "source": [
    "import pandas as pd\n",
    "import numpy as np\n",
    "import seaborn as sns\n",
    "import matplotlib.pyplot as plt\n",
    "import joblib\n",
    "import torch\n",
    "from sklearn.model_selection import train_test_split\n",
    "from sklearn.svm import SVC\n",
    "from sklearn.feature_extraction.text import TfidfVectorizer\n",
    "from sklearn.metrics import classification_report, confusion_matrix\n",
    "from transformers import AutoTokenizer\n",
    "from tensorflow.keras.preprocessing.text import Tokenizer\n",
    "from tensorflow.keras.preprocessing.sequence import pad_sequences\n",
    "from tensorflow.keras.models import Sequential\n",
    "from tensorflow.keras.layers import Embedding, LSTM, Dense, Dropout\n",
    "from torch.utils.data import TensorDataset, DataLoader\n",
    "from torch.optim import AdamW\n",
    "from tqdm import tqdm\n",
    "\n"
   ]
  },
  {
   "cell_type": "markdown",
   "id": "2eed4fdd",
   "metadata": {},
   "source": [
    "## Dataset 1"
   ]
  },
  {
   "cell_type": "markdown",
   "id": "b08c8315",
   "metadata": {},
   "source": [
    "#### Loading dataset 1"
   ]
  },
  {
   "cell_type": "code",
   "execution_count": null,
   "id": "fc939630",
   "metadata": {},
   "outputs": [
    {
     "name": "stderr",
     "output_type": "stream",
     "text": [
      "C:\\Users\\minht\\AppData\\Local\\Temp\\ipykernel_41052\\3828419867.py:5: FutureWarning: Downcasting behavior in `replace` is deprecated and will be removed in a future version. To retain the old behavior, explicitly call `result.infer_objects(copy=False)`. To opt-in to the future behavior, set `pd.set_option('future.no_silent_downcasting', True)`\n",
      "  df1['label'] = df1['label'].replace({'SARCASM': 1, 'NOT_SARCASM': 0}).astype(int)\n"
     ]
    },
    {
     "data": {
      "text/html": [
       "<div>\n",
       "<style scoped>\n",
       "    .dataframe tbody tr th:only-of-type {\n",
       "        vertical-align: middle;\n",
       "    }\n",
       "\n",
       "    .dataframe tbody tr th {\n",
       "        vertical-align: top;\n",
       "    }\n",
       "\n",
       "    .dataframe thead th {\n",
       "        text-align: right;\n",
       "    }\n",
       "</style>\n",
       "<table border=\"1\" class=\"dataframe\">\n",
       "  <thead>\n",
       "    <tr style=\"text-align: right;\">\n",
       "      <th></th>\n",
       "      <th>label</th>\n",
       "      <th>response</th>\n",
       "      <th>context</th>\n",
       "    </tr>\n",
       "  </thead>\n",
       "  <tbody>\n",
       "    <tr>\n",
       "      <th>0</th>\n",
       "      <td>1</td>\n",
       "      <td>Yeah I mean there's only one gender anyways, w...</td>\n",
       "      <td>LPT: If you're worried about hurting someone's...</td>\n",
       "    </tr>\n",
       "    <tr>\n",
       "      <th>1</th>\n",
       "      <td>1</td>\n",
       "      <td>Sounds like you don't like science, you theist...</td>\n",
       "      <td>Promotional images for some guy's Facebook pag...</td>\n",
       "    </tr>\n",
       "    <tr>\n",
       "      <th>2</th>\n",
       "      <td>1</td>\n",
       "      <td>Ofc play them in try mode, Blizzard were so ge...</td>\n",
       "      <td>My friends won't play Dota2; I won't play LoL;...</td>\n",
       "    </tr>\n",
       "    <tr>\n",
       "      <th>3</th>\n",
       "      <td>1</td>\n",
       "      <td>I don't understand, Reddit told me that Hillar...</td>\n",
       "      <td>Poll: Convention boosts Clinton to 11-point le...</td>\n",
       "    </tr>\n",
       "    <tr>\n",
       "      <th>4</th>\n",
       "      <td>1</td>\n",
       "      <td>yeh, they're the reigning triple premiers, why...</td>\n",
       "      <td>Wayne Ludbey: Jordan Lewis has the ultimate co...</td>\n",
       "    </tr>\n",
       "    <tr>\n",
       "      <th>...</th>\n",
       "      <td>...</td>\n",
       "      <td>...</td>\n",
       "      <td>...</td>\n",
       "    </tr>\n",
       "    <tr>\n",
       "      <th>4395</th>\n",
       "      <td>0</td>\n",
       "      <td>well you could've been adulting if you hadn't ...</td>\n",
       "      <td>8-9ft man found in ancient indian burial mound...</td>\n",
       "    </tr>\n",
       "    <tr>\n",
       "      <th>4396</th>\n",
       "      <td>0</td>\n",
       "      <td>Also they'll have to join the euro</td>\n",
       "      <td>Second Scottish independence referendum 'on th...</td>\n",
       "    </tr>\n",
       "    <tr>\n",
       "      <th>4397</th>\n",
       "      <td>0</td>\n",
       "      <td>plot: AI assists a cyborg in freelance investi...</td>\n",
       "      <td>Pinoy Cyborg by James Simmons ||| Mag-ingat sa...</td>\n",
       "    </tr>\n",
       "    <tr>\n",
       "      <th>4398</th>\n",
       "      <td>0</td>\n",
       "      <td>Some airlines proposed this but too much publi...</td>\n",
       "      <td>The logic here is flawless! ||| No it isn't, f...</td>\n",
       "    </tr>\n",
       "    <tr>\n",
       "      <th>4399</th>\n",
       "      <td>0</td>\n",
       "      <td>Any number of corporate shill organizations ba...</td>\n",
       "      <td>TIL One of the founding members of Greenpeace ...</td>\n",
       "    </tr>\n",
       "  </tbody>\n",
       "</table>\n",
       "<p>4400 rows × 3 columns</p>\n",
       "</div>"
      ],
      "text/plain": [
       "      label                                           response  \\\n",
       "0         1  Yeah I mean there's only one gender anyways, w...   \n",
       "1         1  Sounds like you don't like science, you theist...   \n",
       "2         1  Ofc play them in try mode, Blizzard were so ge...   \n",
       "3         1  I don't understand, Reddit told me that Hillar...   \n",
       "4         1  yeh, they're the reigning triple premiers, why...   \n",
       "...     ...                                                ...   \n",
       "4395      0  well you could've been adulting if you hadn't ...   \n",
       "4396      0                 Also they'll have to join the euro   \n",
       "4397      0  plot: AI assists a cyborg in freelance investi...   \n",
       "4398      0  Some airlines proposed this but too much publi...   \n",
       "4399      0  Any number of corporate shill organizations ba...   \n",
       "\n",
       "                                                context  \n",
       "0     LPT: If you're worried about hurting someone's...  \n",
       "1     Promotional images for some guy's Facebook pag...  \n",
       "2     My friends won't play Dota2; I won't play LoL;...  \n",
       "3     Poll: Convention boosts Clinton to 11-point le...  \n",
       "4     Wayne Ludbey: Jordan Lewis has the ultimate co...  \n",
       "...                                                 ...  \n",
       "4395  8-9ft man found in ancient indian burial mound...  \n",
       "4396  Second Scottish independence referendum 'on th...  \n",
       "4397  Pinoy Cyborg by James Simmons ||| Mag-ingat sa...  \n",
       "4398  The logic here is flawless! ||| No it isn't, f...  \n",
       "4399  TIL One of the founding members of Greenpeace ...  \n",
       "\n",
       "[4400 rows x 3 columns]"
      ]
     },
     "execution_count": 44,
     "metadata": {},
     "output_type": "execute_result"
    }
   ],
   "source": [
    "# Load the JSONL file (lines=True is key!)\n",
    "df1 = pd.read_json('../Dataset/sarcasm_detection_shared_task_reddit_training.jsonl', lines=True)\n",
    "\n",
    "# Map label: SARCASM -> 1, NOT_SARCASM -> 0\n",
    "df1['label'] = df1['label'].replace({'SARCASM': 1, 'NOT_SARCASM': 0}).astype(int)\n",
    "\n",
    "# Convert context list to string (join with ' ||| ')\n",
    "df1['context'] = df1['context'].apply(lambda x: ' '.join(x) if isinstance(x, list) else '')\n",
    "\n",
    "df1\n"
   ]
  },
  {
   "cell_type": "markdown",
   "id": "5c138a28",
   "metadata": {},
   "source": [
    "## Without context"
   ]
  },
  {
   "cell_type": "markdown",
   "id": "c01b7d58",
   "metadata": {},
   "source": [
    "#### Dataset 1 preparation\n"
   ]
  },
  {
   "cell_type": "code",
   "execution_count": 45,
   "id": "c1d2f52e",
   "metadata": {},
   "outputs": [
    {
     "name": "stdout",
     "output_type": "stream",
     "text": [
      "                                          input_text  label\n",
      "0  LPT: If you're worried about hurting someone's...      1\n",
      "1  Promotional images for some guy's Facebook pag...      1\n",
      "2  My friends won't play Dota2; I won't play LoL;...      1\n",
      "3  Poll: Convention boosts Clinton to 11-point le...      1\n",
      "4  Wayne Ludbey: Jordan Lewis has the ultimate co...      1\n"
     ]
    }
   ],
   "source": [
    "df1['input_text'] = df1['context'] #+ ' [SEP] ' + df1['response']\n",
    "\n",
    "# Check the result\n",
    "print(df1[['input_text', 'label']].head())\n"
   ]
  },
  {
   "cell_type": "markdown",
   "id": "5c97d6a0",
   "metadata": {},
   "source": [
    "#### Value count "
   ]
  },
  {
   "cell_type": "code",
   "execution_count": 46,
   "id": "44ac8db9",
   "metadata": {},
   "outputs": [
    {
     "name": "stdout",
     "output_type": "stream",
     "text": [
      "label\n",
      "1    2200\n",
      "0    2200\n",
      "Name: count, dtype: int64\n"
     ]
    }
   ],
   "source": [
    "print(df1['label'].value_counts())"
   ]
  },
  {
   "cell_type": "markdown",
   "id": "a9fc70c2",
   "metadata": {},
   "source": [
    "### SVM Classification"
   ]
  },
  {
   "cell_type": "markdown",
   "id": "48da4aef",
   "metadata": {},
   "source": [
    "#### Splitting"
   ]
  },
  {
   "cell_type": "code",
   "execution_count": 47,
   "id": "b63a5c2d",
   "metadata": {},
   "outputs": [],
   "source": [
    "# Split\n",
    "X_train_SVM, X_test_SVM, y_train_SVM, y_test_SVM = train_test_split(\n",
    "    df1['input_text'], df1['label'],\n",
    "    test_size=0.2, random_state=42, stratify=df1['label']\n",
    ")\n",
    "\n",
    "train_df1 = pd.DataFrame({'input_text': X_train_SVM, 'label': y_train_SVM})\n",
    "test_df1 = pd.DataFrame({'input_text': X_test_SVM, 'label': y_test_SVM})"
   ]
  },
  {
   "cell_type": "markdown",
   "id": "b7fa1141",
   "metadata": {},
   "source": [
    "#### Training"
   ]
  },
  {
   "cell_type": "code",
   "execution_count": 48,
   "id": "e9700961",
   "metadata": {},
   "outputs": [
    {
     "name": "stdout",
     "output_type": "stream",
     "text": [
      "Training complete. Model and vectorizer saved.\n"
     ]
    }
   ],
   "source": [
    "vectorizer = TfidfVectorizer(max_features=10000)\n",
    "X_train_vec = vectorizer.fit_transform(X_train_SVM)\n",
    "\n",
    "svm = SVC(class_weight='balanced', probability=True, random_state=42)\n",
    "svm.fit(X_train_vec, y_train_SVM)\n",
    "\n",
    "# Save the model and vectorizer for later use\n",
    "joblib.dump(svm, \"../Dataset/temp/svm_model.joblib\")\n",
    "joblib.dump(vectorizer, \"../Dataset/temp/tfidf_vectorizer.joblib\")\n",
    "\n",
    "print(\"Training complete. Model and vectorizer saved.\")"
   ]
  },
  {
   "cell_type": "markdown",
   "id": "51b8a1c9",
   "metadata": {},
   "source": [
    "#### Model evaluation"
   ]
  },
  {
   "cell_type": "code",
   "execution_count": 49,
   "id": "5621841e",
   "metadata": {},
   "outputs": [
    {
     "name": "stdout",
     "output_type": "stream",
     "text": [
      "Classification Report:\n",
      "               precision    recall  f1-score   support\n",
      "\n",
      "           0       0.57      0.53      0.55       440\n",
      "           1       0.56      0.60      0.58       440\n",
      "\n",
      "    accuracy                           0.56       880\n",
      "   macro avg       0.56      0.56      0.56       880\n",
      "weighted avg       0.56      0.56      0.56       880\n",
      "\n"
     ]
    },
    {
     "data": {
      "image/png": "[encoded data removed]",
      "text/plain": [
       "<Figure size 600x500 with 2 Axes>"
      ]
     },
     "metadata": {},
     "output_type": "display_data"
    }
   ],
   "source": [
    "# Load test data, model, and vectorizer\n",
    "X_test_SVM = test_df1['input_text']\n",
    "y_test_SVM = test_df1['label']\n",
    "\n",
    "vectorizer = joblib.load(\"../Dataset/temp/tfidf_vectorizer.joblib\")\n",
    "svm = joblib.load(\"../Dataset/temp/svm_model.joblib\")\n",
    "\n",
    "# Transform test data and predict\n",
    "X_test_vec_SVM = vectorizer.transform(X_test_SVM)\n",
    "y_pred_SVM = svm.predict(X_test_vec_SVM)\n",
    "\n",
    "# Evaluate\n",
    "print(\"Classification Report:\\n\", classification_report(y_test_SVM, y_pred_SVM))\n",
    "\n",
    "cm = confusion_matrix(y_test_SVM, y_pred_SVM)\n",
    "labels = ['Not Sarcastic', 'Sarcastic']\n",
    "\n",
    "# Plot using seaborn\n",
    "plt.figure(figsize=(6, 5))\n",
    "sns.heatmap(cm, annot=True, fmt='d', cmap='Blues',\n",
    "            xticklabels=labels, yticklabels=labels)\n",
    "plt.xlabel('Predicted Label')\n",
    "plt.ylabel('True Label')\n",
    "plt.title('Confusion Matrix - SVM Sarcasm Detection')\n",
    "plt.tight_layout()\n",
    "plt.show()"
   ]
  },
  {
   "cell_type": "markdown",
   "id": "3878bb98",
   "metadata": {},
   "source": [
    "### LSTM "
   ]
  },
  {
   "cell_type": "markdown",
   "id": "894c3c1c",
   "metadata": {},
   "source": [
    "#### Splitting "
   ]
  },
  {
   "cell_type": "code",
   "execution_count": 50,
   "id": "0369febf",
   "metadata": {},
   "outputs": [],
   "source": [
    "X_train_LSTM = train_df1['input_text']\n",
    "y_train_LSTM = train_df1['label']\n",
    "X_test_LSTM = test_df1['input_text']\n",
    "y_test_LSTM = test_df1['label']\n",
    "\n",
    "max_words = 10000   # Vocabulary size\n",
    "max_len = 200      # Max sequence length (adjust as needed)\n",
    "\n",
    "# Fit tokenizer on training data\n",
    "tokenizer = Tokenizer(num_words=max_words, oov_token=\"<OOV>\")\n",
    "tokenizer.fit_on_texts(X_train_LSTM)\n",
    "\n",
    "# Convert texts to sequences\n",
    "X_train_seq_LSTM = tokenizer.texts_to_sequences(X_train_LSTM)\n",
    "X_test_seq_LSTM = tokenizer.texts_to_sequences(X_test_LSTM)\n",
    "\n",
    "# Pad sequences\n",
    "X_train_pad_LSTM = pad_sequences(X_train_seq_LSTM, maxlen=max_len, padding='post', truncating='post')\n",
    "X_test_pad_LSTM = pad_sequences(X_test_seq_LSTM, maxlen=max_len, padding='post', truncating='post')"
   ]
  },
  {
   "cell_type": "markdown",
   "id": "8c857c62",
   "metadata": {},
   "source": [
    "#### Training"
   ]
  },
  {
   "cell_type": "code",
   "execution_count": 51,
   "id": "ac06816e",
   "metadata": {},
   "outputs": [
    {
     "data": {
      "text/html": [
       "<pre style=\"white-space:pre;overflow-x:auto;line-height:normal;font-family:Menlo,'DejaVu Sans Mono',consolas,'Courier New',monospace\"><span style=\"font-weight: bold\">Model: \"sequential_3\"</span>\n",
       "</pre>\n"
      ],
      "text/plain": [
       "\u001b[1mModel: \"sequential_3\"\u001b[0m\n"
      ]
     },
     "metadata": {},
     "output_type": "display_data"
    },
    {
     "data": {
      "text/html": [
       "<pre style=\"white-space:pre;overflow-x:auto;line-height:normal;font-family:Menlo,'DejaVu Sans Mono',consolas,'Courier New',monospace\">┏━━━━━━━━━━━━━━━━━━━━━━━━━━━━━━━━━┳━━━━━━━━━━━━━━━━━━━━━━━━┳━━━━━━━━━━━━━━━┓\n",
       "┃<span style=\"font-weight: bold\"> Layer (type)                    </span>┃<span style=\"font-weight: bold\"> Output Shape           </span>┃<span style=\"font-weight: bold\">       Param # </span>┃\n",
       "┡━━━━━━━━━━━━━━━━━━━━━━━━━━━━━━━━━╇━━━━━━━━━━━━━━━━━━━━━━━━╇━━━━━━━━━━━━━━━┩\n",
       "│ embedding_3 (<span style=\"color: #0087ff; text-decoration-color: #0087ff\">Embedding</span>)         │ ?                      │   <span style=\"color: #00af00; text-decoration-color: #00af00\">0</span> (unbuilt) │\n",
       "├─────────────────────────────────┼────────────────────────┼───────────────┤\n",
       "│ lstm_3 (<span style=\"color: #0087ff; text-decoration-color: #0087ff\">LSTM</span>)                   │ ?                      │   <span style=\"color: #00af00; text-decoration-color: #00af00\">0</span> (unbuilt) │\n",
       "├─────────────────────────────────┼────────────────────────┼───────────────┤\n",
       "│ dropout_3 (<span style=\"color: #0087ff; text-decoration-color: #0087ff\">Dropout</span>)             │ ?                      │             <span style=\"color: #00af00; text-decoration-color: #00af00\">0</span> │\n",
       "├─────────────────────────────────┼────────────────────────┼───────────────┤\n",
       "│ dense_6 (<span style=\"color: #0087ff; text-decoration-color: #0087ff\">Dense</span>)                 │ ?                      │   <span style=\"color: #00af00; text-decoration-color: #00af00\">0</span> (unbuilt) │\n",
       "├─────────────────────────────────┼────────────────────────┼───────────────┤\n",
       "│ dense_7 (<span style=\"color: #0087ff; text-decoration-color: #0087ff\">Dense</span>)                 │ ?                      │   <span style=\"color: #00af00; text-decoration-color: #00af00\">0</span> (unbuilt) │\n",
       "└─────────────────────────────────┴────────────────────────┴───────────────┘\n",
       "</pre>\n"
      ],
      "text/plain": [
       "┏━━━━━━━━━━━━━━━━━━━━━━━━━━━━━━━━━┳━━━━━━━━━━━━━━━━━━━━━━━━┳━━━━━━━━━━━━━━━┓\n",
       "┃\u001b[1m \u001b[0m\u001b[1mLayer (type)                   \u001b[0m\u001b[1m \u001b[0m┃\u001b[1m \u001b[0m\u001b[1mOutput Shape          \u001b[0m\u001b[1m \u001b[0m┃\u001b[1m \u001b[0m\u001b[1m      Param #\u001b[0m\u001b[1m \u001b[0m┃\n",
       "┡━━━━━━━━━━━━━━━━━━━━━━━━━━━━━━━━━╇━━━━━━━━━━━━━━━━━━━━━━━━╇━━━━━━━━━━━━━━━┩\n",
       "│ embedding_3 (\u001b[38;5;33mEmbedding\u001b[0m)         │ ?                      │   \u001b[38;5;34m0\u001b[0m (unbuilt) │\n",
       "├─────────────────────────────────┼────────────────────────┼───────────────┤\n",
       "│ lstm_3 (\u001b[38;5;33mLSTM\u001b[0m)                   │ ?                      │   \u001b[38;5;34m0\u001b[0m (unbuilt) │\n",
       "├─────────────────────────────────┼────────────────────────┼───────────────┤\n",
       "│ dropout_3 (\u001b[38;5;33mDropout\u001b[0m)             │ ?                      │             \u001b[38;5;34m0\u001b[0m │\n",
       "├─────────────────────────────────┼────────────────────────┼───────────────┤\n",
       "│ dense_6 (\u001b[38;5;33mDense\u001b[0m)                 │ ?                      │   \u001b[38;5;34m0\u001b[0m (unbuilt) │\n",
       "├─────────────────────────────────┼────────────────────────┼───────────────┤\n",
       "│ dense_7 (\u001b[38;5;33mDense\u001b[0m)                 │ ?                      │   \u001b[38;5;34m0\u001b[0m (unbuilt) │\n",
       "└─────────────────────────────────┴────────────────────────┴───────────────┘\n"
      ]
     },
     "metadata": {},
     "output_type": "display_data"
    },
    {
     "data": {
      "text/html": [
       "<pre style=\"white-space:pre;overflow-x:auto;line-height:normal;font-family:Menlo,'DejaVu Sans Mono',consolas,'Courier New',monospace\"><span style=\"font-weight: bold\"> Total params: </span><span style=\"color: #00af00; text-decoration-color: #00af00\">0</span> (0.00 B)\n",
       "</pre>\n"
      ],
      "text/plain": [
       "\u001b[1m Total params: \u001b[0m\u001b[38;5;34m0\u001b[0m (0.00 B)\n"
      ]
     },
     "metadata": {},
     "output_type": "display_data"
    },
    {
     "data": {
      "text/html": [
       "<pre style=\"white-space:pre;overflow-x:auto;line-height:normal;font-family:Menlo,'DejaVu Sans Mono',consolas,'Courier New',monospace\"><span style=\"font-weight: bold\"> Trainable params: </span><span style=\"color: #00af00; text-decoration-color: #00af00\">0</span> (0.00 B)\n",
       "</pre>\n"
      ],
      "text/plain": [
       "\u001b[1m Trainable params: \u001b[0m\u001b[38;5;34m0\u001b[0m (0.00 B)\n"
      ]
     },
     "metadata": {},
     "output_type": "display_data"
    },
    {
     "data": {
      "text/html": [
       "<pre style=\"white-space:pre;overflow-x:auto;line-height:normal;font-family:Menlo,'DejaVu Sans Mono',consolas,'Courier New',monospace\"><span style=\"font-weight: bold\"> Non-trainable params: </span><span style=\"color: #00af00; text-decoration-color: #00af00\">0</span> (0.00 B)\n",
       "</pre>\n"
      ],
      "text/plain": [
       "\u001b[1m Non-trainable params: \u001b[0m\u001b[38;5;34m0\u001b[0m (0.00 B)\n"
      ]
     },
     "metadata": {},
     "output_type": "display_data"
    },
    {
     "name": "stdout",
     "output_type": "stream",
     "text": [
      "None\n",
      "Epoch 1/5\n",
      "\u001b[1m99/99\u001b[0m \u001b[32m━━━━━━━━━━━━━━━━━━━━\u001b[0m\u001b[37m\u001b[0m \u001b[1m92s\u001b[0m 415ms/step - accuracy: 0.4975 - loss: 0.6941 - val_accuracy: 0.4545 - val_loss: 0.6945\n",
      "Epoch 2/5\n",
      "\u001b[1m99/99\u001b[0m \u001b[32m━━━━━━━━━━━━━━━━━━━━\u001b[0m\u001b[37m\u001b[0m \u001b[1m27s\u001b[0m 268ms/step - accuracy: 0.5067 - loss: 0.6939 - val_accuracy: 0.4545 - val_loss: 0.6934\n",
      "Epoch 3/5\n",
      "\u001b[1m99/99\u001b[0m \u001b[32m━━━━━━━━━━━━━━━━━━━━\u001b[0m\u001b[37m\u001b[0m \u001b[1m24s\u001b[0m 238ms/step - accuracy: 0.5105 - loss: 0.6939 - val_accuracy: 0.4545 - val_loss: 0.6950\n",
      "Epoch 4/5\n",
      "\u001b[1m99/99\u001b[0m \u001b[32m━━━━━━━━━━━━━━━━━━━━\u001b[0m\u001b[37m\u001b[0m \u001b[1m24s\u001b[0m 238ms/step - accuracy: 0.5069 - loss: 0.6931 - val_accuracy: 0.5455 - val_loss: 0.6911\n",
      "Epoch 5/5\n",
      "\u001b[1m99/99\u001b[0m \u001b[32m━━━━━━━━━━━━━━━━━━━━\u001b[0m\u001b[37m\u001b[0m \u001b[1m26s\u001b[0m 258ms/step - accuracy: 0.5077 - loss: 0.6934 - val_accuracy: 0.5455 - val_loss: 0.6927\n"
     ]
    }
   ],
   "source": [
    "model = Sequential([\n",
    "    Embedding(input_dim=max_words, output_dim=128),\n",
    "    LSTM(64, return_sequences=False),\n",
    "    Dropout(0.3),\n",
    "    Dense(32, activation='relu'),\n",
    "    Dense(1, activation='sigmoid')\n",
    "])\n",
    "\n",
    "model.compile(loss='binary_crossentropy', optimizer='adam', metrics=['accuracy'])\n",
    "print(model.summary())\n",
    "\n",
    "# Train the model\n",
    "history = model.fit(\n",
    "    X_train_pad_LSTM, y_train_LSTM,\n",
    "    epochs=5,             # You can increase epochs if you want\n",
    "    batch_size=32,\n",
    "    validation_split=0.1  # Reserve part of train for validation\n",
    ")\n"
   ]
  },
  {
   "cell_type": "markdown",
   "id": "c9f5117c",
   "metadata": {},
   "source": [
    "#### Evaluation"
   ]
  },
  {
   "cell_type": "code",
   "execution_count": 52,
   "id": "7863d4a2",
   "metadata": {},
   "outputs": [
    {
     "name": "stdout",
     "output_type": "stream",
     "text": [
      "\u001b[1m28/28\u001b[0m \u001b[32m━━━━━━━━━━━━━━━━━━━━\u001b[0m\u001b[37m\u001b[0m \u001b[1m7s\u001b[0m 117ms/step - accuracy: 0.5034 - loss: 0.6931\n",
      "Test Accuracy: 0.5000\n",
      "\u001b[1m28/28\u001b[0m \u001b[32m━━━━━━━━━━━━━━━━━━━━\u001b[0m\u001b[37m\u001b[0m \u001b[1m5s\u001b[0m 149ms/step\n",
      "               precision    recall  f1-score   support\n",
      "\n",
      "Not Sarcastic       0.00      0.00      0.00       440\n",
      "    Sarcastic       0.50      1.00      0.67       440\n",
      "\n",
      "     accuracy                           0.50       880\n",
      "    macro avg       0.25      0.50      0.33       880\n",
      " weighted avg       0.25      0.50      0.33       880\n"
     ]
    },
    {
     "name": "stderr",
     "output_type": "stream",
     "text": [
      "c:\\Users\\minht\\anaconda3\\Lib\\site-packages\\sklearn\\metrics\\_classification.py:1531: UndefinedMetricWarning: Precision is ill-defined and being set to 0.0 in labels with no predicted samples. Use `zero_division` parameter to control this behavior.\n",
      "  _warn_prf(average, modifier, f\"{metric.capitalize()} is\", len(result))\n",
      "c:\\Users\\minht\\anaconda3\\Lib\\site-packages\\sklearn\\metrics\\_classification.py:1531: UndefinedMetricWarning: Precision is ill-defined and being set to 0.0 in labels with no predicted samples. Use `zero_division` parameter to control this behavior.\n",
      "  _warn_prf(average, modifier, f\"{metric.capitalize()} is\", len(result))\n",
      "c:\\Users\\minht\\anaconda3\\Lib\\site-packages\\sklearn\\metrics\\_classification.py:1531: UndefinedMetricWarning: Precision is ill-defined and being set to 0.0 in labels with no predicted samples. Use `zero_division` parameter to control this behavior.\n",
      "  _warn_prf(average, modifier, f\"{metric.capitalize()} is\", len(result))\n"
     ]
    },
    {
     "name": "stdout",
     "output_type": "stream",
     "text": [
      "\n"
     ]
    },
    {
     "data": {
      "image/png": "[encoded data removed]",
      "text/plain": [
       "<Figure size 600x500 with 2 Axes>"
      ]
     },
     "metadata": {},
     "output_type": "display_data"
    }
   ],
   "source": [
    "loss, accuracy = model.evaluate(X_test_pad_LSTM, y_test_LSTM)\n",
    "print(f\"Test Accuracy: {accuracy:.4f}\")\n",
    "\n",
    "y_pred_prob_LSTM = model.predict(X_test_pad_LSTM)\n",
    "y_pred_LSTM = (y_pred_prob_LSTM > 0.5).astype(int).flatten()\n",
    "\n",
    "print(classification_report(y_test_LSTM, y_pred_LSTM, target_names=['Not Sarcastic', 'Sarcastic']))\n",
    "\n",
    "plt.figure(figsize=(6, 5))\n",
    "sns.heatmap(cm, annot=True, fmt='d', cmap='Blues',\n",
    "            xticklabels=labels, yticklabels=labels)\n",
    "plt.xlabel('Predicted Label')\n",
    "plt.ylabel('True Label')\n",
    "plt.title('Confusion Matrix - LSTM Sarcasm Detection')\n",
    "plt.tight_layout()\n",
    "plt.show()\n"
   ]
  },
  {
   "cell_type": "markdown",
   "id": "eb60c062",
   "metadata": {},
   "source": [
    "## With context\n"
   ]
  },
  {
   "cell_type": "markdown",
   "id": "fea4a0f5",
   "metadata": {},
   "source": [
    "#### Dataset 1 preparation\n"
   ]
  },
  {
   "cell_type": "code",
   "execution_count": 53,
   "id": "fa095460",
   "metadata": {},
   "outputs": [
    {
     "name": "stdout",
     "output_type": "stream",
     "text": [
      "                                          input_text  label\n",
      "0  LPT: If you're worried about hurting someone's...      1\n",
      "1  Promotional images for some guy's Facebook pag...      1\n",
      "2  My friends won't play Dota2; I won't play LoL;...      1\n",
      "3  Poll: Convention boosts Clinton to 11-point le...      1\n",
      "4  Wayne Ludbey: Jordan Lewis has the ultimate co...      1\n"
     ]
    }
   ],
   "source": [
    "df1['input_text'] = df1['context'] + ' [SEP] ' + df1['response']\n",
    "\n",
    "# Check the result\n",
    "print(df1[['input_text', 'label']].head())"
   ]
  },
  {
   "cell_type": "markdown",
   "id": "fd9f9ff0",
   "metadata": {},
   "source": [
    "#### Value count "
   ]
  },
  {
   "cell_type": "code",
   "execution_count": 54,
   "id": "4dc676fe",
   "metadata": {},
   "outputs": [
    {
     "name": "stdout",
     "output_type": "stream",
     "text": [
      "label\n",
      "1    2200\n",
      "0    2200\n",
      "Name: count, dtype: int64\n"
     ]
    }
   ],
   "source": [
    "print(df1['label'].value_counts())"
   ]
  },
  {
   "cell_type": "markdown",
   "id": "4190761d",
   "metadata": {},
   "source": [
    "### SVM Classification"
   ]
  },
  {
   "cell_type": "markdown",
   "id": "d512f6ff",
   "metadata": {},
   "source": [
    "#### Splitting"
   ]
  },
  {
   "cell_type": "code",
   "execution_count": 55,
   "id": "5f01ca3f",
   "metadata": {},
   "outputs": [],
   "source": [
    "# Split\n",
    "X_train_SVM, X_test_SVM, y_train_SVM, y_test_SVM = train_test_split(\n",
    "    df1['input_text'], df1['label'],\n",
    "    test_size=0.2, random_state=42, stratify=df1['label']\n",
    ")\n",
    "\n",
    "train_df1 = pd.DataFrame({'input_text': X_train_SVM, 'label': y_train_SVM})\n",
    "test_df1 = pd.DataFrame({'input_text': X_test_SVM, 'label': y_test_SVM})"
   ]
  },
  {
   "cell_type": "markdown",
   "id": "aacfd952",
   "metadata": {},
   "source": [
    "#### Training"
   ]
  },
  {
   "cell_type": "code",
   "execution_count": null,
   "id": "6f4ba43f",
   "metadata": {},
   "outputs": [],
   "source": [
    "vectorizer = TfidfVectorizer(max_features=10000)\n",
    "X_train_vec = vectorizer.fit_transform(X_train_SVM)\n",
    "\n",
    "svm = SVC(class_weight='balanced', probability=True, random_state=42)\n",
    "svm.fit(X_train_vec, y_train_SVM)\n",
    "\n",
    "# Save the model and vectorizer for later use\n",
    "joblib.dump(svm, \"../Dataset/temp/svm_model.joblib\")\n",
    "joblib.dump(vectorizer, \"../Dataset/temp/tfidf_vectorizer.joblib\")\n",
    "\n",
    "print(\"Training complete. Model and vectorizer saved.\")"
   ]
  },
  {
   "cell_type": "markdown",
   "id": "29ccf195",
   "metadata": {},
   "source": [
    "#### Model evaluation"
   ]
  },
  {
   "cell_type": "code",
   "execution_count": null,
   "id": "7c63614d",
   "metadata": {},
   "outputs": [],
   "source": [
    "# Load test data, model, and vectorizer\n",
    "X_test_SVM = test_df1['input_text']\n",
    "y_test_SVM = test_df1['label']\n",
    "\n",
    "vectorizer = joblib.load(\"../Dataset/temp/tfidf_vectorizer.joblib\")\n",
    "svm = joblib.load(\"../Dataset/temp/svm_model.joblib\")\n",
    "\n",
    "# Transform test data and predict\n",
    "X_test_vec_SVM = vectorizer.transform(X_test_SVM)\n",
    "y_pred_SVM = svm.predict(X_test_vec_SVM)\n",
    "\n",
    "# Evaluate\n",
    "print(\"Classification Report:\\n\", classification_report(y_test_SVM, y_pred_SVM))\n",
    "\n",
    "cm = confusion_matrix(y_test_SVM, y_pred_SVM)\n",
    "labels = ['Not Sarcastic', 'Sarcastic']\n",
    "\n",
    "# Plot using seaborn\n",
    "plt.figure(figsize=(6, 5))\n",
    "sns.heatmap(cm, annot=True, fmt='d', cmap='Blues',\n",
    "            xticklabels=labels, yticklabels=labels)\n",
    "plt.xlabel('Predicted Label')\n",
    "plt.ylabel('True Label')\n",
    "plt.title('Confusion Matrix - SVM Sarcasm Detection')\n",
    "plt.tight_layout()\n",
    "plt.show()"
   ]
  },
  {
   "cell_type": "markdown",
   "id": "b2932342",
   "metadata": {},
   "source": [
    "### LSTM "
   ]
  },
  {
   "cell_type": "markdown",
   "id": "424f0f29",
   "metadata": {},
   "source": [
    "#### Splitting "
   ]
  },
  {
   "cell_type": "code",
   "execution_count": null,
   "id": "6cdcd85e",
   "metadata": {},
   "outputs": [],
   "source": [
    "X_train_LSTM = train_df1['input_text']\n",
    "y_train_LSTM = train_df1['label']\n",
    "X_test_LSTM = test_df1['input_text']\n",
    "y_test_LSTM = test_df1['label']\n",
    "\n",
    "max_words = 10000   # Vocabulary size\n",
    "max_len = 200      # Max sequence length (adjust as needed)\n",
    "\n",
    "# Fit tokenizer on training data\n",
    "tokenizer = Tokenizer(num_words=max_words, oov_token=\"<OOV>\")\n",
    "tokenizer.fit_on_texts(X_train_LSTM)\n",
    "\n",
    "# Convert texts to sequences\n",
    "X_train_seq_LSTM = tokenizer.texts_to_sequences(X_train_LSTM)\n",
    "X_test_seq_LSTM = tokenizer.texts_to_sequences(X_test_LSTM)\n",
    "\n",
    "# Pad sequences\n",
    "X_train_pad_LSTM = pad_sequences(X_train_seq_LSTM, maxlen=max_len, padding='post', truncating='post')\n",
    "X_test_pad_LSTM = pad_sequences(X_test_seq_LSTM, maxlen=max_len, padding='post', truncating='post')"
   ]
  },
  {
   "cell_type": "markdown",
   "id": "7b6291b5",
   "metadata": {},
   "source": [
    "#### Training"
   ]
  },
  {
   "cell_type": "code",
   "execution_count": null,
   "id": "db3800a5",
   "metadata": {},
   "outputs": [],
   "source": [
    "model = Sequential([\n",
    "    Embedding(input_dim=max_words, output_dim=128),\n",
    "    LSTM(64, return_sequences=False),\n",
    "    Dropout(0.3),\n",
    "    Dense(32, activation='relu'),\n",
    "    Dense(1, activation='sigmoid')\n",
    "])\n",
    "\n",
    "model.compile(loss='binary_crossentropy', optimizer='adam', metrics=['accuracy'])\n",
    "print(model.summary())\n",
    "\n",
    "# Train the model\n",
    "history = model.fit(\n",
    "    X_train_pad_LSTM, y_train_LSTM,\n",
    "    epochs=5,             # You can increase epochs if you want\n",
    "    batch_size=32,\n",
    "    validation_split=0.1  # Reserve part of train for validation\n",
    ")\n"
   ]
  },
  {
   "cell_type": "markdown",
   "id": "59911a9a",
   "metadata": {},
   "source": [
    "#### Evaluation"
   ]
  },
  {
   "cell_type": "code",
   "execution_count": null,
   "id": "3f01a014",
   "metadata": {},
   "outputs": [],
   "source": [
    "loss, accuracy = model.evaluate(X_test_pad_LSTM, y_test_LSTM)\n",
    "print(f\"Test Accuracy: {accuracy:.4f}\")\n",
    "\n",
    "y_pred_prob_LSTM = model.predict(X_test_pad_LSTM)\n",
    "y_pred_LSTM = (y_pred_prob_LSTM > 0.5).astype(int).flatten()\n",
    "\n",
    "print(classification_report(y_test_LSTM, y_pred_LSTM, target_names=['Not Sarcastic', 'Sarcastic']))\n",
    "\n",
    "plt.figure(figsize=(6, 5))\n",
    "sns.heatmap(cm, annot=True, fmt='d', cmap='Blues',\n",
    "            xticklabels=labels, yticklabels=labels)\n",
    "plt.xlabel('Predicted Label')\n",
    "plt.ylabel('True Label')\n",
    "plt.title('Confusion Matrix - LSTM Sarcasm Detection')\n",
    "plt.tight_layout()\n",
    "plt.show()\n"
   ]
  }
 ],
 "metadata": {
  "kernelspec": {
   "display_name": "base",
   "language": "python",
   "name": "python3"
  },
  "language_info": {
   "codemirror_mode": {
    "name": "ipython",
    "version": 3
   },
   "file_extension": ".py",
   "mimetype": "text/x-python",
   "name": "python",
   "nbconvert_exporter": "python",
   "pygments_lexer": "ipython3",
   "version": "3.12.7"
  }
 },
 "nbformat": 4,
 "nbformat_minor": 5
}
