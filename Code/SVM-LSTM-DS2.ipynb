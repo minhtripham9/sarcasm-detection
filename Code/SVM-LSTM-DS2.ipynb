{
 "cells": [
  {
   "cell_type": "markdown",
   "id": "38811dee",
   "metadata": {},
   "source": [
    "#### Dataset 2 preparation"
   ]
  },
  {
   "cell_type": "code",
   "execution_count": null,
   "id": "f4f1a489",
   "metadata": {},
   "outputs": [
    {
     "data": {
      "text/html": [
       "<div>\n",
       "<style scoped>\n",
       "    .dataframe tbody tr th:only-of-type {\n",
       "        vertical-align: middle;\n",
       "    }\n",
       "\n",
       "    .dataframe tbody tr th {\n",
       "        vertical-align: top;\n",
       "    }\n",
       "\n",
       "    .dataframe thead th {\n",
       "        text-align: right;\n",
       "    }\n",
       "</style>\n",
       "<table border=\"1\" class=\"dataframe\">\n",
       "  <thead>\n",
       "    <tr style=\"text-align: right;\">\n",
       "      <th></th>\n",
       "      <th>label</th>\n",
       "      <th>response</th>\n",
       "      <th>context</th>\n",
       "    </tr>\n",
       "  </thead>\n",
       "  <tbody>\n",
       "    <tr>\n",
       "      <th>0</th>\n",
       "      <td>1</td>\n",
       "      <td>That's exactly what a country who made up a ho...</td>\n",
       "      <td>China Tells Trump That Climate Change Is No Ho...</td>\n",
       "    </tr>\n",
       "    <tr>\n",
       "      <th>1</th>\n",
       "      <td>1</td>\n",
       "      <td>but it still snows</td>\n",
       "      <td>Facts for those who dispute man-made climate c...</td>\n",
       "    </tr>\n",
       "    <tr>\n",
       "      <th>2</th>\n",
       "      <td>0</td>\n",
       "      <td>lol, you can't make this stuff up.</td>\n",
       "      <td>\"Suppression of dissent is about as facist as ...</td>\n",
       "    </tr>\n",
       "    <tr>\n",
       "      <th>3</th>\n",
       "      <td>0</td>\n",
       "      <td>He didn't drink the compliance</td>\n",
       "      <td>The Worst \"Got Talent\" Judges Go on a Power Trip</td>\n",
       "    </tr>\n",
       "    <tr>\n",
       "      <th>4</th>\n",
       "      <td>0</td>\n",
       "      <td>In the Half Life series, the reason Gordon Fre...</td>\n",
       "      <td>What 'fan theories' have blown your mind with ...</td>\n",
       "    </tr>\n",
       "    <tr>\n",
       "      <th>...</th>\n",
       "      <td>...</td>\n",
       "      <td>...</td>\n",
       "      <td>...</td>\n",
       "    </tr>\n",
       "    <tr>\n",
       "      <th>4395</th>\n",
       "      <td>1</td>\n",
       "      <td>Not to be sexist but uhhhh, stupid women have ...</td>\n",
       "      <td>\"Not tryna be racist but uhhh\"</td>\n",
       "    </tr>\n",
       "    <tr>\n",
       "      <th>4396</th>\n",
       "      <td>0</td>\n",
       "      <td>He's opposed only when they don't pick him.</td>\n",
       "      <td>Wait wait. Please. Let me stop laughing at the...</td>\n",
       "    </tr>\n",
       "    <tr>\n",
       "      <th>4397</th>\n",
       "      <td>0</td>\n",
       "      <td>Round Aboot.</td>\n",
       "      <td>Canadian Solution to SimCity's Round-about Pro...</td>\n",
       "    </tr>\n",
       "    <tr>\n",
       "      <th>4398</th>\n",
       "      <td>0</td>\n",
       "      <td>That's some pretty impressive camouflage though.</td>\n",
       "      <td>As a hunter i find this super pathetic.</td>\n",
       "    </tr>\n",
       "    <tr>\n",
       "      <th>4399</th>\n",
       "      <td>0</td>\n",
       "      <td>Before I leave the house with my wife to go to...</td>\n",
       "      <td>I'm currently hidden in my GF's closet, waitin...</td>\n",
       "    </tr>\n",
       "  </tbody>\n",
       "</table>\n",
       "<p>4400 rows × 3 columns</p>\n",
       "</div>"
      ],
      "text/plain": [
       "      label                                           response  \\\n",
       "0         1  That's exactly what a country who made up a ho...   \n",
       "1         1                                 but it still snows   \n",
       "2         0                 lol, you can't make this stuff up.   \n",
       "3         0                     He didn't drink the compliance   \n",
       "4         0  In the Half Life series, the reason Gordon Fre...   \n",
       "...     ...                                                ...   \n",
       "4395      1  Not to be sexist but uhhhh, stupid women have ...   \n",
       "4396      0        He's opposed only when they don't pick him.   \n",
       "4397      0                                       Round Aboot.   \n",
       "4398      0   That's some pretty impressive camouflage though.   \n",
       "4399      0  Before I leave the house with my wife to go to...   \n",
       "\n",
       "                                                context  \n",
       "0     China Tells Trump That Climate Change Is No Ho...  \n",
       "1     Facts for those who dispute man-made climate c...  \n",
       "2     \"Suppression of dissent is about as facist as ...  \n",
       "3      The Worst \"Got Talent\" Judges Go on a Power Trip  \n",
       "4     What 'fan theories' have blown your mind with ...  \n",
       "...                                                 ...  \n",
       "4395                     \"Not tryna be racist but uhhh\"  \n",
       "4396  Wait wait. Please. Let me stop laughing at the...  \n",
       "4397  Canadian Solution to SimCity's Round-about Pro...  \n",
       "4398            As a hunter i find this super pathetic.  \n",
       "4399  I'm currently hidden in my GF's closet, waitin...  \n",
       "\n",
       "[4400 rows x 3 columns]"
      ]
     },
     "metadata": {},
     "output_type": "display_data"
    }
   ],
   "source": [
    "# Only read the first 4400 rows and specific columns\n",
    "cols_to_use = ['label', 'comment', 'parent_comment']\n",
    "\n",
    "df2 = pd.read_csv('../Dataset/train-balanced-sarcasm.csv', usecols=cols_to_use, nrows=4400)\n",
    "\n",
    "# Rename columns\n",
    "df2 = df2.rename(columns={\n",
    "    'comment': 'response',\n",
    "    'parent_comment': 'context'\n",
    "})\n",
    "\n",
    "# Save to CSV\n",
    "df2.to_csv('../Dataset/sarcasm_detection_single_context_training_data.csv', index=False)\n",
    "df2"
   ]
  },
  {
   "cell_type": "code",
   "execution_count": null,
   "id": "047e606a",
   "metadata": {},
   "outputs": [
    {
     "name": "stdout",
     "output_type": "stream",
     "text": [
      "                                          input_text  label\n",
      "0  China Tells Trump That Climate Change Is No Ho...      1\n",
      "1  Facts for those who dispute man-made climate c...      1\n",
      "2  \"Suppression of dissent is about as facist as ...      0\n",
      "3  The Worst \"Got Talent\" Judges Go on a Power Tr...      0\n",
      "4  What 'fan theories' have blown your mind with ...      0\n",
      "label\n",
      "0    2504\n",
      "1    1896\n",
      "Name: count, dtype: int64\n"
     ]
    }
   ],
   "source": [
    "df2['input_text'] = df2['context'] + ' [SEP] ' + df2['response']\n",
    "\n",
    "# Check the result\n",
    "print(df2[['input_text', 'label']].head())\n",
    "\n",
    "print(df2['label'].value_counts())"
   ]
  },
  {
   "cell_type": "code",
   "execution_count": null,
   "id": "1671ce3b",
   "metadata": {},
   "outputs": [
    {
     "name": "stdout",
     "output_type": "stream",
     "text": [
      "Train and test splits saved!\n"
     ]
    }
   ],
   "source": [
    "# Split\n",
    "X_train, X_test, y_train, y_test = train_test_split(\n",
    "    df2['input_text'], df2['label'],\n",
    "    test_size=0.2, random_state=42, stratify=df2['label']\n",
    ")\n",
    "\n",
    "# Save train\n",
    "train_df2 = pd.DataFrame({'input_text': X_train, 'label': y_train})\n",
    "train_df2.to_csv(\"../Dataset/train_data2.csv\", index=False)\n",
    "\n",
    "# Save test\n",
    "test_df2 = pd.DataFrame({'input_text': X_test, 'label': y_test})\n",
    "test_df2.to_csv(\"../Dataset/test_data2.csv\", index=False)\n",
    "\n",
    "print(\"Train and test splits saved!\")\n"
   ]
  },
  {
   "cell_type": "code",
   "execution_count": null,
   "id": "25f466f2",
   "metadata": {},
   "outputs": [
    {
     "name": "stdout",
     "output_type": "stream",
     "text": [
      "Training complete. Model and vectorizer saved.\n"
     ]
    }
   ],
   "source": [
    "vectorizer = TfidfVectorizer(max_features=10000)\n",
    "X_train_vec = vectorizer.fit_transform(X_train)\n",
    "\n",
    "svm = SVC(class_weight='balanced', probability=True, random_state=42)\n",
    "svm.fit(X_train_vec, y_train)\n",
    "\n",
    "# Save the model and vectorizer for later use\n",
    "joblib.dump(svm, \"../Dataset/temp/svm_model2.joblib\")\n",
    "joblib.dump(vectorizer, \"../Dataset/temp/tfidf_vectorizer2.joblib\")\n",
    "\n",
    "print(\"Training complete. Model and vectorizer saved.\")"
   ]
  },
  {
   "cell_type": "code",
   "execution_count": null,
   "id": "dd1f35b1",
   "metadata": {},
   "outputs": [
    {
     "name": "stdout",
     "output_type": "stream",
     "text": [
      "Classification Report:\n",
      "               precision    recall  f1-score   support\n",
      "\n",
      "           0       0.66      0.70      0.68       501\n",
      "           1       0.57      0.53      0.55       379\n",
      "\n",
      "    accuracy                           0.62       880\n",
      "   macro avg       0.62      0.61      0.61       880\n",
      "weighted avg       0.62      0.62      0.62       880\n",
      "\n"
     ]
    },
    {
     "data": {
      "image/png": "[encoded data removed]",
      "text/plain": [
       "<Figure size 600x500 with 2 Axes>"
      ]
     },
     "metadata": {},
     "output_type": "display_data"
    }
   ],
   "source": [
    "# Load test data, model, and vectorizer\n",
    "test_df = pd.read_csv(\"../Dataset/test_data2.csv\")\n",
    "X_test = test_df['input_text']\n",
    "y_test = test_df['label']\n",
    "\n",
    "vectorizer = joblib.load(\"../Dataset/temp/tfidf_vectorizer2.joblib\")\n",
    "svm = joblib.load(\"../Dataset/temp/svm_model2.joblib\")\n",
    "\n",
    "# Transform test data and predict\n",
    "X_test_vec = vectorizer.transform(X_test)\n",
    "y_pred = svm.predict(X_test_vec)\n",
    "\n",
    "# Evaluate\n",
    "print(\"Classification Report:\\n\", classification_report(y_test, y_pred))\n",
    "\n",
    "cm = confusion_matrix(y_test, y_pred)\n",
    "labels = ['Not Sarcastic', 'Sarcastic']\n",
    "\n",
    "# Plot using seaborn\n",
    "plt.figure(figsize=(6, 5))\n",
    "sns.heatmap(cm, annot=True, fmt='d', cmap='Blues',\n",
    "            xticklabels=labels, yticklabels=labels)\n",
    "plt.xlabel('Predicted Label')\n",
    "plt.ylabel('True Label')\n",
    "plt.title('Confusion Matrix - SVM Sarcasm Detection')\n",
    "plt.tight_layout()\n",
    "plt.show()"
   ]
  }
 ],
 "metadata": {
  "language_info": {
   "name": "python"
  }
 },
 "nbformat": 4,
 "nbformat_minor": 5
}
