{
  "cells": [
    {
      "cell_type": "markdown",
      "metadata": {
        "id": "view-in-github",
        "colab_type": "text"
      },
      "source": [
        "<a href=\"https://colab.research.google.com/github/minhtripham9/sarcasm-detection/blob/master/Code/byt5-DS1.ipynb\" target=\"_parent\"><img src=\"https://colab.research.google.com/assets/colab-badge.svg\" alt=\"Open In Colab\"/></a>"
      ]
    },
    {
      "cell_type": "markdown",
      "id": "0",
      "metadata": {
        "id": "0"
      },
      "source": [
        "## byt5-DS1"
      ]
    },
    {
      "cell_type": "markdown",
      "id": "1",
      "metadata": {
        "id": "1"
      },
      "source": [
        "### Managing imports"
      ]
    },
    {
      "cell_type": "code",
      "execution_count": 1,
      "id": "2",
      "metadata": {
        "id": "2"
      },
      "outputs": [],
      "source": [
        "import pandas as pd\n",
        "import numpy as np\n",
        "import seaborn as sns\n",
        "import matplotlib.pyplot as plt\n",
        "import joblib\n",
        "import torch\n",
        "from transformers import AutoTokenizer, AutoModelForSequenceClassification\n",
        "from sklearn.model_selection import train_test_split\n",
        "from sklearn.svm import SVC\n",
        "from sklearn.feature_extraction.text import TfidfVectorizer\n",
        "from sklearn.metrics import classification_report, confusion_matrix\n",
        "from tensorflow.keras.preprocessing.text import Tokenizer\n",
        "from tensorflow.keras.preprocessing.sequence import pad_sequences\n",
        "from tensorflow.keras.models import Sequential\n",
        "from tensorflow.keras.layers import Embedding, LSTM, Dense, Dropout\n",
        "from torch.utils.data import TensorDataset, DataLoader\n",
        "from torch.optim import AdamW\n",
        "from tqdm import tqdm\n",
        "\n"
      ]
    },
    {
      "cell_type": "markdown",
      "id": "3",
      "metadata": {
        "id": "3"
      },
      "source": [
        "## Without context"
      ]
    },
    {
      "cell_type": "markdown",
      "id": "4",
      "metadata": {
        "id": "4"
      },
      "source": [
        "#### Loading dataset 1"
      ]
    },
    {
      "cell_type": "code",
      "execution_count": 2,
      "id": "5",
      "metadata": {
        "id": "5",
        "outputId": "3a100218-8cb2-47d4-e82a-1a4472ec32d7",
        "colab": {
          "base_uri": "https://localhost:8080/",
          "height": 478
        }
      },
      "outputs": [
        {
          "output_type": "stream",
          "name": "stderr",
          "text": [
            "/tmp/ipython-input-189479802.py:5: FutureWarning: Downcasting behavior in `replace` is deprecated and will be removed in a future version. To retain the old behavior, explicitly call `result.infer_objects(copy=False)`. To opt-in to the future behavior, set `pd.set_option('future.no_silent_downcasting', True)`\n",
            "  df1['label'] = df1['label'].replace({'SARCASM': 1, 'NOT_SARCASM': 0}).astype(int)\n"
          ]
        },
        {
          "output_type": "execute_result",
          "data": {
            "text/plain": [
              "      label                                           response  \\\n",
              "0         1  Yeah I mean there's only one gender anyways, w...   \n",
              "1         1  Sounds like you don't like science, you theist...   \n",
              "2         1  Ofc play them in try mode, Blizzard were so ge...   \n",
              "3         1  I don't understand, Reddit told me that Hillar...   \n",
              "4         1  yeh, they're the reigning triple premiers, why...   \n",
              "...     ...                                                ...   \n",
              "4395      0  well you could've been adulting if you hadn't ...   \n",
              "4396      0                 Also they'll have to join the euro   \n",
              "4397      0  plot: AI assists a cyborg in freelance investi...   \n",
              "4398      0  Some airlines proposed this but too much publi...   \n",
              "4399      0  Any number of corporate shill organizations ba...   \n",
              "\n",
              "                                                context  \n",
              "0             When gender is unknown he/him is default.  \n",
              "1                    I wouldn't let that robot near me.  \n",
              "2     And if i want to play a chimp that isn't on fr...  \n",
              "3     +11 in PA +3 in AZ +15 in NH +9 in MI +1 in MO...  \n",
              "4     Live in the moment mate, it's not healthy to d...  \n",
              "...                                                 ...  \n",
              "4395  I want to let you know that your one comment h...  \n",
              "4396  A real border might be a turn off for Scottish...  \n",
              "4397  Honestly, this is a good idea for a pinoy cybe...  \n",
              "4398  So a fit person should be allowed to take extr...  \n",
              "4399                              Which ones are those?  \n",
              "\n",
              "[4400 rows x 3 columns]"
            ],
            "text/html": [
              "\n",
              "  <div id=\"df-aa691dc5-7cdc-4d6c-a4c4-431c5b50d872\" class=\"colab-df-container\">\n",
              "    <div>\n",
              "<style scoped>\n",
              "    .dataframe tbody tr th:only-of-type {\n",
              "        vertical-align: middle;\n",
              "    }\n",
              "\n",
              "    .dataframe tbody tr th {\n",
              "        vertical-align: top;\n",
              "    }\n",
              "\n",
              "    .dataframe thead th {\n",
              "        text-align: right;\n",
              "    }\n",
              "</style>\n",
              "<table border=\"1\" class=\"dataframe\">\n",
              "  <thead>\n",
              "    <tr style=\"text-align: right;\">\n",
              "      <th></th>\n",
              "      <th>label</th>\n",
              "      <th>response</th>\n",
              "      <th>context</th>\n",
              "    </tr>\n",
              "  </thead>\n",
              "  <tbody>\n",
              "    <tr>\n",
              "      <th>0</th>\n",
              "      <td>1</td>\n",
              "      <td>Yeah I mean there's only one gender anyways, w...</td>\n",
              "      <td>When gender is unknown he/him is default.</td>\n",
              "    </tr>\n",
              "    <tr>\n",
              "      <th>1</th>\n",
              "      <td>1</td>\n",
              "      <td>Sounds like you don't like science, you theist...</td>\n",
              "      <td>I wouldn't let that robot near me.</td>\n",
              "    </tr>\n",
              "    <tr>\n",
              "      <th>2</th>\n",
              "      <td>1</td>\n",
              "      <td>Ofc play them in try mode, Blizzard were so ge...</td>\n",
              "      <td>And if i want to play a chimp that isn't on fr...</td>\n",
              "    </tr>\n",
              "    <tr>\n",
              "      <th>3</th>\n",
              "      <td>1</td>\n",
              "      <td>I don't understand, Reddit told me that Hillar...</td>\n",
              "      <td>+11 in PA +3 in AZ +15 in NH +9 in MI +1 in MO...</td>\n",
              "    </tr>\n",
              "    <tr>\n",
              "      <th>4</th>\n",
              "      <td>1</td>\n",
              "      <td>yeh, they're the reigning triple premiers, why...</td>\n",
              "      <td>Live in the moment mate, it's not healthy to d...</td>\n",
              "    </tr>\n",
              "    <tr>\n",
              "      <th>...</th>\n",
              "      <td>...</td>\n",
              "      <td>...</td>\n",
              "      <td>...</td>\n",
              "    </tr>\n",
              "    <tr>\n",
              "      <th>4395</th>\n",
              "      <td>0</td>\n",
              "      <td>well you could've been adulting if you hadn't ...</td>\n",
              "      <td>I want to let you know that your one comment h...</td>\n",
              "    </tr>\n",
              "    <tr>\n",
              "      <th>4396</th>\n",
              "      <td>0</td>\n",
              "      <td>Also they'll have to join the euro</td>\n",
              "      <td>A real border might be a turn off for Scottish...</td>\n",
              "    </tr>\n",
              "    <tr>\n",
              "      <th>4397</th>\n",
              "      <td>0</td>\n",
              "      <td>plot: AI assists a cyborg in freelance investi...</td>\n",
              "      <td>Honestly, this is a good idea for a pinoy cybe...</td>\n",
              "    </tr>\n",
              "    <tr>\n",
              "      <th>4398</th>\n",
              "      <td>0</td>\n",
              "      <td>Some airlines proposed this but too much publi...</td>\n",
              "      <td>So a fit person should be allowed to take extr...</td>\n",
              "    </tr>\n",
              "    <tr>\n",
              "      <th>4399</th>\n",
              "      <td>0</td>\n",
              "      <td>Any number of corporate shill organizations ba...</td>\n",
              "      <td>Which ones are those?</td>\n",
              "    </tr>\n",
              "  </tbody>\n",
              "</table>\n",
              "<p>4400 rows × 3 columns</p>\n",
              "</div>\n",
              "    <div class=\"colab-df-buttons\">\n",
              "\n",
              "  <div class=\"colab-df-container\">\n",
              "    <button class=\"colab-df-convert\" onclick=\"convertToInteractive('df-aa691dc5-7cdc-4d6c-a4c4-431c5b50d872')\"\n",
              "            title=\"Convert this dataframe to an interactive table.\"\n",
              "            style=\"display:none;\">\n",
              "\n",
              "  <svg xmlns=\"http://www.w3.org/2000/svg\" height=\"24px\" viewBox=\"0 -960 960 960\">\n",
              "    <path d=\"M120-120v-720h720v720H120Zm60-500h600v-160H180v160Zm220 220h160v-160H400v160Zm0 220h160v-160H400v160ZM180-400h160v-160H180v160Zm440 0h160v-160H620v160ZM180-180h160v-160H180v160Zm440 0h160v-160H620v160Z\"/>\n",
              "  </svg>\n",
              "    </button>\n",
              "\n",
              "  <style>\n",
              "    .colab-df-container {\n",
              "      display:flex;\n",
              "      gap: 12px;\n",
              "    }\n",
              "\n",
              "    .colab-df-convert {\n",
              "      background-color: #E8F0FE;\n",
              "      border: none;\n",
              "      border-radius: 50%;\n",
              "      cursor: pointer;\n",
              "      display: none;\n",
              "      fill: #1967D2;\n",
              "      height: 32px;\n",
              "      padding: 0 0 0 0;\n",
              "      width: 32px;\n",
              "    }\n",
              "\n",
              "    .colab-df-convert:hover {\n",
              "      background-color: #E2EBFA;\n",
              "      box-shadow: 0px 1px 2px rgba(60, 64, 67, 0.3), 0px 1px 3px 1px rgba(60, 64, 67, 0.15);\n",
              "      fill: #174EA6;\n",
              "    }\n",
              "\n",
              "    .colab-df-buttons div {\n",
              "      margin-bottom: 4px;\n",
              "    }\n",
              "\n",
              "    [theme=dark] .colab-df-convert {\n",
              "      background-color: #3B4455;\n",
              "      fill: #D2E3FC;\n",
              "    }\n",
              "\n",
              "    [theme=dark] .colab-df-convert:hover {\n",
              "      background-color: #434B5C;\n",
              "      box-shadow: 0px 1px 3px 1px rgba(0, 0, 0, 0.15);\n",
              "      filter: drop-shadow(0px 1px 2px rgba(0, 0, 0, 0.3));\n",
              "      fill: #FFFFFF;\n",
              "    }\n",
              "  </style>\n",
              "\n",
              "    <script>\n",
              "      const buttonEl =\n",
              "        document.querySelector('#df-aa691dc5-7cdc-4d6c-a4c4-431c5b50d872 button.colab-df-convert');\n",
              "      buttonEl.style.display =\n",
              "        google.colab.kernel.accessAllowed ? 'block' : 'none';\n",
              "\n",
              "      async function convertToInteractive(key) {\n",
              "        const element = document.querySelector('#df-aa691dc5-7cdc-4d6c-a4c4-431c5b50d872');\n",
              "        const dataTable =\n",
              "          await google.colab.kernel.invokeFunction('convertToInteractive',\n",
              "                                                    [key], {});\n",
              "        if (!dataTable) return;\n",
              "\n",
              "        const docLinkHtml = 'Like what you see? Visit the ' +\n",
              "          '<a target=\"_blank\" href=https://colab.research.google.com/notebooks/data_table.ipynb>data table notebook</a>'\n",
              "          + ' to learn more about interactive tables.';\n",
              "        element.innerHTML = '';\n",
              "        dataTable['output_type'] = 'display_data';\n",
              "        await google.colab.output.renderOutput(dataTable, element);\n",
              "        const docLink = document.createElement('div');\n",
              "        docLink.innerHTML = docLinkHtml;\n",
              "        element.appendChild(docLink);\n",
              "      }\n",
              "    </script>\n",
              "  </div>\n",
              "\n",
              "\n",
              "    <div id=\"df-51e77db9-e47d-44e3-8da0-3b1946b3c3e9\">\n",
              "      <button class=\"colab-df-quickchart\" onclick=\"quickchart('df-51e77db9-e47d-44e3-8da0-3b1946b3c3e9')\"\n",
              "                title=\"Suggest charts\"\n",
              "                style=\"display:none;\">\n",
              "\n",
              "<svg xmlns=\"http://www.w3.org/2000/svg\" height=\"24px\"viewBox=\"0 0 24 24\"\n",
              "     width=\"24px\">\n",
              "    <g>\n",
              "        <path d=\"M19 3H5c-1.1 0-2 .9-2 2v14c0 1.1.9 2 2 2h14c1.1 0 2-.9 2-2V5c0-1.1-.9-2-2-2zM9 17H7v-7h2v7zm4 0h-2V7h2v10zm4 0h-2v-4h2v4z\"/>\n",
              "    </g>\n",
              "</svg>\n",
              "      </button>\n",
              "\n",
              "<style>\n",
              "  .colab-df-quickchart {\n",
              "      --bg-color: #E8F0FE;\n",
              "      --fill-color: #1967D2;\n",
              "      --hover-bg-color: #E2EBFA;\n",
              "      --hover-fill-color: #174EA6;\n",
              "      --disabled-fill-color: #AAA;\n",
              "      --disabled-bg-color: #DDD;\n",
              "  }\n",
              "\n",
              "  [theme=dark] .colab-df-quickchart {\n",
              "      --bg-color: #3B4455;\n",
              "      --fill-color: #D2E3FC;\n",
              "      --hover-bg-color: #434B5C;\n",
              "      --hover-fill-color: #FFFFFF;\n",
              "      --disabled-bg-color: #3B4455;\n",
              "      --disabled-fill-color: #666;\n",
              "  }\n",
              "\n",
              "  .colab-df-quickchart {\n",
              "    background-color: var(--bg-color);\n",
              "    border: none;\n",
              "    border-radius: 50%;\n",
              "    cursor: pointer;\n",
              "    display: none;\n",
              "    fill: var(--fill-color);\n",
              "    height: 32px;\n",
              "    padding: 0;\n",
              "    width: 32px;\n",
              "  }\n",
              "\n",
              "  .colab-df-quickchart:hover {\n",
              "    background-color: var(--hover-bg-color);\n",
              "    box-shadow: 0 1px 2px rgba(60, 64, 67, 0.3), 0 1px 3px 1px rgba(60, 64, 67, 0.15);\n",
              "    fill: var(--button-hover-fill-color);\n",
              "  }\n",
              "\n",
              "  .colab-df-quickchart-complete:disabled,\n",
              "  .colab-df-quickchart-complete:disabled:hover {\n",
              "    background-color: var(--disabled-bg-color);\n",
              "    fill: var(--disabled-fill-color);\n",
              "    box-shadow: none;\n",
              "  }\n",
              "\n",
              "  .colab-df-spinner {\n",
              "    border: 2px solid var(--fill-color);\n",
              "    border-color: transparent;\n",
              "    border-bottom-color: var(--fill-color);\n",
              "    animation:\n",
              "      spin 1s steps(1) infinite;\n",
              "  }\n",
              "\n",
              "  @keyframes spin {\n",
              "    0% {\n",
              "      border-color: transparent;\n",
              "      border-bottom-color: var(--fill-color);\n",
              "      border-left-color: var(--fill-color);\n",
              "    }\n",
              "    20% {\n",
              "      border-color: transparent;\n",
              "      border-left-color: var(--fill-color);\n",
              "      border-top-color: var(--fill-color);\n",
              "    }\n",
              "    30% {\n",
              "      border-color: transparent;\n",
              "      border-left-color: var(--fill-color);\n",
              "      border-top-color: var(--fill-color);\n",
              "      border-right-color: var(--fill-color);\n",
              "    }\n",
              "    40% {\n",
              "      border-color: transparent;\n",
              "      border-right-color: var(--fill-color);\n",
              "      border-top-color: var(--fill-color);\n",
              "    }\n",
              "    60% {\n",
              "      border-color: transparent;\n",
              "      border-right-color: var(--fill-color);\n",
              "    }\n",
              "    80% {\n",
              "      border-color: transparent;\n",
              "      border-right-color: var(--fill-color);\n",
              "      border-bottom-color: var(--fill-color);\n",
              "    }\n",
              "    90% {\n",
              "      border-color: transparent;\n",
              "      border-bottom-color: var(--fill-color);\n",
              "    }\n",
              "  }\n",
              "</style>\n",
              "\n",
              "      <script>\n",
              "        async function quickchart(key) {\n",
              "          const quickchartButtonEl =\n",
              "            document.querySelector('#' + key + ' button');\n",
              "          quickchartButtonEl.disabled = true;  // To prevent multiple clicks.\n",
              "          quickchartButtonEl.classList.add('colab-df-spinner');\n",
              "          try {\n",
              "            const charts = await google.colab.kernel.invokeFunction(\n",
              "                'suggestCharts', [key], {});\n",
              "          } catch (error) {\n",
              "            console.error('Error during call to suggestCharts:', error);\n",
              "          }\n",
              "          quickchartButtonEl.classList.remove('colab-df-spinner');\n",
              "          quickchartButtonEl.classList.add('colab-df-quickchart-complete');\n",
              "        }\n",
              "        (() => {\n",
              "          let quickchartButtonEl =\n",
              "            document.querySelector('#df-51e77db9-e47d-44e3-8da0-3b1946b3c3e9 button');\n",
              "          quickchartButtonEl.style.display =\n",
              "            google.colab.kernel.accessAllowed ? 'block' : 'none';\n",
              "        })();\n",
              "      </script>\n",
              "    </div>\n",
              "\n",
              "  <div id=\"id_aaf5a5ef-9897-4772-bdaa-42d30efc9001\">\n",
              "    <style>\n",
              "      .colab-df-generate {\n",
              "        background-color: #E8F0FE;\n",
              "        border: none;\n",
              "        border-radius: 50%;\n",
              "        cursor: pointer;\n",
              "        display: none;\n",
              "        fill: #1967D2;\n",
              "        height: 32px;\n",
              "        padding: 0 0 0 0;\n",
              "        width: 32px;\n",
              "      }\n",
              "\n",
              "      .colab-df-generate:hover {\n",
              "        background-color: #E2EBFA;\n",
              "        box-shadow: 0px 1px 2px rgba(60, 64, 67, 0.3), 0px 1px 3px 1px rgba(60, 64, 67, 0.15);\n",
              "        fill: #174EA6;\n",
              "      }\n",
              "\n",
              "      [theme=dark] .colab-df-generate {\n",
              "        background-color: #3B4455;\n",
              "        fill: #D2E3FC;\n",
              "      }\n",
              "\n",
              "      [theme=dark] .colab-df-generate:hover {\n",
              "        background-color: #434B5C;\n",
              "        box-shadow: 0px 1px 3px 1px rgba(0, 0, 0, 0.15);\n",
              "        filter: drop-shadow(0px 1px 2px rgba(0, 0, 0, 0.3));\n",
              "        fill: #FFFFFF;\n",
              "      }\n",
              "    </style>\n",
              "    <button class=\"colab-df-generate\" onclick=\"generateWithVariable('df1')\"\n",
              "            title=\"Generate code using this dataframe.\"\n",
              "            style=\"display:none;\">\n",
              "\n",
              "  <svg xmlns=\"http://www.w3.org/2000/svg\" height=\"24px\"viewBox=\"0 0 24 24\"\n",
              "       width=\"24px\">\n",
              "    <path d=\"M7,19H8.4L18.45,9,17,7.55,7,17.6ZM5,21V16.75L18.45,3.32a2,2,0,0,1,2.83,0l1.4,1.43a1.91,1.91,0,0,1,.58,1.4,1.91,1.91,0,0,1-.58,1.4L9.25,21ZM18.45,9,17,7.55Zm-12,3A5.31,5.31,0,0,0,4.9,8.1,5.31,5.31,0,0,0,1,6.5,5.31,5.31,0,0,0,4.9,4.9,5.31,5.31,0,0,0,6.5,1,5.31,5.31,0,0,0,8.1,4.9,5.31,5.31,0,0,0,12,6.5,5.46,5.46,0,0,0,6.5,12Z\"/>\n",
              "  </svg>\n",
              "    </button>\n",
              "    <script>\n",
              "      (() => {\n",
              "      const buttonEl =\n",
              "        document.querySelector('#id_aaf5a5ef-9897-4772-bdaa-42d30efc9001 button.colab-df-generate');\n",
              "      buttonEl.style.display =\n",
              "        google.colab.kernel.accessAllowed ? 'block' : 'none';\n",
              "\n",
              "      buttonEl.onclick = () => {\n",
              "        google.colab.notebook.generateWithVariable('df1');\n",
              "      }\n",
              "      })();\n",
              "    </script>\n",
              "  </div>\n",
              "\n",
              "    </div>\n",
              "  </div>\n"
            ],
            "application/vnd.google.colaboratory.intrinsic+json": {
              "type": "dataframe",
              "variable_name": "df1",
              "summary": "{\n  \"name\": \"df1\",\n  \"rows\": 4400,\n  \"fields\": [\n    {\n      \"column\": \"label\",\n      \"properties\": {\n        \"dtype\": \"number\",\n        \"std\": 0,\n        \"min\": 0,\n        \"max\": 1,\n        \"num_unique_values\": 2,\n        \"samples\": [\n          0,\n          1\n        ],\n        \"semantic_type\": \"\",\n        \"description\": \"\"\n      }\n    },\n    {\n      \"column\": \"response\",\n      \"properties\": {\n        \"dtype\": \"string\",\n        \"num_unique_values\": 4400,\n        \"samples\": [\n          \"Because Kentucky is such a crucial battleground state\",\n          \"Well you have to spin the xray emitter and the sensor or it wont work.\"\n        ],\n        \"semantic_type\": \"\",\n        \"description\": \"\"\n      }\n    },\n    {\n      \"column\": \"context\",\n      \"properties\": {\n        \"dtype\": \"string\",\n        \"num_unique_values\": 4396,\n        \"samples\": [\n          \"Very true, but to be fair, Serb nationalist did try to wipe out a race of people..\",\n          \"The Fourth Reich is either somewhere in Antarctica or on the moon.\"\n        ],\n        \"semantic_type\": \"\",\n        \"description\": \"\"\n      }\n    }\n  ]\n}"
            }
          },
          "metadata": {},
          "execution_count": 2
        }
      ],
      "source": [
        "# Load the JSONL file\n",
        "df1 = pd.read_json('sarcasm_detection_shared_task_reddit_training.jsonl', lines=True)\n",
        "\n",
        "# Map label: SARCASM -> 1, NOT_SARCASM -> 0\n",
        "df1['label'] = df1['label'].replace({'SARCASM': 1, 'NOT_SARCASM': 0}).astype(int)\n",
        "\n",
        "def get_last_context(context):\n",
        "    if isinstance(context, list) and context:\n",
        "        return context[-1]\n",
        "    return context  # in case it's empty or not a list\n",
        "\n",
        "df1['context'] = df1['context'].apply(get_last_context)\n",
        "df1"
      ]
    },
    {
      "cell_type": "markdown",
      "id": "6",
      "metadata": {
        "id": "6"
      },
      "source": [
        "#### Preparing dataset 1"
      ]
    },
    {
      "cell_type": "code",
      "execution_count": null,
      "id": "7",
      "metadata": {
        "id": "7",
        "outputId": "2f37c331-2d50-4796-8910-480123ff2a4f",
        "colab": {
          "base_uri": "https://localhost:8080/"
        }
      },
      "outputs": [
        {
          "output_type": "stream",
          "name": "stdout",
          "text": [
            "                                          input_text  label\n",
            "0  Yeah I mean there's only one gender anyways, w...      1\n",
            "1  Sounds like you don't like science, you theist...      1\n",
            "2  Ofc play them in try mode, Blizzard were so ge...      1\n",
            "3  I don't understand, Reddit told me that Hillar...      1\n",
            "4  yeh, they're the reigning triple premiers, why...      1\n"
          ]
        }
      ],
      "source": [
        "df1['input_text'] = df1['response']\n",
        "\n",
        "# Check the result\n",
        "print(df1[['input_text', 'label']].head())"
      ]
    },
    {
      "cell_type": "code",
      "execution_count": null,
      "id": "8",
      "metadata": {
        "id": "8",
        "outputId": "8713ed33-084a-4c95-e659-eef135fe7855",
        "colab": {
          "base_uri": "https://localhost:8080/"
        }
      },
      "outputs": [
        {
          "output_type": "stream",
          "name": "stdout",
          "text": [
            "Train and test splits saved!\n"
          ]
        }
      ],
      "source": [
        "# Split\n",
        "X_train, X_test, y_train, y_test = train_test_split(\n",
        "    df1['input_text'], df1['label'],\n",
        "    test_size=0.2, random_state=42, stratify=df1['label']\n",
        ")\n",
        "\n",
        "train_df1 = pd.DataFrame({'input_text': X_train, 'label': y_train})\n",
        "test_df1 = pd.DataFrame({'input_text': X_test, 'label': y_test})\n",
        "\n",
        "print(\"Train and test splits saved!\")"
      ]
    },
    {
      "cell_type": "markdown",
      "id": "9",
      "metadata": {
        "id": "9"
      },
      "source": [
        "### Onto Token-free models : ByT5"
      ]
    },
    {
      "cell_type": "markdown",
      "id": "10",
      "metadata": {
        "id": "10"
      },
      "source": [
        "#### Training"
      ]
    },
    {
      "cell_type": "code",
      "execution_count": null,
      "id": "11",
      "metadata": {
        "id": "11"
      },
      "outputs": [],
      "source": [
        "train_df1['input_text'] = train_df1['input_text'].fillna(\"\").astype(str)\n",
        "test_df1['input_text'] = test_df1['input_text'].fillna(\"\").astype(str)\n",
        "\n",
        "X_train_byt5 = train_df1['input_text'].tolist()\n",
        "y_train_byt5 = train_df1['label'].tolist()\n",
        "X_test_byt5 = test_df1['input_text'].tolist()\n",
        "y_test_byt5 = test_df1['label'].tolist()"
      ]
    },
    {
      "cell_type": "code",
      "execution_count": null,
      "id": "12",
      "metadata": {
        "id": "12"
      },
      "outputs": [],
      "source": [
        "tokenizer = AutoTokenizer.from_pretrained(\"google/byt5-small\")\n",
        "\n",
        "def tokenize(texts):\n",
        "    return tokenizer(\n",
        "        texts,\n",
        "        padding=\"max_length\",\n",
        "        truncation=True,\n",
        "        max_length=64,         # You can adjust for your dataset\n",
        "        return_tensors='pt'\n",
        "    )\n",
        "\n",
        "X_train_enc_byt5 = tokenize(X_train_byt5)\n",
        "X_test_enc_byt5 = tokenize(X_test_byt5)\n"
      ]
    },
    {
      "cell_type": "code",
      "source": [
        "print(X_train_enc_byt5)"
      ],
      "metadata": {
        "id": "0w8F_z36w5c_",
        "outputId": "b7ac4e22-80d4-48b9-e95c-2194f0749a98",
        "colab": {
          "base_uri": "https://localhost:8080/"
        }
      },
      "id": "0w8F_z36w5c_",
      "execution_count": null,
      "outputs": [
        {
          "output_type": "stream",
          "name": "stdout",
          "text": [
            "{'input_ids': tensor([[ 90, 107, 114,  ...,   0,   0,   0],\n",
            "        [ 92, 114, 120,  ..., 107, 104,   1],\n",
            "        [ 83, 105, 105,  ..., 114, 103,   1],\n",
            "        ...,\n",
            "        [ 76,  35, 103,  ..., 111,  35,   1],\n",
            "        [ 86, 107, 104,  ...,  35, 101,   1],\n",
            "        [ 69, 120, 103,  ...,   0,   0,   0]]), 'attention_mask': tensor([[1, 1, 1,  ..., 0, 0, 0],\n",
            "        [1, 1, 1,  ..., 1, 1, 1],\n",
            "        [1, 1, 1,  ..., 1, 1, 1],\n",
            "        ...,\n",
            "        [1, 1, 1,  ..., 1, 1, 1],\n",
            "        [1, 1, 1,  ..., 1, 1, 1],\n",
            "        [1, 1, 1,  ..., 0, 0, 0]])}\n"
          ]
        }
      ]
    },
    {
      "cell_type": "code",
      "execution_count": null,
      "id": "13",
      "metadata": {
        "id": "13"
      },
      "outputs": [],
      "source": [
        "train_dataset_byt5 = TensorDataset(\n",
        "    X_train_enc_byt5['input_ids'],\n",
        "    X_train_enc_byt5['attention_mask'],\n",
        "    torch.tensor(y_train_byt5)\n",
        ")\n",
        "\n",
        "test_dataset_byt5 = TensorDataset(\n",
        "    X_test_enc_byt5['input_ids'],\n",
        "    X_test_enc_byt5['attention_mask'],\n",
        "    torch.tensor(y_test_byt5)\n",
        ")"
      ]
    },
    {
      "cell_type": "code",
      "execution_count": null,
      "id": "14",
      "metadata": {
        "id": "14"
      },
      "outputs": [],
      "source": [
        "batch_size = 16\n",
        "\n",
        "train_loader = DataLoader(train_dataset_byt5, batch_size=batch_size, shuffle=True)\n",
        "test_loader = DataLoader(test_dataset_byt5, batch_size=batch_size)"
      ]
    },
    {
      "cell_type": "code",
      "execution_count": null,
      "id": "15",
      "metadata": {
        "id": "15",
        "outputId": "305603c8-fd2f-4057-f3d9-069b2e6e168c",
        "colab": {
          "base_uri": "https://localhost:8080/"
        }
      },
      "outputs": [
        {
          "output_type": "stream",
          "name": "stderr",
          "text": [
            "Some weights of T5ForSequenceClassification were not initialized from the model checkpoint at google/byt5-small and are newly initialized: ['classification_head.dense.bias', 'classification_head.dense.weight', 'classification_head.out_proj.bias', 'classification_head.out_proj.weight']\n",
            "You should probably TRAIN this model on a down-stream task to be able to use it for predictions and inference.\n"
          ]
        }
      ],
      "source": [
        "device = torch.device('cuda' if torch.cuda.is_available() else 'cpu')\n",
        "\n",
        "model = AutoModelForSequenceClassification.from_pretrained(\"google/byt5-small\", num_labels=2)\n",
        "model = model.to(device)"
      ]
    },
    {
      "cell_type": "code",
      "execution_count": null,
      "id": "16",
      "metadata": {
        "id": "16"
      },
      "outputs": [],
      "source": [
        "optimizer = AdamW(model.parameters(), lr=2e-5)"
      ]
    },
    {
      "cell_type": "markdown",
      "id": "19",
      "metadata": {
        "id": "19"
      },
      "source": [
        "#### Evaluation"
      ]
    },
    {
      "cell_type": "code",
      "execution_count": null,
      "id": "20",
      "metadata": {
        "colab": {
          "base_uri": "https://localhost:8080/",
          "height": 663
        },
        "id": "20",
        "outputId": "1f011c86-9b71-4899-ced9-8f5bee29490e"
      },
      "outputs": [
        {
          "output_type": "stream",
          "name": "stdout",
          "text": [
            "               precision    recall  f1-score   support\n",
            "\n",
            "Not Sarcastic       0.41      0.03      0.05       440\n",
            "    Sarcastic       0.50      0.96      0.66       440\n",
            "\n",
            "     accuracy                           0.49       880\n",
            "    macro avg       0.45      0.49      0.35       880\n",
            " weighted avg       0.45      0.49      0.35       880\n",
            "\n"
          ]
        },
        {
          "output_type": "display_data",
          "data": {
            "text/plain": [
              "<Figure size 600x500 with 2 Axes>"
            ],
            "image/png": "[encoded data removed]"
          },
          "metadata": {}
        }
      ],
      "source": [
        "model.eval()\n",
        "preds_byt5, truths_byt5 = [], []\n",
        "with torch.no_grad():\n",
        "    for batch in test_loader:\n",
        "        b_input_ids, b_attn_mask, b_labels = [x.to(device) for x in batch]\n",
        "        outputs = model(input_ids=b_input_ids, attention_mask=b_attn_mask)\n",
        "        logits = outputs.logits\n",
        "        preds_byt5.extend(torch.argmax(logits, dim=1).cpu().numpy())\n",
        "        truths_byt5.extend(b_labels.cpu().numpy())\n",
        "\n",
        "print(classification_report(truths_byt5, preds_byt5, target_names=['Not Sarcastic', 'Sarcastic']))\n",
        "\n",
        "cm_byt5 = confusion_matrix(truths_byt5, preds_byt5)\n",
        "labels = ['Not Sarcastic', 'Sarcastic']\n",
        "\n",
        "plt.figure(figsize=(6, 5))\n",
        "sns.heatmap(cm_byt5, annot=True, fmt='d', cmap='Blues',\n",
        "            xticklabels=labels, yticklabels=labels)\n",
        "plt.xlabel('Predicted Label')\n",
        "plt.ylabel('True Label')\n",
        "plt.title('Confusion Matrix - ByT5 Sarcasm Detection Dataset 1 without training')\n",
        "plt.tight_layout()\n",
        "plt.show()"
      ]
    },
    {
      "cell_type": "markdown",
      "metadata": {
        "id": "17"
      },
      "source": [
        "#### Training loop\n"
      ],
      "id": "17"
    },
    {
      "cell_type": "code",
      "execution_count": null,
      "metadata": {
        "id": "18",
        "outputId": "58418d42-6581-4598-c162-17b0b0c9849d",
        "colab": {
          "base_uri": "https://localhost:8080/"
        }
      },
      "outputs": [
        {
          "output_type": "stream",
          "name": "stderr",
          "text": [
            "100%|██████████| 220/220 [03:51<00:00,  1.05s/it]\n"
          ]
        },
        {
          "output_type": "stream",
          "name": "stdout",
          "text": [
            "Epoch 1 Loss: 0.6907\n"
          ]
        },
        {
          "output_type": "stream",
          "name": "stderr",
          "text": [
            "100%|██████████| 220/220 [04:00<00:00,  1.09s/it]\n"
          ]
        },
        {
          "output_type": "stream",
          "name": "stdout",
          "text": [
            "Epoch 2 Loss: 0.6782\n"
          ]
        },
        {
          "output_type": "stream",
          "name": "stderr",
          "text": [
            "100%|██████████| 220/220 [04:00<00:00,  1.09s/it]"
          ]
        },
        {
          "output_type": "stream",
          "name": "stdout",
          "text": [
            "Epoch 3 Loss: 0.6698\n"
          ]
        },
        {
          "output_type": "stream",
          "name": "stderr",
          "text": [
            "\n"
          ]
        }
      ],
      "source": [
        "epochs = 3\n",
        "\n",
        "for epoch in range(epochs):\n",
        "    model.train()\n",
        "    total_loss = 0\n",
        "    for batch in tqdm(train_loader):\n",
        "        b_input_ids, b_attn_mask, b_labels = [x.to(device) for x in batch]\n",
        "        outputs = model(input_ids=b_input_ids, attention_mask=b_attn_mask, labels=b_labels)\n",
        "        loss = outputs.loss\n",
        "        optimizer.zero_grad()\n",
        "        loss.backward()\n",
        "        optimizer.step()\n",
        "        total_loss += loss.item()\n",
        "    print(f\"Epoch {epoch+1} Loss: {total_loss/len(train_loader):.4f}\")\n",
        "\n",
        "model.save_pretrained('byt5_no_context')"
      ],
      "id": "18"
    },
    {
      "cell_type": "markdown",
      "metadata": {
        "id": "c1eBROleuukA"
      },
      "source": [
        "#### Evaluation"
      ],
      "id": "c1eBROleuukA"
    },
    {
      "cell_type": "code",
      "source": [
        "model = AutoModelForSequenceClassification.from_pretrained('byt5_no_context')"
      ],
      "metadata": {
        "id": "QFYcIUdy27ND"
      },
      "id": "QFYcIUdy27ND",
      "execution_count": null,
      "outputs": []
    },
    {
      "cell_type": "code",
      "execution_count": null,
      "metadata": {
        "id": "ZDBQ98qDuukE",
        "outputId": "648bfafd-107b-43be-d215-60fd2b5f009f",
        "colab": {
          "base_uri": "https://localhost:8080/",
          "height": 663
        }
      },
      "outputs": [
        {
          "output_type": "stream",
          "name": "stdout",
          "text": [
            "               precision    recall  f1-score   support\n",
            "\n",
            "Not Sarcastic       0.59      0.66      0.62       440\n",
            "    Sarcastic       0.62      0.55      0.58       440\n",
            "\n",
            "     accuracy                           0.60       880\n",
            "    macro avg       0.60      0.60      0.60       880\n",
            " weighted avg       0.60      0.60      0.60       880\n",
            "\n"
          ]
        },
        {
          "output_type": "display_data",
          "data": {
            "text/plain": [
              "<Figure size 600x500 with 2 Axes>"
            ],
            "image/png": "[encoded data removed]"
          },
          "metadata": {}
        }
      ],
      "source": [
        "model.eval()\n",
        "preds_byt5, truths_byt5 = [], []\n",
        "with torch.no_grad():\n",
        "    for batch in test_loader:\n",
        "        b_input_ids, b_attn_mask, b_labels = [x.to(device) for x in batch]\n",
        "        outputs = model(input_ids=b_input_ids, attention_mask=b_attn_mask)\n",
        "        logits = outputs.logits\n",
        "        preds_byt5.extend(torch.argmax(logits, dim=1).cpu().numpy())\n",
        "        truths_byt5.extend(b_labels.cpu().numpy())\n",
        "\n",
        "print(classification_report(truths_byt5, preds_byt5, target_names=['Not Sarcastic', 'Sarcastic']))\n",
        "\n",
        "cm_byt5 = confusion_matrix(truths_byt5, preds_byt5)\n",
        "labels = ['Not Sarcastic', 'Sarcastic']\n",
        "\n",
        "plt.figure(figsize=(6, 5))\n",
        "sns.heatmap(cm_byt5, annot=True, fmt='d', cmap='Blues',\n",
        "            xticklabels=labels, yticklabels=labels)\n",
        "plt.xlabel('Predicted Label')\n",
        "plt.ylabel('True Label')\n",
        "plt.title('Confusion Matrix - ByT5 Sarcasm Detection Dataset 1 with training')\n",
        "plt.tight_layout()\n",
        "plt.show()\n"
      ],
      "id": "ZDBQ98qDuukE"
    },
    {
      "cell_type": "markdown",
      "id": "21",
      "metadata": {
        "id": "21"
      },
      "source": [
        "## With context"
      ]
    },
    {
      "cell_type": "code",
      "execution_count": 3,
      "id": "22",
      "metadata": {
        "id": "22",
        "outputId": "10505ef3-7854-4651-bdce-6fdfb866cc06",
        "colab": {
          "base_uri": "https://localhost:8080/"
        }
      },
      "outputs": [
        {
          "output_type": "stream",
          "name": "stdout",
          "text": [
            "                                          input_text  label\n",
            "0  Yeah I mean there's only one gender anyways, w...      1\n",
            "1  Sounds like you don't like science, you theist...      1\n",
            "2  Ofc play them in try mode, Blizzard were so ge...      1\n",
            "3  I don't understand, Reddit told me that Hillar...      1\n",
            "4  yeh, they're the reigning triple premiers, why...      1\n"
          ]
        }
      ],
      "source": [
        "df1['input_text'] = df1['response'] + ' [SEP] ' + df1['context']\n",
        "\n",
        "# Check the result\n",
        "print(df1[['input_text', 'label']].head())"
      ]
    },
    {
      "cell_type": "code",
      "execution_count": 4,
      "id": "23",
      "metadata": {
        "id": "23",
        "outputId": "2f0529ae-fc87-4d35-f026-3233aea04275",
        "colab": {
          "base_uri": "https://localhost:8080/"
        }
      },
      "outputs": [
        {
          "output_type": "stream",
          "name": "stdout",
          "text": [
            "Train and test splits saved!\n"
          ]
        }
      ],
      "source": [
        "# Split\n",
        "X_train, X_test, y_train, y_test = train_test_split(\n",
        "    df1['input_text'], df1['label'],\n",
        "    test_size=0.2, random_state=42, stratify=df1['label']\n",
        ")\n",
        "\n",
        "train_df1 = pd.DataFrame({'input_text': X_train, 'label': y_train})\n",
        "test_df1 = pd.DataFrame({'input_text': X_test, 'label': y_test})\n",
        "\n",
        "print(\"Train and test splits saved!\")"
      ]
    },
    {
      "cell_type": "markdown",
      "id": "24",
      "metadata": {
        "id": "24"
      },
      "source": [
        "#### Training"
      ]
    },
    {
      "cell_type": "code",
      "execution_count": 5,
      "id": "25",
      "metadata": {
        "id": "25"
      },
      "outputs": [],
      "source": [
        "train_df1['input_text'] = train_df1['input_text'].fillna(\"\").astype(str)\n",
        "test_df1['input_text'] = test_df1['input_text'].fillna(\"\").astype(str)\n",
        "\n",
        "X_train_byt5 = train_df1['input_text'].tolist()\n",
        "y_train_byt5 = train_df1['label'].tolist()\n",
        "X_test_byt5 = test_df1['input_text'].tolist()\n",
        "y_test_byt5 = test_df1['label'].tolist()"
      ]
    },
    {
      "cell_type": "code",
      "execution_count": 10,
      "id": "26",
      "metadata": {
        "id": "26"
      },
      "outputs": [],
      "source": [
        "tokenizer = AutoTokenizer.from_pretrained(\"google/byt5-small\")\n",
        "\n",
        "def tokenize(texts):\n",
        "    return tokenizer(\n",
        "        texts,\n",
        "        padding=\"max_length\",\n",
        "        truncation=True,\n",
        "        max_length=256,         # You can adjust for your dataset\n",
        "        return_tensors='pt'\n",
        "    )\n",
        "\n",
        "X_train_enc_byt5 = tokenize(X_train_byt5)\n",
        "X_test_enc_byt5 = tokenize(X_test_byt5)"
      ]
    },
    {
      "cell_type": "code",
      "execution_count": 7,
      "id": "27",
      "metadata": {
        "id": "27"
      },
      "outputs": [],
      "source": [
        "train_dataset_byt5 = TensorDataset(\n",
        "    X_train_enc_byt5['input_ids'],\n",
        "    X_train_enc_byt5['attention_mask'],\n",
        "    torch.tensor(y_train_byt5)\n",
        ")\n",
        "\n",
        "test_dataset_byt5 = TensorDataset(\n",
        "    X_test_enc_byt5['input_ids'],\n",
        "    X_test_enc_byt5['attention_mask'],\n",
        "    torch.tensor(y_test_byt5)\n",
        ")"
      ]
    },
    {
      "cell_type": "code",
      "execution_count": 8,
      "id": "28",
      "metadata": {
        "id": "28"
      },
      "outputs": [],
      "source": [
        "batch_size = 16\n",
        "\n",
        "train_loader = DataLoader(train_dataset_byt5, batch_size=batch_size, shuffle=True)\n",
        "test_loader = DataLoader(test_dataset_byt5, batch_size=batch_size)"
      ]
    },
    {
      "cell_type": "code",
      "execution_count": 9,
      "id": "29",
      "metadata": {
        "id": "29",
        "outputId": "279eff9d-b022-4986-9479-fd67b3dcb378",
        "colab": {
          "base_uri": "https://localhost:8080/",
          "height": 136,
          "referenced_widgets": [
            "9cce8ca7ac7f45908fa55b62b6a77861",
            "7b58e79e4c4e4d14bd690f0521e53d2d",
            "35fb7a6a06bb4c7682fed31a84761d08",
            "82a5e087b75647db86d70aeac9c9e6a4",
            "bda2c5ba0a5c45a994ab1666da8de35b",
            "7aa24e10c6d54f1fa96fafc5fb6f5093",
            "210d9622cd9844a48ff99b5cfd6fda37",
            "a353810e6c0e43c79a90c3d6628feb11",
            "ff68bc05d75d4ca8a1077ed6fba67876",
            "d12be40cf5a84673aa46f67700c9815f",
            "746767eec9f044a19420b359987b38e5",
            "e458774410ab45c9b6539a634b4c73a8",
            "a249f57037894b969e1b8e6406030d79",
            "95018aab9d164533805aa04b110efc83",
            "e96edecc8a4b4d2a9b1c220e8d74697a",
            "86d3b9fc016641c68f62bac2cc724651",
            "dcb3b76251b241a3b1c6549cb428abc6",
            "e942af5522cb4cfb95cce99244d3b1ac",
            "e4b7ce1956f94e64ade84b1b01ac4407",
            "d74d9f1d44b74249a5f4066907afc193",
            "e585c35b68fc4da2815b1e60ff662093",
            "09a253a189e24becbef8d78e228b2e83"
          ]
        }
      },
      "outputs": [
        {
          "output_type": "display_data",
          "data": {
            "text/plain": [
              "pytorch_model.bin:   0%|          | 0.00/1.20G [00:00<?, ?B/s]"
            ],
            "application/vnd.jupyter.widget-view+json": {
              "version_major": 2,
              "version_minor": 0,
              "model_id": "9cce8ca7ac7f45908fa55b62b6a77861"
            }
          },
          "metadata": {}
        },
        {
          "output_type": "display_data",
          "data": {
            "text/plain": [
              "model.safetensors:   0%|          | 0.00/1.20G [00:00<?, ?B/s]"
            ],
            "application/vnd.jupyter.widget-view+json": {
              "version_major": 2,
              "version_minor": 0,
              "model_id": "e458774410ab45c9b6539a634b4c73a8"
            }
          },
          "metadata": {}
        },
        {
          "output_type": "stream",
          "name": "stderr",
          "text": [
            "Some weights of T5ForSequenceClassification were not initialized from the model checkpoint at google/byt5-small and are newly initialized: ['classification_head.dense.bias', 'classification_head.dense.weight', 'classification_head.out_proj.bias', 'classification_head.out_proj.weight']\n",
            "You should probably TRAIN this model on a down-stream task to be able to use it for predictions and inference.\n"
          ]
        }
      ],
      "source": [
        "device = torch.device('cuda' if torch.cuda.is_available() else 'cpu')\n",
        "\n",
        "model = AutoModelForSequenceClassification.from_pretrained(\"google/byt5-small\", num_labels=2)\n",
        "model = model.to(device)"
      ]
    },
    {
      "cell_type": "code",
      "execution_count": 11,
      "id": "30",
      "metadata": {
        "id": "30"
      },
      "outputs": [],
      "source": [
        "optimizer = AdamW(model.parameters(), lr=2e-5)"
      ]
    },
    {
      "cell_type": "markdown",
      "id": "31",
      "metadata": {
        "id": "31"
      },
      "source": [
        "#### Training loop\n"
      ]
    },
    {
      "cell_type": "code",
      "execution_count": 12,
      "id": "32",
      "metadata": {
        "id": "32",
        "outputId": "c869b754-316e-456d-d884-b568b29fcf69",
        "colab": {
          "base_uri": "https://localhost:8080/",
          "height": 1000
        }
      },
      "outputs": [
        {
          "output_type": "stream",
          "name": "stderr",
          "text": [
            "\n",
            "  0%|          | 0/220 [00:00<?, ?it/s]\u001b[A\n",
            "  0%|          | 1/220 [00:04<16:05,  4.41s/it]\u001b[A\n",
            "  1%|          | 2/220 [00:05<08:48,  2.43s/it]\u001b[A\n",
            "  1%|▏         | 3/220 [00:06<06:26,  1.78s/it]\u001b[A\n",
            "  2%|▏         | 4/220 [00:07<05:20,  1.49s/it]\u001b[A\n",
            "  2%|▏         | 5/220 [00:08<04:44,  1.32s/it]\u001b[A\n",
            "  3%|▎         | 6/220 [00:09<04:21,  1.22s/it]\u001b[A\n",
            "  3%|▎         | 7/220 [00:10<04:07,  1.16s/it]\u001b[A\n",
            "  4%|▎         | 8/220 [00:11<03:58,  1.12s/it]\u001b[A\n",
            "  4%|▍         | 9/220 [00:12<03:51,  1.09s/it]\u001b[A\n",
            "  5%|▍         | 10/220 [00:13<03:46,  1.08s/it]\u001b[A\n",
            "  5%|▌         | 11/220 [00:14<03:42,  1.06s/it]\u001b[A\n",
            "  5%|▌         | 12/220 [00:15<03:40,  1.06s/it]\u001b[A\n",
            "  6%|▌         | 13/220 [00:16<03:37,  1.05s/it]\u001b[A\n",
            "  6%|▋         | 14/220 [00:17<03:35,  1.05s/it]\u001b[A\n",
            "  7%|▋         | 15/220 [00:18<03:34,  1.05s/it]\u001b[A\n",
            "  7%|▋         | 16/220 [00:19<03:32,  1.04s/it]\u001b[A\n",
            "  8%|▊         | 17/220 [00:20<03:32,  1.05s/it]\u001b[A\n",
            "  8%|▊         | 18/220 [00:22<03:31,  1.05s/it]\u001b[A\n",
            "  9%|▊         | 19/220 [00:23<03:30,  1.05s/it]\u001b[A\n",
            "  9%|▉         | 20/220 [00:24<03:29,  1.05s/it]\u001b[A\n",
            " 10%|▉         | 21/220 [00:25<03:29,  1.05s/it]\u001b[A\n",
            " 10%|█         | 22/220 [00:26<03:28,  1.05s/it]\u001b[A\n",
            " 10%|█         | 23/220 [00:27<03:27,  1.06s/it]\u001b[A\n",
            " 11%|█         | 24/220 [00:28<03:27,  1.06s/it]\u001b[A\n",
            " 11%|█▏        | 25/220 [00:29<03:26,  1.06s/it]\u001b[A\n",
            " 12%|█▏        | 26/220 [00:30<03:26,  1.06s/it]\u001b[A\n",
            " 12%|█▏        | 27/220 [00:31<03:25,  1.07s/it]\u001b[A\n",
            " 13%|█▎        | 28/220 [00:32<03:25,  1.07s/it]\u001b[A\n",
            " 13%|█▎        | 29/220 [00:33<03:24,  1.07s/it]\u001b[A\n",
            " 14%|█▎        | 30/220 [00:34<03:23,  1.07s/it]\u001b[A\n",
            " 14%|█▍        | 31/220 [00:35<03:22,  1.07s/it]\u001b[A\n",
            " 15%|█▍        | 32/220 [00:36<03:21,  1.07s/it]\u001b[A\n",
            " 15%|█▌        | 33/220 [00:38<03:20,  1.07s/it]\u001b[A\n",
            " 15%|█▌        | 34/220 [00:39<03:20,  1.08s/it]\u001b[A\n",
            " 16%|█▌        | 35/220 [00:40<03:19,  1.08s/it]\u001b[A\n",
            " 16%|█▋        | 36/220 [00:41<03:19,  1.09s/it]\u001b[A\n",
            " 17%|█▋        | 37/220 [00:42<03:19,  1.09s/it]\u001b[A\n",
            " 17%|█▋        | 38/220 [00:43<03:17,  1.09s/it]\u001b[A\n",
            " 18%|█▊        | 39/220 [00:44<03:16,  1.09s/it]\u001b[A\n",
            " 18%|█▊        | 40/220 [00:45<03:15,  1.09s/it]\u001b[A\n",
            " 19%|█▊        | 41/220 [00:46<03:14,  1.09s/it]\u001b[A\n",
            " 19%|█▉        | 42/220 [00:47<03:14,  1.09s/it]\u001b[A\n",
            " 20%|█▉        | 43/220 [00:48<03:13,  1.09s/it]\u001b[A\n",
            " 20%|██        | 44/220 [00:50<03:12,  1.09s/it]\u001b[A\n",
            " 20%|██        | 45/220 [00:51<03:11,  1.09s/it]\u001b[A\n",
            " 21%|██        | 46/220 [00:52<03:11,  1.10s/it]\u001b[A\n",
            " 21%|██▏       | 47/220 [00:53<03:10,  1.10s/it]\u001b[A\n",
            " 22%|██▏       | 48/220 [00:54<03:09,  1.10s/it]\u001b[A\n",
            " 22%|██▏       | 49/220 [00:55<03:09,  1.11s/it]\u001b[A\n",
            " 23%|██▎       | 50/220 [00:56<03:09,  1.11s/it]\u001b[A\n",
            " 23%|██▎       | 51/220 [00:57<03:08,  1.12s/it]\u001b[A\n",
            " 24%|██▎       | 52/220 [00:58<03:09,  1.13s/it]\u001b[A\n",
            " 24%|██▍       | 53/220 [01:00<03:10,  1.14s/it]\u001b[A\n",
            " 25%|██▍       | 54/220 [01:01<03:09,  1.14s/it]\u001b[A\n",
            " 25%|██▌       | 55/220 [01:02<03:08,  1.14s/it]\u001b[A\n",
            " 25%|██▌       | 56/220 [01:03<03:06,  1.14s/it]\u001b[A\n",
            " 26%|██▌       | 57/220 [01:04<03:05,  1.14s/it]\u001b[A\n",
            " 26%|██▋       | 58/220 [01:05<03:04,  1.14s/it]\u001b[A\n",
            " 27%|██▋       | 59/220 [01:06<03:03,  1.14s/it]\u001b[A\n",
            " 27%|██▋       | 60/220 [01:08<03:02,  1.14s/it]\u001b[A\n",
            " 28%|██▊       | 61/220 [01:09<03:01,  1.14s/it]\u001b[A\n",
            " 28%|██▊       | 62/220 [01:10<03:01,  1.15s/it]\u001b[A\n",
            " 29%|██▊       | 63/220 [01:11<03:00,  1.15s/it]\u001b[A\n",
            " 29%|██▉       | 64/220 [01:12<03:00,  1.16s/it]\u001b[A\n",
            " 30%|██▉       | 65/220 [01:13<03:00,  1.16s/it]\u001b[A\n",
            " 30%|███       | 66/220 [01:15<02:58,  1.16s/it]\u001b[A\n",
            " 30%|███       | 67/220 [01:16<02:57,  1.16s/it]\u001b[A\n",
            " 31%|███       | 68/220 [01:17<02:56,  1.16s/it]\u001b[A\n",
            " 31%|███▏      | 69/220 [01:18<02:55,  1.16s/it]\u001b[A\n",
            " 32%|███▏      | 70/220 [01:19<02:54,  1.16s/it]\u001b[A\n",
            " 32%|███▏      | 71/220 [01:20<02:52,  1.16s/it]\u001b[A\n",
            " 33%|███▎      | 72/220 [01:22<02:51,  1.16s/it]\u001b[A\n",
            " 33%|███▎      | 73/220 [01:23<02:51,  1.16s/it]\u001b[A\n",
            " 34%|███▎      | 74/220 [01:24<02:49,  1.16s/it]\u001b[A\n",
            " 34%|███▍      | 75/220 [01:25<02:48,  1.16s/it]\u001b[A\n",
            " 35%|███▍      | 76/220 [01:26<02:47,  1.16s/it]\u001b[A\n",
            " 35%|███▌      | 77/220 [01:27<02:46,  1.16s/it]\u001b[A\n",
            " 35%|███▌      | 78/220 [01:29<02:45,  1.16s/it]\u001b[A\n",
            " 36%|███▌      | 79/220 [01:30<02:44,  1.16s/it]\u001b[A\n",
            " 36%|███▋      | 80/220 [01:31<02:42,  1.16s/it]\u001b[A\n",
            " 37%|███▋      | 81/220 [01:32<02:40,  1.16s/it]\u001b[A\n",
            " 37%|███▋      | 82/220 [01:33<02:39,  1.16s/it]\u001b[A\n",
            " 38%|███▊      | 83/220 [01:34<02:38,  1.15s/it]\u001b[A\n",
            " 38%|███▊      | 84/220 [01:35<02:36,  1.15s/it]\u001b[A\n",
            " 39%|███▊      | 85/220 [01:37<02:34,  1.15s/it]\u001b[A\n",
            " 39%|███▉      | 86/220 [01:38<02:33,  1.14s/it]\u001b[A\n",
            " 40%|███▉      | 87/220 [01:39<02:31,  1.14s/it]\u001b[A\n",
            " 40%|████      | 88/220 [01:40<02:30,  1.14s/it]\u001b[A\n",
            " 40%|████      | 89/220 [01:41<02:28,  1.14s/it]\u001b[A\n",
            " 41%|████      | 90/220 [01:42<02:27,  1.13s/it]\u001b[A\n",
            " 41%|████▏     | 91/220 [01:43<02:25,  1.13s/it]\u001b[A\n",
            " 42%|████▏     | 92/220 [01:44<02:23,  1.12s/it]\u001b[A\n",
            " 42%|████▏     | 93/220 [01:46<02:22,  1.12s/it]\u001b[A\n",
            " 43%|████▎     | 94/220 [01:47<02:20,  1.12s/it]\u001b[A\n",
            " 43%|████▎     | 95/220 [01:48<02:19,  1.12s/it]\u001b[A\n",
            " 44%|████▎     | 96/220 [01:49<02:18,  1.11s/it]\u001b[A\n",
            " 44%|████▍     | 97/220 [01:50<02:17,  1.11s/it]\u001b[A\n",
            " 45%|████▍     | 98/220 [01:51<02:15,  1.11s/it]\u001b[A\n",
            " 45%|████▌     | 99/220 [01:52<02:14,  1.11s/it]\u001b[A\n",
            " 45%|████▌     | 100/220 [01:53<02:13,  1.11s/it]\u001b[A\n",
            " 46%|████▌     | 101/220 [01:54<02:12,  1.11s/it]\u001b[A\n",
            " 46%|████▋     | 102/220 [01:56<02:10,  1.11s/it]\u001b[A\n",
            " 47%|████▋     | 103/220 [01:57<02:09,  1.11s/it]\u001b[A\n",
            " 47%|████▋     | 104/220 [01:58<02:08,  1.10s/it]\u001b[A\n",
            " 48%|████▊     | 105/220 [01:59<02:06,  1.10s/it]\u001b[A\n",
            " 48%|████▊     | 106/220 [02:00<02:06,  1.11s/it]\u001b[A\n",
            " 49%|████▊     | 107/220 [02:01<02:04,  1.11s/it]\u001b[A\n",
            " 49%|████▉     | 108/220 [02:02<02:03,  1.10s/it]\u001b[A\n",
            " 50%|████▉     | 109/220 [02:03<02:02,  1.10s/it]\u001b[A\n",
            " 50%|█████     | 110/220 [02:04<02:01,  1.10s/it]\u001b[A\n",
            " 50%|█████     | 111/220 [02:06<02:00,  1.10s/it]\u001b[A\n",
            " 51%|█████     | 112/220 [02:07<01:58,  1.10s/it]\u001b[A\n",
            " 51%|█████▏    | 113/220 [02:08<01:57,  1.10s/it]\u001b[A\n",
            " 52%|█████▏    | 114/220 [02:09<01:56,  1.10s/it]\u001b[A\n",
            " 52%|█████▏    | 115/220 [02:10<01:55,  1.10s/it]\u001b[A\n",
            " 53%|█████▎    | 116/220 [02:11<01:54,  1.10s/it]\u001b[A\n",
            " 53%|█████▎    | 117/220 [02:12<01:53,  1.10s/it]\u001b[A\n",
            " 54%|█████▎    | 118/220 [02:13<01:51,  1.10s/it]\u001b[A\n",
            " 54%|█████▍    | 119/220 [02:14<01:51,  1.10s/it]\u001b[A\n",
            " 55%|█████▍    | 120/220 [02:15<01:49,  1.10s/it]\u001b[A\n",
            " 55%|█████▌    | 121/220 [02:16<01:48,  1.10s/it]\u001b[A\n",
            " 55%|█████▌    | 122/220 [02:18<01:47,  1.10s/it]\u001b[A\n",
            " 56%|█████▌    | 123/220 [02:19<01:46,  1.10s/it]\u001b[A\n",
            " 56%|█████▋    | 124/220 [02:20<01:45,  1.10s/it]\u001b[A\n",
            " 57%|█████▋    | 125/220 [02:21<01:44,  1.10s/it]\u001b[A\n",
            " 57%|█████▋    | 126/220 [02:22<01:43,  1.10s/it]\u001b[A\n",
            " 58%|█████▊    | 127/220 [02:23<01:42,  1.10s/it]\u001b[A\n",
            " 58%|█████▊    | 128/220 [02:24<01:41,  1.10s/it]\u001b[A\n",
            " 59%|█████▊    | 129/220 [02:25<01:40,  1.10s/it]\u001b[A\n",
            " 59%|█████▉    | 130/220 [02:26<01:39,  1.11s/it]\u001b[A\n",
            " 60%|█████▉    | 131/220 [02:28<01:38,  1.11s/it]\u001b[A\n",
            " 60%|██████    | 132/220 [02:29<01:37,  1.11s/it]\u001b[A\n",
            " 60%|██████    | 133/220 [02:30<01:36,  1.10s/it]\u001b[A\n",
            " 61%|██████    | 134/220 [02:31<01:35,  1.11s/it]\u001b[A\n",
            " 61%|██████▏   | 135/220 [02:32<01:34,  1.11s/it]\u001b[A\n",
            " 62%|██████▏   | 136/220 [02:33<01:33,  1.11s/it]\u001b[A\n",
            " 62%|██████▏   | 137/220 [02:34<01:32,  1.11s/it]\u001b[A\n",
            " 63%|██████▎   | 138/220 [02:35<01:31,  1.11s/it]\u001b[A\n",
            " 63%|██████▎   | 139/220 [02:36<01:30,  1.11s/it]\u001b[A\n",
            " 64%|██████▎   | 140/220 [02:38<01:28,  1.11s/it]\u001b[A\n",
            " 64%|██████▍   | 141/220 [02:39<01:27,  1.11s/it]\u001b[A\n",
            " 65%|██████▍   | 142/220 [02:40<01:27,  1.12s/it]\u001b[A\n",
            " 65%|██████▌   | 143/220 [02:41<01:26,  1.12s/it]\u001b[A\n",
            " 65%|██████▌   | 144/220 [02:42<01:25,  1.12s/it]\u001b[A\n",
            " 66%|██████▌   | 145/220 [02:43<01:23,  1.12s/it]\u001b[A\n",
            " 66%|██████▋   | 146/220 [02:44<01:22,  1.12s/it]\u001b[A\n",
            " 67%|██████▋   | 147/220 [02:45<01:21,  1.12s/it]\u001b[A\n",
            " 67%|██████▋   | 148/220 [02:47<01:20,  1.12s/it]\u001b[A\n",
            " 68%|██████▊   | 149/220 [02:48<01:20,  1.13s/it]\u001b[A\n",
            " 68%|██████▊   | 150/220 [02:49<01:18,  1.13s/it]\u001b[A\n",
            " 69%|██████▊   | 151/220 [02:50<01:18,  1.13s/it]\u001b[A\n",
            " 69%|██████▉   | 152/220 [02:51<01:16,  1.13s/it]\u001b[A\n",
            " 70%|██████▉   | 153/220 [02:52<01:15,  1.13s/it]\u001b[A\n",
            " 70%|███████   | 154/220 [02:53<01:14,  1.13s/it]\u001b[A\n",
            " 70%|███████   | 155/220 [02:54<01:13,  1.13s/it]\u001b[A\n",
            " 71%|███████   | 156/220 [02:56<01:12,  1.13s/it]\u001b[A\n",
            " 71%|███████▏  | 157/220 [02:57<01:11,  1.13s/it]\u001b[A\n",
            " 72%|███████▏  | 158/220 [02:58<01:09,  1.13s/it]\u001b[A\n",
            " 72%|███████▏  | 159/220 [02:59<01:08,  1.13s/it]\u001b[A\n",
            " 73%|███████▎  | 160/220 [03:00<01:07,  1.13s/it]\u001b[A\n",
            " 73%|███████▎  | 161/220 [03:01<01:07,  1.14s/it]\u001b[A\n",
            " 74%|███████▎  | 162/220 [03:02<01:06,  1.14s/it]\u001b[A\n",
            " 74%|███████▍  | 163/220 [03:04<01:04,  1.14s/it]\u001b[A\n",
            " 75%|███████▍  | 164/220 [03:05<01:03,  1.13s/it]\u001b[A\n",
            " 75%|███████▌  | 165/220 [03:06<01:02,  1.13s/it]\u001b[A\n",
            " 75%|███████▌  | 166/220 [03:07<01:01,  1.13s/it]\u001b[A\n",
            " 76%|███████▌  | 167/220 [03:08<00:59,  1.13s/it]\u001b[A\n",
            " 76%|███████▋  | 168/220 [03:09<00:58,  1.12s/it]\u001b[A\n",
            " 77%|███████▋  | 169/220 [03:10<00:57,  1.12s/it]\u001b[A\n",
            " 77%|███████▋  | 170/220 [03:11<00:56,  1.12s/it]\u001b[A\n",
            " 78%|███████▊  | 171/220 [03:12<00:55,  1.12s/it]\u001b[A\n",
            " 78%|███████▊  | 172/220 [03:14<00:53,  1.12s/it]\u001b[A\n",
            " 79%|███████▊  | 173/220 [03:15<00:52,  1.12s/it]\u001b[A\n",
            " 79%|███████▉  | 174/220 [03:16<00:51,  1.12s/it]\u001b[A\n",
            " 80%|███████▉  | 175/220 [03:17<00:50,  1.12s/it]\u001b[A\n",
            " 80%|████████  | 176/220 [03:18<00:49,  1.13s/it]\u001b[A\n",
            " 80%|████████  | 177/220 [03:19<00:48,  1.12s/it]\u001b[A\n",
            " 81%|████████  | 178/220 [03:20<00:47,  1.12s/it]\u001b[A\n",
            " 81%|████████▏ | 179/220 [03:21<00:45,  1.12s/it]\u001b[A\n",
            " 82%|████████▏ | 180/220 [03:23<00:44,  1.12s/it]\u001b[A\n",
            " 82%|████████▏ | 181/220 [03:24<00:43,  1.12s/it]\u001b[A\n",
            " 83%|████████▎ | 182/220 [03:25<00:42,  1.12s/it]\u001b[A\n",
            " 83%|████████▎ | 183/220 [03:26<00:41,  1.12s/it]\u001b[A\n",
            " 84%|████████▎ | 184/220 [03:27<00:40,  1.12s/it]\u001b[A\n",
            " 84%|████████▍ | 185/220 [03:28<00:39,  1.12s/it]\u001b[A\n",
            " 85%|████████▍ | 186/220 [03:29<00:37,  1.11s/it]\u001b[A\n",
            " 85%|████████▌ | 187/220 [03:30<00:36,  1.11s/it]\u001b[A\n",
            " 85%|████████▌ | 188/220 [03:31<00:35,  1.11s/it]\u001b[A\n",
            " 86%|████████▌ | 189/220 [03:33<00:34,  1.11s/it]\u001b[A\n",
            " 86%|████████▋ | 190/220 [03:34<00:33,  1.11s/it]\u001b[A\n",
            " 87%|████████▋ | 191/220 [03:35<00:32,  1.11s/it]\u001b[A\n",
            " 87%|████████▋ | 192/220 [03:36<00:31,  1.11s/it]\u001b[A\n",
            " 88%|████████▊ | 193/220 [03:37<00:30,  1.11s/it]\u001b[A\n",
            " 88%|████████▊ | 194/220 [03:38<00:28,  1.11s/it]\u001b[A\n",
            " 89%|████████▊ | 195/220 [03:39<00:27,  1.11s/it]\u001b[A\n",
            " 89%|████████▉ | 196/220 [03:40<00:26,  1.11s/it]\u001b[A\n",
            " 90%|████████▉ | 197/220 [03:42<00:25,  1.11s/it]\u001b[A\n",
            " 90%|█████████ | 198/220 [03:43<00:24,  1.11s/it]\u001b[A\n",
            " 90%|█████████ | 199/220 [03:44<00:23,  1.11s/it]\u001b[A\n",
            " 91%|█████████ | 200/220 [03:45<00:22,  1.11s/it]\u001b[A\n",
            " 91%|█████████▏| 201/220 [03:46<00:21,  1.11s/it]\u001b[A\n",
            " 92%|█████████▏| 202/220 [03:47<00:20,  1.11s/it]\u001b[A\n",
            " 92%|█████████▏| 203/220 [03:48<00:18,  1.11s/it]\u001b[A\n",
            " 93%|█████████▎| 204/220 [03:49<00:17,  1.11s/it]\u001b[A\n",
            " 93%|█████████▎| 205/220 [03:50<00:16,  1.11s/it]\u001b[A\n",
            " 94%|█████████▎| 206/220 [03:52<00:15,  1.11s/it]\u001b[A\n",
            " 94%|█████████▍| 207/220 [03:53<00:14,  1.11s/it]\u001b[A\n",
            " 95%|█████████▍| 208/220 [03:54<00:13,  1.11s/it]\u001b[A\n",
            " 95%|█████████▌| 209/220 [03:55<00:12,  1.11s/it]\u001b[A\n",
            " 95%|█████████▌| 210/220 [03:56<00:11,  1.11s/it]\u001b[A\n",
            " 96%|█████████▌| 211/220 [03:57<00:10,  1.11s/it]\u001b[A\n",
            " 96%|█████████▋| 212/220 [03:58<00:08,  1.11s/it]\u001b[A\n",
            " 97%|█████████▋| 213/220 [03:59<00:07,  1.11s/it]\u001b[A\n",
            " 97%|█████████▋| 214/220 [04:00<00:06,  1.11s/it]\u001b[A\n",
            " 98%|█████████▊| 215/220 [04:02<00:05,  1.11s/it]\u001b[A\n",
            " 98%|█████████▊| 216/220 [04:03<00:04,  1.11s/it]\u001b[A\n",
            " 99%|█████████▊| 217/220 [04:04<00:03,  1.11s/it]\u001b[A\n",
            " 99%|█████████▉| 218/220 [04:05<00:02,  1.11s/it]\u001b[A\n",
            "100%|█████████▉| 219/220 [04:06<00:01,  1.11s/it]\u001b[A\n",
            "100%|██████████| 220/220 [04:07<00:00,  1.13s/it]\n"
          ]
        },
        {
          "output_type": "stream",
          "name": "stdout",
          "text": [
            "Epoch 1 Loss: 0.6951\n"
          ]
        },
        {
          "output_type": "stream",
          "name": "stderr",
          "text": [
            "100%|██████████| 220/220 [04:05<00:00,  1.11s/it]\n"
          ]
        },
        {
          "output_type": "stream",
          "name": "stdout",
          "text": [
            "Epoch 2 Loss: 0.6921\n"
          ]
        },
        {
          "output_type": "stream",
          "name": "stderr",
          "text": [
            "100%|██████████| 220/220 [04:04<00:00,  1.11s/it]\n"
          ]
        },
        {
          "output_type": "stream",
          "name": "stdout",
          "text": [
            "Epoch 3 Loss: 0.6890\n"
          ]
        }
      ],
      "source": [
        "epochs = 3\n",
        "\n",
        "for epoch in range(epochs):\n",
        "    model.train()\n",
        "    total_loss = 0\n",
        "    for batch in tqdm(train_loader):\n",
        "        b_input_ids, b_attn_mask, b_labels = [x.to(device) for x in batch]\n",
        "        outputs = model(input_ids=b_input_ids, attention_mask=b_attn_mask, labels=b_labels)\n",
        "        loss = outputs.loss\n",
        "        optimizer.zero_grad()\n",
        "        loss.backward()\n",
        "        optimizer.step()\n",
        "        total_loss += loss.item()\n",
        "    print(f\"Epoch {epoch+1} Loss: {total_loss/len(train_loader):.4f}\")\n",
        "\n",
        "model.save_pretrained('byt5_with_context')"
      ]
    },
    {
      "cell_type": "markdown",
      "id": "33",
      "metadata": {
        "id": "33"
      },
      "source": [
        "#### Evaluation"
      ]
    },
    {
      "cell_type": "code",
      "source": [
        "device = torch.device('cuda' if torch.cuda.is_available() else 'cpu')\n",
        "\n",
        "model = AutoModelForSequenceClassification.from_pretrained('byt5_with_context')\n",
        "model = model.to(device)"
      ],
      "metadata": {
        "id": "YJYEikxj2sGo"
      },
      "id": "YJYEikxj2sGo",
      "execution_count": 16,
      "outputs": []
    },
    {
      "cell_type": "code",
      "execution_count": 17,
      "id": "34",
      "metadata": {
        "id": "34",
        "outputId": "99a75335-75d4-49e3-8138-13e16e9222c6",
        "colab": {
          "base_uri": "https://localhost:8080/",
          "height": 663
        }
      },
      "outputs": [
        {
          "output_type": "stream",
          "name": "stdout",
          "text": [
            "               precision    recall  f1-score   support\n",
            "\n",
            "Not Sarcastic       0.56      0.60      0.58       440\n",
            "    Sarcastic       0.57      0.52      0.55       440\n",
            "\n",
            "     accuracy                           0.56       880\n",
            "    macro avg       0.56      0.56      0.56       880\n",
            " weighted avg       0.56      0.56      0.56       880\n",
            "\n"
          ]
        },
        {
          "output_type": "display_data",
          "data": {
            "text/plain": [
              "<Figure size 600x500 with 2 Axes>"
            ],
            "image/png": "[encoded data removed]"
          },
          "metadata": {}
        }
      ],
      "source": [
        "model.eval()\n",
        "preds_byt5, truths_byt5 = [], []\n",
        "with torch.no_grad():\n",
        "    for batch in test_loader:\n",
        "        b_input_ids, b_attn_mask, b_labels = [x.to(device) for x in batch]\n",
        "        outputs = model(input_ids=b_input_ids, attention_mask=b_attn_mask)\n",
        "        logits = outputs.logits\n",
        "        preds_byt5.extend(torch.argmax(logits, dim=1).cpu().numpy())\n",
        "        truths_byt5.extend(b_labels.cpu().numpy())\n",
        "\n",
        "print(classification_report(truths_byt5, preds_byt5, target_names=['Not Sarcastic', 'Sarcastic']))\n",
        "\n",
        "cm_byt5 = confusion_matrix(truths_byt5, preds_byt5)\n",
        "labels = ['Not Sarcastic', 'Sarcastic']\n",
        "\n",
        "plt.figure(figsize=(6, 5))\n",
        "sns.heatmap(cm_byt5, annot=True, fmt='d', cmap='Blues',\n",
        "            xticklabels=labels, yticklabels=labels)\n",
        "plt.xlabel('Predicted Label')\n",
        "plt.ylabel('True Label')\n",
        "plt.title('Confusion Matrix - ByT5 Sarcasm Detection Dataset 1')\n",
        "plt.tight_layout()\n",
        "plt.show()"
      ]
    }
  ],
  "metadata": {
    "language_info": {
      "name": "python"
    },
    "colab": {
      "provenance": [],
      "gpuType": "T4",
      "include_colab_link": true
    },
    "kernelspec": {
      "name": "python3",
      "display_name": "Python 3"
    },
    "accelerator": "GPU",
    "widgets": {
      "application/vnd.jupyter.widget-state+json": {
        "9cce8ca7ac7f45908fa55b62b6a77861": {
          "model_module": "@jupyter-widgets/controls",
          "model_name": "HBoxModel",
          "model_module_version": "1.5.0",
          "state": {
            "_dom_classes": [],
            "_model_module": "@jupyter-widgets/controls",
            "_model_module_version": "1.5.0",
            "_model_name": "HBoxModel",
            "_view_count": null,
            "_view_module": "@jupyter-widgets/controls",
            "_view_module_version": "1.5.0",
            "_view_name": "HBoxView",
            "box_style": "",
            "children": [
              "IPY_MODEL_7b58e79e4c4e4d14bd690f0521e53d2d",
              "IPY_MODEL_35fb7a6a06bb4c7682fed31a84761d08",
              "IPY_MODEL_82a5e087b75647db86d70aeac9c9e6a4"
            ],
            "layout": "IPY_MODEL_bda2c5ba0a5c45a994ab1666da8de35b"
          }
        },
        "7b58e79e4c4e4d14bd690f0521e53d2d": {
          "model_module": "@jupyter-widgets/controls",
          "model_name": "HTMLModel",
          "model_module_version": "1.5.0",
          "state": {
            "_dom_classes": [],
            "_model_module": "@jupyter-widgets/controls",
            "_model_module_version": "1.5.0",
            "_model_name": "HTMLModel",
            "_view_count": null,
            "_view_module": "@jupyter-widgets/controls",
            "_view_module_version": "1.5.0",
            "_view_name": "HTMLView",
            "description": "",
            "description_tooltip": null,
            "layout": "IPY_MODEL_7aa24e10c6d54f1fa96fafc5fb6f5093",
            "placeholder": "​",
            "style": "IPY_MODEL_210d9622cd9844a48ff99b5cfd6fda37",
            "value": "pytorch_model.bin: 100%"
          }
        },
        "35fb7a6a06bb4c7682fed31a84761d08": {
          "model_module": "@jupyter-widgets/controls",
          "model_name": "FloatProgressModel",
          "model_module_version": "1.5.0",
          "state": {
            "_dom_classes": [],
            "_model_module": "@jupyter-widgets/controls",
            "_model_module_version": "1.5.0",
            "_model_name": "FloatProgressModel",
            "_view_count": null,
            "_view_module": "@jupyter-widgets/controls",
            "_view_module_version": "1.5.0",
            "_view_name": "ProgressView",
            "bar_style": "success",
            "description": "",
            "description_tooltip": null,
            "layout": "IPY_MODEL_a353810e6c0e43c79a90c3d6628feb11",
            "max": 1198627927,
            "min": 0,
            "orientation": "horizontal",
            "style": "IPY_MODEL_ff68bc05d75d4ca8a1077ed6fba67876",
            "value": 1198627927
          }
        },
        "82a5e087b75647db86d70aeac9c9e6a4": {
          "model_module": "@jupyter-widgets/controls",
          "model_name": "HTMLModel",
          "model_module_version": "1.5.0",
          "state": {
            "_dom_classes": [],
            "_model_module": "@jupyter-widgets/controls",
            "_model_module_version": "1.5.0",
            "_model_name": "HTMLModel",
            "_view_count": null,
            "_view_module": "@jupyter-widgets/controls",
            "_view_module_version": "1.5.0",
            "_view_name": "HTMLView",
            "description": "",
            "description_tooltip": null,
            "layout": "IPY_MODEL_d12be40cf5a84673aa46f67700c9815f",
            "placeholder": "​",
            "style": "IPY_MODEL_746767eec9f044a19420b359987b38e5",
            "value": " 1.20G/1.20G [00:36&lt;00:00, 24.1MB/s]"
          }
        },
        "bda2c5ba0a5c45a994ab1666da8de35b": {
          "model_module": "@jupyter-widgets/base",
          "model_name": "LayoutModel",
          "model_module_version": "1.2.0",
          "state": {
            "_model_module": "@jupyter-widgets/base",
            "_model_module_version": "1.2.0",
            "_model_name": "LayoutModel",
            "_view_count": null,
            "_view_module": "@jupyter-widgets/base",
            "_view_module_version": "1.2.0",
            "_view_name": "LayoutView",
            "align_content": null,
            "align_items": null,
            "align_self": null,
            "border": null,
            "bottom": null,
            "display": null,
            "flex": null,
            "flex_flow": null,
            "grid_area": null,
            "grid_auto_columns": null,
            "grid_auto_flow": null,
            "grid_auto_rows": null,
            "grid_column": null,
            "grid_gap": null,
            "grid_row": null,
            "grid_template_areas": null,
            "grid_template_columns": null,
            "grid_template_rows": null,
            "height": null,
            "justify_content": null,
            "justify_items": null,
            "left": null,
            "margin": null,
            "max_height": null,
            "max_width": null,
            "min_height": null,
            "min_width": null,
            "object_fit": null,
            "object_position": null,
            "order": null,
            "overflow": null,
            "overflow_x": null,
            "overflow_y": null,
            "padding": null,
            "right": null,
            "top": null,
            "visibility": null,
            "width": null
          }
        },
        "7aa24e10c6d54f1fa96fafc5fb6f5093": {
          "model_module": "@jupyter-widgets/base",
          "model_name": "LayoutModel",
          "model_module_version": "1.2.0",
          "state": {
            "_model_module": "@jupyter-widgets/base",
            "_model_module_version": "1.2.0",
            "_model_name": "LayoutModel",
            "_view_count": null,
            "_view_module": "@jupyter-widgets/base",
            "_view_module_version": "1.2.0",
            "_view_name": "LayoutView",
            "align_content": null,
            "align_items": null,
            "align_self": null,
            "border": null,
            "bottom": null,
            "display": null,
            "flex": null,
            "flex_flow": null,
            "grid_area": null,
            "grid_auto_columns": null,
            "grid_auto_flow": null,
            "grid_auto_rows": null,
            "grid_column": null,
            "grid_gap": null,
            "grid_row": null,
            "grid_template_areas": null,
            "grid_template_columns": null,
            "grid_template_rows": null,
            "height": null,
            "justify_content": null,
            "justify_items": null,
            "left": null,
            "margin": null,
            "max_height": null,
            "max_width": null,
            "min_height": null,
            "min_width": null,
            "object_fit": null,
            "object_position": null,
            "order": null,
            "overflow": null,
            "overflow_x": null,
            "overflow_y": null,
            "padding": null,
            "right": null,
            "top": null,
            "visibility": null,
            "width": null
          }
        },
        "210d9622cd9844a48ff99b5cfd6fda37": {
          "model_module": "@jupyter-widgets/controls",
          "model_name": "DescriptionStyleModel",
          "model_module_version": "1.5.0",
          "state": {
            "_model_module": "@jupyter-widgets/controls",
            "_model_module_version": "1.5.0",
            "_model_name": "DescriptionStyleModel",
            "_view_count": null,
            "_view_module": "@jupyter-widgets/base",
            "_view_module_version": "1.2.0",
            "_view_name": "StyleView",
            "description_width": ""
          }
        },
        "a353810e6c0e43c79a90c3d6628feb11": {
          "model_module": "@jupyter-widgets/base",
          "model_name": "LayoutModel",
          "model_module_version": "1.2.0",
          "state": {
            "_model_module": "@jupyter-widgets/base",
            "_model_module_version": "1.2.0",
            "_model_name": "LayoutModel",
            "_view_count": null,
            "_view_module": "@jupyter-widgets/base",
            "_view_module_version": "1.2.0",
            "_view_name": "LayoutView",
            "align_content": null,
            "align_items": null,
            "align_self": null,
            "border": null,
            "bottom": null,
            "display": null,
            "flex": null,
            "flex_flow": null,
            "grid_area": null,
            "grid_auto_columns": null,
            "grid_auto_flow": null,
            "grid_auto_rows": null,
            "grid_column": null,
            "grid_gap": null,
            "grid_row": null,
            "grid_template_areas": null,
            "grid_template_columns": null,
            "grid_template_rows": null,
            "height": null,
            "justify_content": null,
            "justify_items": null,
            "left": null,
            "margin": null,
            "max_height": null,
            "max_width": null,
            "min_height": null,
            "min_width": null,
            "object_fit": null,
            "object_position": null,
            "order": null,
            "overflow": null,
            "overflow_x": null,
            "overflow_y": null,
            "padding": null,
            "right": null,
            "top": null,
            "visibility": null,
            "width": null
          }
        },
        "ff68bc05d75d4ca8a1077ed6fba67876": {
          "model_module": "@jupyter-widgets/controls",
          "model_name": "ProgressStyleModel",
          "model_module_version": "1.5.0",
          "state": {
            "_model_module": "@jupyter-widgets/controls",
            "_model_module_version": "1.5.0",
            "_model_name": "ProgressStyleModel",
            "_view_count": null,
            "_view_module": "@jupyter-widgets/base",
            "_view_module_version": "1.2.0",
            "_view_name": "StyleView",
            "bar_color": null,
            "description_width": ""
          }
        },
        "d12be40cf5a84673aa46f67700c9815f": {
          "model_module": "@jupyter-widgets/base",
          "model_name": "LayoutModel",
          "model_module_version": "1.2.0",
          "state": {
            "_model_module": "@jupyter-widgets/base",
            "_model_module_version": "1.2.0",
            "_model_name": "LayoutModel",
            "_view_count": null,
            "_view_module": "@jupyter-widgets/base",
            "_view_module_version": "1.2.0",
            "_view_name": "LayoutView",
            "align_content": null,
            "align_items": null,
            "align_self": null,
            "border": null,
            "bottom": null,
            "display": null,
            "flex": null,
            "flex_flow": null,
            "grid_area": null,
            "grid_auto_columns": null,
            "grid_auto_flow": null,
            "grid_auto_rows": null,
            "grid_column": null,
            "grid_gap": null,
            "grid_row": null,
            "grid_template_areas": null,
            "grid_template_columns": null,
            "grid_template_rows": null,
            "height": null,
            "justify_content": null,
            "justify_items": null,
            "left": null,
            "margin": null,
            "max_height": null,
            "max_width": null,
            "min_height": null,
            "min_width": null,
            "object_fit": null,
            "object_position": null,
            "order": null,
            "overflow": null,
            "overflow_x": null,
            "overflow_y": null,
            "padding": null,
            "right": null,
            "top": null,
            "visibility": null,
            "width": null
          }
        },
        "746767eec9f044a19420b359987b38e5": {
          "model_module": "@jupyter-widgets/controls",
          "model_name": "DescriptionStyleModel",
          "model_module_version": "1.5.0",
          "state": {
            "_model_module": "@jupyter-widgets/controls",
            "_model_module_version": "1.5.0",
            "_model_name": "DescriptionStyleModel",
            "_view_count": null,
            "_view_module": "@jupyter-widgets/base",
            "_view_module_version": "1.2.0",
            "_view_name": "StyleView",
            "description_width": ""
          }
        },
        "e458774410ab45c9b6539a634b4c73a8": {
          "model_module": "@jupyter-widgets/controls",
          "model_name": "HBoxModel",
          "model_module_version": "1.5.0",
          "state": {
            "_dom_classes": [],
            "_model_module": "@jupyter-widgets/controls",
            "_model_module_version": "1.5.0",
            "_model_name": "HBoxModel",
            "_view_count": null,
            "_view_module": "@jupyter-widgets/controls",
            "_view_module_version": "1.5.0",
            "_view_name": "HBoxView",
            "box_style": "",
            "children": [
              "IPY_MODEL_a249f57037894b969e1b8e6406030d79",
              "IPY_MODEL_95018aab9d164533805aa04b110efc83",
              "IPY_MODEL_e96edecc8a4b4d2a9b1c220e8d74697a"
            ],
            "layout": "IPY_MODEL_86d3b9fc016641c68f62bac2cc724651"
          }
        },
        "a249f57037894b969e1b8e6406030d79": {
          "model_module": "@jupyter-widgets/controls",
          "model_name": "HTMLModel",
          "model_module_version": "1.5.0",
          "state": {
            "_dom_classes": [],
            "_model_module": "@jupyter-widgets/controls",
            "_model_module_version": "1.5.0",
            "_model_name": "HTMLModel",
            "_view_count": null,
            "_view_module": "@jupyter-widgets/controls",
            "_view_module_version": "1.5.0",
            "_view_name": "HTMLView",
            "description": "",
            "description_tooltip": null,
            "layout": "IPY_MODEL_dcb3b76251b241a3b1c6549cb428abc6",
            "placeholder": "​",
            "style": "IPY_MODEL_e942af5522cb4cfb95cce99244d3b1ac",
            "value": "model.safetensors: 100%"
          }
        },
        "95018aab9d164533805aa04b110efc83": {
          "model_module": "@jupyter-widgets/controls",
          "model_name": "FloatProgressModel",
          "model_module_version": "1.5.0",
          "state": {
            "_dom_classes": [],
            "_model_module": "@jupyter-widgets/controls",
            "_model_module_version": "1.5.0",
            "_model_name": "FloatProgressModel",
            "_view_count": null,
            "_view_module": "@jupyter-widgets/controls",
            "_view_module_version": "1.5.0",
            "_view_name": "ProgressView",
            "bar_style": "success",
            "description": "",
            "description_tooltip": null,
            "layout": "IPY_MODEL_e4b7ce1956f94e64ade84b1b01ac4407",
            "max": 1198571496,
            "min": 0,
            "orientation": "horizontal",
            "style": "IPY_MODEL_d74d9f1d44b74249a5f4066907afc193",
            "value": 1198571496
          }
        },
        "e96edecc8a4b4d2a9b1c220e8d74697a": {
          "model_module": "@jupyter-widgets/controls",
          "model_name": "HTMLModel",
          "model_module_version": "1.5.0",
          "state": {
            "_dom_classes": [],
            "_model_module": "@jupyter-widgets/controls",
            "_model_module_version": "1.5.0",
            "_model_name": "HTMLModel",
            "_view_count": null,
            "_view_module": "@jupyter-widgets/controls",
            "_view_module_version": "1.5.0",
            "_view_name": "HTMLView",
            "description": "",
            "description_tooltip": null,
            "layout": "IPY_MODEL_e585c35b68fc4da2815b1e60ff662093",
            "placeholder": "​",
            "style": "IPY_MODEL_09a253a189e24becbef8d78e228b2e83",
            "value": " 1.20G/1.20G [00:23&lt;00:00, 80.6MB/s]"
          }
        },
        "86d3b9fc016641c68f62bac2cc724651": {
          "model_module": "@jupyter-widgets/base",
          "model_name": "LayoutModel",
          "model_module_version": "1.2.0",
          "state": {
            "_model_module": "@jupyter-widgets/base",
            "_model_module_version": "1.2.0",
            "_model_name": "LayoutModel",
            "_view_count": null,
            "_view_module": "@jupyter-widgets/base",
            "_view_module_version": "1.2.0",
            "_view_name": "LayoutView",
            "align_content": null,
            "align_items": null,
            "align_self": null,
            "border": null,
            "bottom": null,
            "display": null,
            "flex": null,
            "flex_flow": null,
            "grid_area": null,
            "grid_auto_columns": null,
            "grid_auto_flow": null,
            "grid_auto_rows": null,
            "grid_column": null,
            "grid_gap": null,
            "grid_row": null,
            "grid_template_areas": null,
            "grid_template_columns": null,
            "grid_template_rows": null,
            "height": null,
            "justify_content": null,
            "justify_items": null,
            "left": null,
            "margin": null,
            "max_height": null,
            "max_width": null,
            "min_height": null,
            "min_width": null,
            "object_fit": null,
            "object_position": null,
            "order": null,
            "overflow": null,
            "overflow_x": null,
            "overflow_y": null,
            "padding": null,
            "right": null,
            "top": null,
            "visibility": null,
            "width": null
          }
        },
        "dcb3b76251b241a3b1c6549cb428abc6": {
          "model_module": "@jupyter-widgets/base",
          "model_name": "LayoutModel",
          "model_module_version": "1.2.0",
          "state": {
            "_model_module": "@jupyter-widgets/base",
            "_model_module_version": "1.2.0",
            "_model_name": "LayoutModel",
            "_view_count": null,
            "_view_module": "@jupyter-widgets/base",
            "_view_module_version": "1.2.0",
            "_view_name": "LayoutView",
            "align_content": null,
            "align_items": null,
            "align_self": null,
            "border": null,
            "bottom": null,
            "display": null,
            "flex": null,
            "flex_flow": null,
            "grid_area": null,
            "grid_auto_columns": null,
            "grid_auto_flow": null,
            "grid_auto_rows": null,
            "grid_column": null,
            "grid_gap": null,
            "grid_row": null,
            "grid_template_areas": null,
            "grid_template_columns": null,
            "grid_template_rows": null,
            "height": null,
            "justify_content": null,
            "justify_items": null,
            "left": null,
            "margin": null,
            "max_height": null,
            "max_width": null,
            "min_height": null,
            "min_width": null,
            "object_fit": null,
            "object_position": null,
            "order": null,
            "overflow": null,
            "overflow_x": null,
            "overflow_y": null,
            "padding": null,
            "right": null,
            "top": null,
            "visibility": null,
            "width": null
          }
        },
        "e942af5522cb4cfb95cce99244d3b1ac": {
          "model_module": "@jupyter-widgets/controls",
          "model_name": "DescriptionStyleModel",
          "model_module_version": "1.5.0",
          "state": {
            "_model_module": "@jupyter-widgets/controls",
            "_model_module_version": "1.5.0",
            "_model_name": "DescriptionStyleModel",
            "_view_count": null,
            "_view_module": "@jupyter-widgets/base",
            "_view_module_version": "1.2.0",
            "_view_name": "StyleView",
            "description_width": ""
          }
        },
        "e4b7ce1956f94e64ade84b1b01ac4407": {
          "model_module": "@jupyter-widgets/base",
          "model_name": "LayoutModel",
          "model_module_version": "1.2.0",
          "state": {
            "_model_module": "@jupyter-widgets/base",
            "_model_module_version": "1.2.0",
            "_model_name": "LayoutModel",
            "_view_count": null,
            "_view_module": "@jupyter-widgets/base",
            "_view_module_version": "1.2.0",
            "_view_name": "LayoutView",
            "align_content": null,
            "align_items": null,
            "align_self": null,
            "border": null,
            "bottom": null,
            "display": null,
            "flex": null,
            "flex_flow": null,
            "grid_area": null,
            "grid_auto_columns": null,
            "grid_auto_flow": null,
            "grid_auto_rows": null,
            "grid_column": null,
            "grid_gap": null,
            "grid_row": null,
            "grid_template_areas": null,
            "grid_template_columns": null,
            "grid_template_rows": null,
            "height": null,
            "justify_content": null,
            "justify_items": null,
            "left": null,
            "margin": null,
            "max_height": null,
            "max_width": null,
            "min_height": null,
            "min_width": null,
            "object_fit": null,
            "object_position": null,
            "order": null,
            "overflow": null,
            "overflow_x": null,
            "overflow_y": null,
            "padding": null,
            "right": null,
            "top": null,
            "visibility": null,
            "width": null
          }
        },
        "d74d9f1d44b74249a5f4066907afc193": {
          "model_module": "@jupyter-widgets/controls",
          "model_name": "ProgressStyleModel",
          "model_module_version": "1.5.0",
          "state": {
            "_model_module": "@jupyter-widgets/controls",
            "_model_module_version": "1.5.0",
            "_model_name": "ProgressStyleModel",
            "_view_count": null,
            "_view_module": "@jupyter-widgets/base",
            "_view_module_version": "1.2.0",
            "_view_name": "StyleView",
            "bar_color": null,
            "description_width": ""
          }
        },
        "e585c35b68fc4da2815b1e60ff662093": {
          "model_module": "@jupyter-widgets/base",
          "model_name": "LayoutModel",
          "model_module_version": "1.2.0",
          "state": {
            "_model_module": "@jupyter-widgets/base",
            "_model_module_version": "1.2.0",
            "_model_name": "LayoutModel",
            "_view_count": null,
            "_view_module": "@jupyter-widgets/base",
            "_view_module_version": "1.2.0",
            "_view_name": "LayoutView",
            "align_content": null,
            "align_items": null,
            "align_self": null,
            "border": null,
            "bottom": null,
            "display": null,
            "flex": null,
            "flex_flow": null,
            "grid_area": null,
            "grid_auto_columns": null,
            "grid_auto_flow": null,
            "grid_auto_rows": null,
            "grid_column": null,
            "grid_gap": null,
            "grid_row": null,
            "grid_template_areas": null,
            "grid_template_columns": null,
            "grid_template_rows": null,
            "height": null,
            "justify_content": null,
            "justify_items": null,
            "left": null,
            "margin": null,
            "max_height": null,
            "max_width": null,
            "min_height": null,
            "min_width": null,
            "object_fit": null,
            "object_position": null,
            "order": null,
            "overflow": null,
            "overflow_x": null,
            "overflow_y": null,
            "padding": null,
            "right": null,
            "top": null,
            "visibility": null,
            "width": null
          }
        },
        "09a253a189e24becbef8d78e228b2e83": {
          "model_module": "@jupyter-widgets/controls",
          "model_name": "DescriptionStyleModel",
          "model_module_version": "1.5.0",
          "state": {
            "_model_module": "@jupyter-widgets/controls",
            "_model_module_version": "1.5.0",
            "_model_name": "DescriptionStyleModel",
            "_view_count": null,
            "_view_module": "@jupyter-widgets/base",
            "_view_module_version": "1.2.0",
            "_view_name": "StyleView",
            "description_width": ""
          }
        }
      }
    }
  },
  "nbformat": 4,
  "nbformat_minor": 5
}