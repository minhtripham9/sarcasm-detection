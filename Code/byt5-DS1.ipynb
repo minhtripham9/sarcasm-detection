{
 "cells": [
  {
   "cell_type": "markdown",
   "id": "7353f36e",
   "metadata": {},
   "source": [
    "## byt5-DS1"
   ]
  },
  {
   "cell_type": "markdown",
   "id": "1a560783",
   "metadata": {},
   "source": [
    "### Managing imports"
   ]
  },
  {
   "cell_type": "code",
   "execution_count": null,
   "id": "cb519b4b",
   "metadata": {},
   "outputs": [],
   "source": [
    "import pandas as pd\n",
    "import numpy as np\n",
    "import seaborn as sns\n",
    "import matplotlib.pyplot as plt\n",
    "import joblib\n",
    "import torch\n",
    "from transformers import AutoTokenizer, AutoModelForSequenceClassification\n",
    "from sklearn.model_selection import train_test_split\n",
    "from sklearn.svm import SVC\n",
    "from sklearn.feature_extraction.text import TfidfVectorizer\n",
    "from sklearn.metrics import classification_report, confusion_matrix\n",
    "from tensorflow.keras.preprocessing.text import Tokenizer\n",
    "from tensorflow.keras.preprocessing.sequence import pad_sequences\n",
    "from tensorflow.keras.models import Sequential\n",
    "from tensorflow.keras.layers import Embedding, LSTM, Dense, Dropout\n",
    "from torch.utils.data import TensorDataset, DataLoader\n",
    "from torch.optim import AdamW\n",
    "from tqdm import tqdm\n",
    "\n"
   ]
  },
  {
   "cell_type": "markdown",
   "id": "43ec97b3",
   "metadata": {},
   "source": [
    "#### Loading dataset 1"
   ]
  },
  {
   "cell_type": "code",
   "execution_count": null,
   "id": "31316467",
   "metadata": {},
   "outputs": [],
   "source": [
    "# Load the JSONL file (lines=True is key!)\n",
    "df1 = pd.read_json('Dataset/sarcasm_detection_shared_task_reddit_training.jsonl', lines=True)\n",
    "\n",
    "# Map label: SARCASM -> 1, NOT_SARCASM -> 0\n",
    "df1['label'] = df1['label'].replace({'SARCASM': 1, 'NOT_SARCASM': 0}).astype(int)\n",
    "\n",
    "# Convert context list to string (join with ' ||| ')\n",
    "df1['context'] = df1['context'].apply(lambda x: ' ||| '.join(x) if isinstance(x, list) else '')\n",
    "\n",
    "# Save to CSV\n",
    "df1.to_csv('Dataset/sarcasm_detection_training_data.csv', index=False, columns=['label', 'response', 'context'])\n",
    "df1\n"
   ]
  },
  {
   "cell_type": "markdown",
   "id": "f65ca20e",
   "metadata": {},
   "source": [
    "#### Preparing dataset 1"
   ]
  },
  {
   "cell_type": "code",
   "execution_count": null,
   "id": "c6049436",
   "metadata": {},
   "outputs": [],
   "source": [
    "df1['input_text'] = df1['response'] + ' [SEP] ' + df1['context']\n",
    "\n",
    "# Check the result\n",
    "print(df1[['input_text', 'label']].head())"
   ]
  },
  {
   "cell_type": "code",
   "execution_count": null,
   "id": "54da2e76",
   "metadata": {},
   "outputs": [],
   "source": [
    "# Split\n",
    "X_train, X_test, y_train, y_test = train_test_split(\n",
    "    df1['input_text'], df1['label'],\n",
    "    test_size=0.2, random_state=42, stratify=df1['label']\n",
    ")\n",
    "\n",
    "train_df1 = pd.DataFrame({'input_text': X_train, 'label': y_train})\n",
    "test_df1 = pd.DataFrame({'input_text': X_test, 'label': y_test})\n",
    "\n",
    "print(\"Train and test splits saved!\")"
   ]
  },
  {
   "cell_type": "markdown",
   "id": "b731ff61",
   "metadata": {},
   "source": [
    "### Onto Token-free models : ByT5"
   ]
  },
  {
   "cell_type": "markdown",
   "id": "e138b629",
   "metadata": {},
   "source": [
    "#### Training"
   ]
  },
  {
   "cell_type": "code",
   "execution_count": null,
   "id": "e8d0f5b1",
   "metadata": {},
   "outputs": [],
   "source": [
    "train_df1['input_text'] = train_df1['input_text'].fillna(\"\").astype(str)\n",
    "test_df1['input_text'] = test_df1['input_text'].fillna(\"\").astype(str)\n",
    "\n",
    "X_train_byt5 = train_df1['input_text'].tolist()\n",
    "y_train_byt5 = train_df1['label'].tolist()\n",
    "X_test_byt5 = test_df1['input_text'].tolist()\n",
    "y_test_byt5 = test_df1['label'].tolist()"
   ]
  },
  {
   "cell_type": "code",
   "execution_count": null,
   "id": "dc9b8cc4",
   "metadata": {},
   "outputs": [],
   "source": [
    "tokenizer = AutoTokenizer.from_pretrained(\"google/byt5-small\")\n",
    "\n",
    "def tokenize(texts):\n",
    "    return tokenizer(\n",
    "        texts,\n",
    "        padding=\"max_length\",\n",
    "        truncation=True,\n",
    "        max_length=110,         # You can adjust for your dataset\n",
    "        return_tensors='pt'\n",
    "    )\n",
    "\n",
    "X_train_enc_byt5 = tokenize(X_train_byt5)\n",
    "X_test_enc_byt5 = tokenize(X_test_byt5)"
   ]
  },
  {
   "cell_type": "code",
   "execution_count": null,
   "id": "e203f36f",
   "metadata": {},
   "outputs": [],
   "source": [
    "train_dataset_byt5 = TensorDataset(\n",
    "    X_train_enc_byt5['input_ids'],\n",
    "    X_train_enc_byt5['attention_mask'],\n",
    "    torch.tensor(y_train_byt5)\n",
    ")\n",
    "\n",
    "test_dataset_byt5 = TensorDataset(\n",
    "    X_test_enc_byt5['input_ids'],\n",
    "    X_test_enc_byt5['attention_mask'],\n",
    "    torch.tensor(y_test_byt5)\n",
    ")"
   ]
  },
  {
   "cell_type": "code",
   "execution_count": null,
   "id": "1a205aaf",
   "metadata": {},
   "outputs": [],
   "source": [
    "batch_size = 16\n",
    "\n",
    "train_loader = DataLoader(train_dataset_byt5, batch_size=batch_size, shuffle=True)\n",
    "test_loader = DataLoader(test_dataset_byt5, batch_size=batch_size)"
   ]
  },
  {
   "cell_type": "code",
   "execution_count": null,
   "id": "c81cf672",
   "metadata": {},
   "outputs": [],
   "source": [
    "device = torch.device('cuda' if torch.cuda.is_available() else 'cpu')\n",
    "\n",
    "model = AutoModelForSequenceClassification.from_pretrained(\"google/byt5-small\", num_labels=2)\n",
    "model = model.to(device)"
   ]
  },
  {
   "cell_type": "code",
   "execution_count": null,
   "id": "3fdc62bf",
   "metadata": {},
   "outputs": [],
   "source": [
    "optimizer = AdamW(model.parameters(), lr=2e-5)"
   ]
  },
  {
   "cell_type": "markdown",
   "id": "e34e41d9",
   "metadata": {},
   "source": [
    "#### Training loop\n"
   ]
  },
  {
   "cell_type": "code",
   "execution_count": null,
   "id": "d80affb9",
   "metadata": {},
   "outputs": [],
   "source": [
    "epochs = 3\n",
    "\n",
    "for epoch in range(epochs):\n",
    "    model.train()\n",
    "    total_loss = 0\n",
    "    for batch in tqdm(train_loader):\n",
    "        b_input_ids, b_attn_mask, b_labels = [x.to(device) for x in batch]\n",
    "        outputs = model(input_ids=b_input_ids, attention_mask=b_attn_mask, labels=b_labels)\n",
    "        loss = outputs.loss\n",
    "        optimizer.zero_grad()\n",
    "        loss.backward()\n",
    "        optimizer.step()\n",
    "        total_loss += loss.item()\n",
    "    print(f\"Epoch {epoch+1} Loss: {total_loss/len(train_loader):.4f}\")"
   ]
  },
  {
   "cell_type": "markdown",
   "id": "cd3ca4bd",
   "metadata": {},
   "source": [
    "#### Evaluation"
   ]
  },
  {
   "cell_type": "code",
   "execution_count": null,
   "id": "ba1fa557",
   "metadata": {},
   "outputs": [],
   "source": [
    "model.eval()\n",
    "preds_byt5, truths_byt5 = [], []\n",
    "with torch.no_grad():\n",
    "    for batch in test_loader:\n",
    "        b_input_ids, b_attn_mask, b_labels = [x.to(device) for x in batch]\n",
    "        outputs = model(input_ids=b_input_ids, attention_mask=b_attn_mask)\n",
    "        logits = outputs.logits\n",
    "        preds_byt5.extend(torch.argmax(logits, dim=1).cpu().numpy())\n",
    "        truths_byt5.extend(b_labels.cpu().numpy())\n",
    "\n",
    "print(classification_report(truths_byt5, preds_byt5, target_names=['Not Sarcastic', 'Sarcastic']))\n",
    "\n",
    "cm_byt5 = confusion_matrix(truths_byt5, preds_byt5)\n",
    "labels = ['Not Sarcastic', 'Sarcastic']\n",
    "\n",
    "plt.figure(figsize=(6, 5))\n",
    "sns.heatmap(cm_byt5, annot=True, fmt='d', cmap='Blues',\n",
    "            xticklabels=labels, yticklabels=labels)\n",
    "plt.xlabel('Predicted Label')\n",
    "plt.ylabel('True Label')\n",
    "plt.title('Confusion Matrix - ByT5 Sarcasm Detection Dataset 1')\n",
    "plt.tight_layout()\n",
    "plt.show()"
   ]
  }
 ],
 "metadata": {
  "language_info": {
   "name": "python"
  }
 },
 "nbformat": 4,
 "nbformat_minor": 5
}
