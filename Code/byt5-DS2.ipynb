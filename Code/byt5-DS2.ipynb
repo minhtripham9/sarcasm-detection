{
  "cells": [
    {
      "cell_type": "markdown",
      "id": "7353f36e",
      "metadata": {
        "id": "7353f36e"
      },
      "source": [
        "## byt5-DS2"
      ]
    },
    {
      "cell_type": "markdown",
      "id": "1a560783",
      "metadata": {
        "id": "1a560783"
      },
      "source": [
        "### Managing imports"
      ]
    },
    {
      "cell_type": "code",
      "execution_count": null,
      "id": "cb519b4b",
      "metadata": {
        "id": "cb519b4b"
      },
      "outputs": [],
      "source": [
        "import pandas as pd\n",
        "import numpy as np\n",
        "import seaborn as sns\n",
        "import matplotlib.pyplot as plt\n",
        "import joblib\n",
        "import torch\n",
        "from transformers import AutoTokenizer, AutoModelForSequenceClassification\n",
        "from sklearn.model_selection import train_test_split\n",
        "from sklearn.svm import SVC\n",
        "from sklearn.feature_extraction.text import TfidfVectorizer\n",
        "from sklearn.metrics import classification_report, confusion_matrix\n",
        "from tensorflow.keras.preprocessing.text import Tokenizer\n",
        "from tensorflow.keras.preprocessing.sequence import pad_sequences\n",
        "from tensorflow.keras.models import Sequential\n",
        "from tensorflow.keras.layers import Embedding, LSTM, Dense, Dropout\n",
        "from torch.utils.data import TensorDataset, DataLoader\n",
        "from torch.optim import AdamW\n",
        "from tqdm import tqdm\n",
        "\n"
      ]
    },
    {
      "cell_type": "markdown",
      "id": "83b57e40",
      "metadata": {
        "id": "83b57e40"
      },
      "source": [
        "## Without context"
      ]
    },
    {
      "cell_type": "markdown",
      "id": "43ec97b3",
      "metadata": {
        "id": "43ec97b3"
      },
      "source": [
        "#### Loading dataset 2"
      ]
    },
    {
      "cell_type": "code",
      "execution_count": null,
      "id": "31316467",
      "metadata": {
        "id": "31316467"
      },
      "outputs": [],
      "source": [
        "# Only read the first 4400 rows and specific columns\n",
        "cols_to_use = ['label', 'comment', 'parent_comment']\n",
        "\n",
        "df = pd.read_csv('Dataset/train-balanced-sarcasm.csv', usecols=cols_to_use, nrows=4400)\n",
        "\n",
        "# Rename columns\n",
        "df = df.rename(columns={\n",
        "    'comment': 'response',\n",
        "    'parent_comment': 'context'\n",
        "})\n",
        "\n",
        "df\n"
      ]
    },
    {
      "cell_type": "markdown",
      "id": "f65ca20e",
      "metadata": {
        "id": "f65ca20e"
      },
      "source": [
        "#### Preparing dataset 2"
      ]
    },
    {
      "cell_type": "code",
      "execution_count": null,
      "id": "c6049436",
      "metadata": {
        "id": "c6049436"
      },
      "outputs": [],
      "source": [
        "df['input_text'] = df['response']\n",
        "\n",
        "# Check the result\n",
        "print(df[['input_text', 'label']].head())"
      ]
    },
    {
      "cell_type": "code",
      "execution_count": null,
      "id": "54da2e76",
      "metadata": {
        "id": "54da2e76"
      },
      "outputs": [],
      "source": [
        "# Split\n",
        "X_train, X_test, y_train, y_test = train_test_split(\n",
        "    df['input_text'], df['label'],\n",
        "    test_size=0.2, random_state=42, stratify=df['label']\n",
        ")\n",
        "\n",
        "train_df = pd.DataFrame({'input_text': X_train, 'label': y_train})\n",
        "test_df = pd.DataFrame({'input_text': X_test, 'label': y_test})\n",
        "\n",
        "print(\"Train and test splits saved!\")"
      ]
    },
    {
      "cell_type": "markdown",
      "id": "e138b629",
      "metadata": {
        "id": "e138b629"
      },
      "source": [
        "#### Training"
      ]
    },
    {
      "cell_type": "code",
      "execution_count": null,
      "id": "e8d0f5b1",
      "metadata": {
        "id": "e8d0f5b1"
      },
      "outputs": [],
      "source": [
        "train_df['input_text'] = train_df['input_text'].fillna(\"\").astype(str)\n",
        "test_df['input_text'] = test_df['input_text'].fillna(\"\").astype(str)\n",
        "\n",
        "X_train_byt5 = train_df['input_text'].tolist()\n",
        "y_train_byt5 = train_df['label'].tolist()\n",
        "X_test_byt5 = test_df['input_text'].tolist()\n",
        "y_test_byt5 = test_df['label'].tolist()"
      ]
    },
    {
      "cell_type": "code",
      "execution_count": null,
      "id": "dc9b8cc4",
      "metadata": {
        "id": "dc9b8cc4"
      },
      "outputs": [],
      "source": [
        "tokenizer = AutoTokenizer.from_pretrained(\"google/byt5-small\")\n",
        "\n",
        "def tokenize(texts):\n",
        "    return tokenizer(\n",
        "        texts,\n",
        "        padding=\"max_length\",\n",
        "        truncation=True,\n",
        "        max_length=128,         # You can adjust for your dataset\n",
        "        return_tensors='pt'\n",
        "    )\n",
        "\n",
        "X_train_enc_byt5 = tokenize(X_train_byt5)\n",
        "X_test_enc_byt5 = tokenize(X_test_byt5)"
      ]
    },
    {
      "cell_type": "code",
      "execution_count": null,
      "id": "e203f36f",
      "metadata": {
        "id": "e203f36f"
      },
      "outputs": [],
      "source": [
        "train_dataset_byt5 = TensorDataset(\n",
        "    X_train_enc_byt5['input_ids'],\n",
        "    X_train_enc_byt5['attention_mask'],\n",
        "    torch.tensor(y_train_byt5)\n",
        ")\n",
        "\n",
        "test_dataset_byt5 = TensorDataset(\n",
        "    X_test_enc_byt5['input_ids'],\n",
        "    X_test_enc_byt5['attention_mask'],\n",
        "    torch.tensor(y_test_byt5)\n",
        ")"
      ]
    },
    {
      "cell_type": "code",
      "execution_count": null,
      "id": "1a205aaf",
      "metadata": {
        "id": "1a205aaf"
      },
      "outputs": [],
      "source": [
        "batch_size = 24\n",
        "\n",
        "train_loader = DataLoader(train_dataset_byt5, batch_size=batch_size, shuffle=True)\n",
        "test_loader = DataLoader(test_dataset_byt5, batch_size=batch_size)"
      ]
    },
    {
      "cell_type": "code",
      "execution_count": null,
      "id": "c81cf672",
      "metadata": {
        "id": "c81cf672"
      },
      "outputs": [],
      "source": [
        "device = torch.device('cuda' if torch.cuda.is_available() else 'cpu')\n",
        "\n",
        "model = AutoModelForSequenceClassification.from_pretrained(\"google/byt5-small\", num_labels=2)\n",
        "model = model.to(device)"
      ]
    },
    {
      "cell_type": "code",
      "execution_count": null,
      "id": "3fdc62bf",
      "metadata": {
        "id": "3fdc62bf"
      },
      "outputs": [],
      "source": [
        "optimizer = AdamW(model.parameters(), lr=3e-5)"
      ]
    },
    {
      "cell_type": "markdown",
      "id": "e34e41d9",
      "metadata": {
        "id": "e34e41d9"
      },
      "source": [
        "#### Training loop\n"
      ]
    },
    {
      "cell_type": "code",
      "execution_count": null,
      "id": "d80affb9",
      "metadata": {
        "id": "d80affb9"
      },
      "outputs": [],
      "source": [
        "epochs = 3\n",
        "\n",
        "for epoch in range(epochs):\n",
        "    model.train()\n",
        "    total_loss = 0\n",
        "    for batch in tqdm(train_loader):\n",
        "        b_input_ids, b_attn_mask, b_labels = [x.to(device) for x in batch]\n",
        "        outputs = model(input_ids=b_input_ids, attention_mask=b_attn_mask, labels=b_labels)\n",
        "        loss = outputs.loss\n",
        "        optimizer.zero_grad()\n",
        "        loss.backward()\n",
        "        optimizer.step()\n",
        "        total_loss += loss.item()\n",
        "    print(f\"Epoch {epoch+1} Loss: {total_loss/len(train_loader):.4f}\")"
      ]
    },
    {
      "cell_type": "markdown",
      "id": "cd3ca4bd",
      "metadata": {
        "id": "cd3ca4bd"
      },
      "source": [
        "#### Evaluation"
      ]
    },
    {
      "cell_type": "code",
      "execution_count": null,
      "id": "ba1fa557",
      "metadata": {
        "id": "ba1fa557"
      },
      "outputs": [],
      "source": [
        "model.eval()\n",
        "preds_byt5, truths_byt5 = [], []\n",
        "with torch.no_grad():\n",
        "    for batch in test_loader:\n",
        "        b_input_ids, b_attn_mask, b_labels = [x.to(device) for x in batch]\n",
        "        outputs = model(input_ids=b_input_ids, attention_mask=b_attn_mask)\n",
        "        logits = outputs.logits\n",
        "        preds_byt5.extend(torch.argmax(logits, dim=1).cpu().numpy())\n",
        "        truths_byt5.extend(b_labels.cpu().numpy())\n",
        "\n",
        "print(classification_report(truths_byt5, preds_byt5, target_names=['Not Sarcastic', 'Sarcastic']))\n",
        "\n",
        "cm_byt5 = confusion_matrix(truths_byt5, preds_byt5)\n",
        "labels = ['Not Sarcastic', 'Sarcastic']\n",
        "\n",
        "plt.figure(figsize=(6, 5))\n",
        "sns.heatmap(cm_byt5, annot=True, fmt='d', cmap='Blues',\n",
        "            xticklabels=labels, yticklabels=labels)\n",
        "plt.xlabel('Predicted Label')\n",
        "plt.ylabel('True Label')\n",
        "plt.title('Confusion Matrix - ByT5 Sarcasm Detection Dataset 2')\n",
        "plt.tight_layout()\n",
        "plt.show()"
      ]
    },
    {
      "cell_type": "markdown",
      "id": "3492f720",
      "metadata": {
        "id": "3492f720"
      },
      "source": [
        "## With context"
      ]
    },
    {
      "cell_type": "markdown",
      "id": "ef2f2e52",
      "metadata": {
        "id": "ef2f2e52"
      },
      "source": [
        "#### Loading dataset 2"
      ]
    },
    {
      "cell_type": "code",
      "execution_count": null,
      "id": "3ecc1413",
      "metadata": {
        "id": "3ecc1413"
      },
      "outputs": [],
      "source": [
        "df['input_text'] = 'Text to analyse: ' + df['response'] + ' [SEP] ' + 'Context: ' + df['context']\n",
        "\n",
        "# Check the result\n",
        "print(df[['input_text', 'label']].head())\n"
      ]
    },
    {
      "cell_type": "markdown",
      "id": "7febbe83",
      "metadata": {
        "id": "7febbe83"
      },
      "source": [
        "#### Prepare dataset 2"
      ]
    },
    {
      "cell_type": "code",
      "execution_count": null,
      "id": "9e21ea2a",
      "metadata": {
        "id": "9e21ea2a"
      },
      "outputs": [],
      "source": [
        "# Split\n",
        "X_train, X_test, y_train, y_test = train_test_split(\n",
        "    df['input_text'], df['label'],\n",
        "    test_size=0.2, random_state=42, stratify=df['label']\n",
        ")\n",
        "\n",
        "train_df = pd.DataFrame({'input_text': X_train, 'label': y_train})\n",
        "test_df = pd.DataFrame({'input_text': X_test, 'label': y_test})\n",
        "\n",
        "print(\"Train and test splits saved!\")"
      ]
    },
    {
      "cell_type": "markdown",
      "id": "4c23cfe4",
      "metadata": {
        "id": "4c23cfe4"
      },
      "source": [
        "#### Training"
      ]
    },
    {
      "cell_type": "code",
      "execution_count": null,
      "id": "d18c9006",
      "metadata": {
        "id": "d18c9006"
      },
      "outputs": [],
      "source": [
        "train_df['input_text'] = train_df['input_text'].fillna(\"\").astype(str)\n",
        "test_df['input_text'] = test_df['input_text'].fillna(\"\").astype(str)\n",
        "\n",
        "X_train_byt5 = train_df['input_text'].tolist()\n",
        "y_train_byt5 = train_df['label'].tolist()\n",
        "X_test_byt5 = test_df['input_text'].tolist()\n",
        "y_test_byt5 = test_df['label'].tolist()"
      ]
    },
    {
      "cell_type": "code",
      "execution_count": null,
      "id": "515cd32a",
      "metadata": {
        "id": "515cd32a"
      },
      "outputs": [],
      "source": [
        "tokenizer = AutoTokenizer.from_pretrained(\"google/byt5-small\")\n",
        "\n",
        "def tokenize(texts):\n",
        "    return tokenizer(\n",
        "        texts,\n",
        "        padding=\"max_length\",\n",
        "        truncation=True,\n",
        "        max_length=128,         # You can adjust for your dataset\n",
        "        return_tensors='pt'\n",
        "    )\n",
        "\n",
        "X_train_enc_byt5 = tokenize(X_train_byt5)\n",
        "X_test_enc_byt5 = tokenize(X_test_byt5)"
      ]
    },
    {
      "cell_type": "code",
      "execution_count": null,
      "id": "733c15e5",
      "metadata": {
        "id": "733c15e5"
      },
      "outputs": [],
      "source": [
        "train_dataset_byt5 = TensorDataset(\n",
        "    X_train_enc_byt5['input_ids'],\n",
        "    X_train_enc_byt5['attention_mask'],\n",
        "    torch.tensor(y_train_byt5)\n",
        ")\n",
        "\n",
        "test_dataset_byt5 = TensorDataset(\n",
        "    X_test_enc_byt5['input_ids'],\n",
        "    X_test_enc_byt5['attention_mask'],\n",
        "    torch.tensor(y_test_byt5)\n",
        ")"
      ]
    },
    {
      "cell_type": "code",
      "execution_count": null,
      "id": "0f0e631a",
      "metadata": {
        "id": "0f0e631a"
      },
      "outputs": [],
      "source": [
        "batch_size = 24\n",
        "\n",
        "train_loader = DataLoader(train_dataset_byt5, batch_size=batch_size, shuffle=True)\n",
        "test_loader = DataLoader(test_dataset_byt5, batch_size=batch_size)"
      ]
    },
    {
      "cell_type": "code",
      "execution_count": null,
      "id": "ee33d661",
      "metadata": {
        "id": "ee33d661"
      },
      "outputs": [],
      "source": [
        "device = torch.device('cuda' if torch.cuda.is_available() else 'cpu')\n",
        "\n",
        "model = AutoModelForSequenceClassification.from_pretrained(\"google/byt5-small\", num_labels=2)\n",
        "model = model.to(device)"
      ]
    },
    {
      "cell_type": "code",
      "execution_count": null,
      "id": "3fb69f13",
      "metadata": {
        "id": "3fb69f13"
      },
      "outputs": [],
      "source": [
        "optimizer = AdamW(model.parameters(), lr=3e-5)"
      ]
    },
    {
      "cell_type": "markdown",
      "id": "bebab123",
      "metadata": {
        "id": "bebab123"
      },
      "source": [
        "#### Training loop\n"
      ]
    },
    {
      "cell_type": "code",
      "execution_count": null,
      "id": "566d9ca1",
      "metadata": {
        "id": "566d9ca1"
      },
      "outputs": [],
      "source": [
        "epochs = 3\n",
        "\n",
        "for epoch in range(epochs):\n",
        "    model.train()\n",
        "    total_loss = 0\n",
        "    for batch in tqdm(train_loader):\n",
        "        b_input_ids, b_attn_mask, b_labels = [x.to(device) for x in batch]\n",
        "        outputs = model(input_ids=b_input_ids, attention_mask=b_attn_mask, labels=b_labels)\n",
        "        loss = outputs.loss\n",
        "        optimizer.zero_grad()\n",
        "        loss.backward()\n",
        "        optimizer.step()\n",
        "        total_loss += loss.item()\n",
        "    print(f\"Epoch {epoch+1} Loss: {total_loss/len(train_loader):.4f}\")"
      ]
    },
    {
      "cell_type": "markdown",
      "id": "55a856ab",
      "metadata": {
        "id": "55a856ab"
      },
      "source": [
        "#### Evaluation"
      ]
    },
    {
      "cell_type": "code",
      "execution_count": null,
      "id": "d207e3ac",
      "metadata": {
        "id": "d207e3ac"
      },
      "outputs": [],
      "source": [
        "model.eval()\n",
        "preds_byt5, truths_byt5 = [], []\n",
        "with torch.no_grad():\n",
        "    for batch in test_loader:\n",
        "        b_input_ids, b_attn_mask, b_labels = [x.to(device) for x in batch]\n",
        "        outputs = model(input_ids=b_input_ids, attention_mask=b_attn_mask)\n",
        "        logits = outputs.logits\n",
        "        preds_byt5.extend(torch.argmax(logits, dim=1).cpu().numpy())\n",
        "        truths_byt5.extend(b_labels.cpu().numpy())\n",
        "\n",
        "print(classification_report(truths_byt5, preds_byt5, target_names=['Not Sarcastic', 'Sarcastic']))\n",
        "\n",
        "cm_byt5 = confusion_matrix(truths_byt5, preds_byt5)\n",
        "labels = ['Not Sarcastic', 'Sarcastic']\n",
        "\n",
        "plt.figure(figsize=(6, 5))\n",
        "sns.heatmap(cm_byt5, annot=True, fmt='d', cmap='Blues',\n",
        "            xticklabels=labels, yticklabels=labels)\n",
        "plt.xlabel('Predicted Label')\n",
        "plt.ylabel('True Label')\n",
        "plt.title('Confusion Matrix - ByT5 Sarcasm Detection Dataset 2')\n",
        "plt.tight_layout()\n",
        "plt.show()"
      ]
    }
  ],
  "metadata": {
    "language_info": {
      "name": "python"
    },
    "colab": {
      "provenance": [],
      "gpuType": "T4"
    },
    "accelerator": "GPU",
    "kernelspec": {
      "name": "python3",
      "display_name": "Python 3"
    }
  },
  "nbformat": 4,
  "nbformat_minor": 5
}