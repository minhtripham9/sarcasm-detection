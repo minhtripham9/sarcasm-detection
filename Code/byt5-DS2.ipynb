{
  "cells": [
    {
      "cell_type": "markdown",
      "id": "7353f36e",
      "metadata": {
        "id": "7353f36e"
      },
      "source": [
        "## byt5-DS2"
      ]
    },
    {
      "cell_type": "markdown",
      "id": "1a560783",
      "metadata": {
        "id": "1a560783"
      },
      "source": [
        "### Managing imports"
      ]
    },
    {
      "cell_type": "code",
      "execution_count": 2,
      "id": "cb519b4b",
      "metadata": {
        "id": "cb519b4b"
      },
      "outputs": [],
      "source": [
        "import pandas as pd\n",
        "import numpy as np\n",
        "import seaborn as sns\n",
        "import matplotlib.pyplot as plt\n",
        "import joblib\n",
        "import torch\n",
        "from transformers import AutoTokenizer, AutoModelForSequenceClassification\n",
        "from sklearn.model_selection import train_test_split\n",
        "from sklearn.svm import SVC\n",
        "from sklearn.feature_extraction.text import TfidfVectorizer\n",
        "from sklearn.metrics import classification_report, confusion_matrix\n",
        "from tensorflow.keras.preprocessing.text import Tokenizer\n",
        "from tensorflow.keras.preprocessing.sequence import pad_sequences\n",
        "from tensorflow.keras.models import Sequential\n",
        "from tensorflow.keras.layers import Embedding, LSTM, Dense, Dropout\n",
        "from torch.utils.data import TensorDataset, DataLoader\n",
        "from torch.optim import AdamW\n",
        "from tqdm import tqdm\n",
        "\n"
      ]
    },
    {
      "cell_type": "markdown",
      "id": "83b57e40",
      "metadata": {
        "id": "83b57e40"
      },
      "source": [
        "## Without context"
      ]
    },
    {
      "cell_type": "markdown",
      "id": "43ec97b3",
      "metadata": {
        "id": "43ec97b3"
      },
      "source": [
        "#### Loading dataset 2"
      ]
    },
    {
      "cell_type": "code",
      "execution_count": 3,
      "id": "31316467",
      "metadata": {
        "colab": {
          "base_uri": "https://localhost:8080/",
          "height": 424
        },
        "id": "31316467",
        "outputId": "fe2b6e54-782b-467a-e1fc-154ce31b3f84"
      },
      "outputs": [
        {
          "output_type": "execute_result",
          "data": {
            "text/plain": [
              "      label                                           response  \\\n",
              "0         1  That's exactly what a country who made up a ho...   \n",
              "1         1                                 but it still snows   \n",
              "2         0                 lol, you can't make this stuff up.   \n",
              "3         0                     He didn't drink the compliance   \n",
              "4         0  In the Half Life series, the reason Gordon Fre...   \n",
              "...     ...                                                ...   \n",
              "4395      1  Not to be sexist but uhhhh, stupid women have ...   \n",
              "4396      0        He's opposed only when they don't pick him.   \n",
              "4397      0                                       Round Aboot.   \n",
              "4398      0   That's some pretty impressive camouflage though.   \n",
              "4399      0  Before I leave the house with my wife to go to...   \n",
              "\n",
              "                                                context  \n",
              "0     China Tells Trump That Climate Change Is No Ho...  \n",
              "1     Facts for those who dispute man-made climate c...  \n",
              "2     \"Suppression of dissent is about as facist as ...  \n",
              "3      The Worst \"Got Talent\" Judges Go on a Power Trip  \n",
              "4     What 'fan theories' have blown your mind with ...  \n",
              "...                                                 ...  \n",
              "4395                     \"Not tryna be racist but uhhh\"  \n",
              "4396  Wait wait. Please. Let me stop laughing at the...  \n",
              "4397  Canadian Solution to SimCity's Round-about Pro...  \n",
              "4398            As a hunter i find this super pathetic.  \n",
              "4399  I'm currently hidden in my GF's closet, waitin...  \n",
              "\n",
              "[4400 rows x 3 columns]"
            ],
            "text/html": [
              "\n",
              "  <div id=\"df-b32ae12d-bccb-45b4-a98d-9e518c221233\" class=\"colab-df-container\">\n",
              "    <div>\n",
              "<style scoped>\n",
              "    .dataframe tbody tr th:only-of-type {\n",
              "        vertical-align: middle;\n",
              "    }\n",
              "\n",
              "    .dataframe tbody tr th {\n",
              "        vertical-align: top;\n",
              "    }\n",
              "\n",
              "    .dataframe thead th {\n",
              "        text-align: right;\n",
              "    }\n",
              "</style>\n",
              "<table border=\"1\" class=\"dataframe\">\n",
              "  <thead>\n",
              "    <tr style=\"text-align: right;\">\n",
              "      <th></th>\n",
              "      <th>label</th>\n",
              "      <th>response</th>\n",
              "      <th>context</th>\n",
              "    </tr>\n",
              "  </thead>\n",
              "  <tbody>\n",
              "    <tr>\n",
              "      <th>0</th>\n",
              "      <td>1</td>\n",
              "      <td>That's exactly what a country who made up a ho...</td>\n",
              "      <td>China Tells Trump That Climate Change Is No Ho...</td>\n",
              "    </tr>\n",
              "    <tr>\n",
              "      <th>1</th>\n",
              "      <td>1</td>\n",
              "      <td>but it still snows</td>\n",
              "      <td>Facts for those who dispute man-made climate c...</td>\n",
              "    </tr>\n",
              "    <tr>\n",
              "      <th>2</th>\n",
              "      <td>0</td>\n",
              "      <td>lol, you can't make this stuff up.</td>\n",
              "      <td>\"Suppression of dissent is about as facist as ...</td>\n",
              "    </tr>\n",
              "    <tr>\n",
              "      <th>3</th>\n",
              "      <td>0</td>\n",
              "      <td>He didn't drink the compliance</td>\n",
              "      <td>The Worst \"Got Talent\" Judges Go on a Power Trip</td>\n",
              "    </tr>\n",
              "    <tr>\n",
              "      <th>4</th>\n",
              "      <td>0</td>\n",
              "      <td>In the Half Life series, the reason Gordon Fre...</td>\n",
              "      <td>What 'fan theories' have blown your mind with ...</td>\n",
              "    </tr>\n",
              "    <tr>\n",
              "      <th>...</th>\n",
              "      <td>...</td>\n",
              "      <td>...</td>\n",
              "      <td>...</td>\n",
              "    </tr>\n",
              "    <tr>\n",
              "      <th>4395</th>\n",
              "      <td>1</td>\n",
              "      <td>Not to be sexist but uhhhh, stupid women have ...</td>\n",
              "      <td>\"Not tryna be racist but uhhh\"</td>\n",
              "    </tr>\n",
              "    <tr>\n",
              "      <th>4396</th>\n",
              "      <td>0</td>\n",
              "      <td>He's opposed only when they don't pick him.</td>\n",
              "      <td>Wait wait. Please. Let me stop laughing at the...</td>\n",
              "    </tr>\n",
              "    <tr>\n",
              "      <th>4397</th>\n",
              "      <td>0</td>\n",
              "      <td>Round Aboot.</td>\n",
              "      <td>Canadian Solution to SimCity's Round-about Pro...</td>\n",
              "    </tr>\n",
              "    <tr>\n",
              "      <th>4398</th>\n",
              "      <td>0</td>\n",
              "      <td>That's some pretty impressive camouflage though.</td>\n",
              "      <td>As a hunter i find this super pathetic.</td>\n",
              "    </tr>\n",
              "    <tr>\n",
              "      <th>4399</th>\n",
              "      <td>0</td>\n",
              "      <td>Before I leave the house with my wife to go to...</td>\n",
              "      <td>I'm currently hidden in my GF's closet, waitin...</td>\n",
              "    </tr>\n",
              "  </tbody>\n",
              "</table>\n",
              "<p>4400 rows × 3 columns</p>\n",
              "</div>\n",
              "    <div class=\"colab-df-buttons\">\n",
              "\n",
              "  <div class=\"colab-df-container\">\n",
              "    <button class=\"colab-df-convert\" onclick=\"convertToInteractive('df-b32ae12d-bccb-45b4-a98d-9e518c221233')\"\n",
              "            title=\"Convert this dataframe to an interactive table.\"\n",
              "            style=\"display:none;\">\n",
              "\n",
              "  <svg xmlns=\"http://www.w3.org/2000/svg\" height=\"24px\" viewBox=\"0 -960 960 960\">\n",
              "    <path d=\"M120-120v-720h720v720H120Zm60-500h600v-160H180v160Zm220 220h160v-160H400v160Zm0 220h160v-160H400v160ZM180-400h160v-160H180v160Zm440 0h160v-160H620v160ZM180-180h160v-160H180v160Zm440 0h160v-160H620v160Z\"/>\n",
              "  </svg>\n",
              "    </button>\n",
              "\n",
              "  <style>\n",
              "    .colab-df-container {\n",
              "      display:flex;\n",
              "      gap: 12px;\n",
              "    }\n",
              "\n",
              "    .colab-df-convert {\n",
              "      background-color: #E8F0FE;\n",
              "      border: none;\n",
              "      border-radius: 50%;\n",
              "      cursor: pointer;\n",
              "      display: none;\n",
              "      fill: #1967D2;\n",
              "      height: 32px;\n",
              "      padding: 0 0 0 0;\n",
              "      width: 32px;\n",
              "    }\n",
              "\n",
              "    .colab-df-convert:hover {\n",
              "      background-color: #E2EBFA;\n",
              "      box-shadow: 0px 1px 2px rgba(60, 64, 67, 0.3), 0px 1px 3px 1px rgba(60, 64, 67, 0.15);\n",
              "      fill: #174EA6;\n",
              "    }\n",
              "\n",
              "    .colab-df-buttons div {\n",
              "      margin-bottom: 4px;\n",
              "    }\n",
              "\n",
              "    [theme=dark] .colab-df-convert {\n",
              "      background-color: #3B4455;\n",
              "      fill: #D2E3FC;\n",
              "    }\n",
              "\n",
              "    [theme=dark] .colab-df-convert:hover {\n",
              "      background-color: #434B5C;\n",
              "      box-shadow: 0px 1px 3px 1px rgba(0, 0, 0, 0.15);\n",
              "      filter: drop-shadow(0px 1px 2px rgba(0, 0, 0, 0.3));\n",
              "      fill: #FFFFFF;\n",
              "    }\n",
              "  </style>\n",
              "\n",
              "    <script>\n",
              "      const buttonEl =\n",
              "        document.querySelector('#df-b32ae12d-bccb-45b4-a98d-9e518c221233 button.colab-df-convert');\n",
              "      buttonEl.style.display =\n",
              "        google.colab.kernel.accessAllowed ? 'block' : 'none';\n",
              "\n",
              "      async function convertToInteractive(key) {\n",
              "        const element = document.querySelector('#df-b32ae12d-bccb-45b4-a98d-9e518c221233');\n",
              "        const dataTable =\n",
              "          await google.colab.kernel.invokeFunction('convertToInteractive',\n",
              "                                                    [key], {});\n",
              "        if (!dataTable) return;\n",
              "\n",
              "        const docLinkHtml = 'Like what you see? Visit the ' +\n",
              "          '<a target=\"_blank\" href=https://colab.research.google.com/notebooks/data_table.ipynb>data table notebook</a>'\n",
              "          + ' to learn more about interactive tables.';\n",
              "        element.innerHTML = '';\n",
              "        dataTable['output_type'] = 'display_data';\n",
              "        await google.colab.output.renderOutput(dataTable, element);\n",
              "        const docLink = document.createElement('div');\n",
              "        docLink.innerHTML = docLinkHtml;\n",
              "        element.appendChild(docLink);\n",
              "      }\n",
              "    </script>\n",
              "  </div>\n",
              "\n",
              "\n",
              "    <div id=\"df-a8cdbcc3-4a08-46c5-8bb1-64e02b12b41b\">\n",
              "      <button class=\"colab-df-quickchart\" onclick=\"quickchart('df-a8cdbcc3-4a08-46c5-8bb1-64e02b12b41b')\"\n",
              "                title=\"Suggest charts\"\n",
              "                style=\"display:none;\">\n",
              "\n",
              "<svg xmlns=\"http://www.w3.org/2000/svg\" height=\"24px\"viewBox=\"0 0 24 24\"\n",
              "     width=\"24px\">\n",
              "    <g>\n",
              "        <path d=\"M19 3H5c-1.1 0-2 .9-2 2v14c0 1.1.9 2 2 2h14c1.1 0 2-.9 2-2V5c0-1.1-.9-2-2-2zM9 17H7v-7h2v7zm4 0h-2V7h2v10zm4 0h-2v-4h2v4z\"/>\n",
              "    </g>\n",
              "</svg>\n",
              "      </button>\n",
              "\n",
              "<style>\n",
              "  .colab-df-quickchart {\n",
              "      --bg-color: #E8F0FE;\n",
              "      --fill-color: #1967D2;\n",
              "      --hover-bg-color: #E2EBFA;\n",
              "      --hover-fill-color: #174EA6;\n",
              "      --disabled-fill-color: #AAA;\n",
              "      --disabled-bg-color: #DDD;\n",
              "  }\n",
              "\n",
              "  [theme=dark] .colab-df-quickchart {\n",
              "      --bg-color: #3B4455;\n",
              "      --fill-color: #D2E3FC;\n",
              "      --hover-bg-color: #434B5C;\n",
              "      --hover-fill-color: #FFFFFF;\n",
              "      --disabled-bg-color: #3B4455;\n",
              "      --disabled-fill-color: #666;\n",
              "  }\n",
              "\n",
              "  .colab-df-quickchart {\n",
              "    background-color: var(--bg-color);\n",
              "    border: none;\n",
              "    border-radius: 50%;\n",
              "    cursor: pointer;\n",
              "    display: none;\n",
              "    fill: var(--fill-color);\n",
              "    height: 32px;\n",
              "    padding: 0;\n",
              "    width: 32px;\n",
              "  }\n",
              "\n",
              "  .colab-df-quickchart:hover {\n",
              "    background-color: var(--hover-bg-color);\n",
              "    box-shadow: 0 1px 2px rgba(60, 64, 67, 0.3), 0 1px 3px 1px rgba(60, 64, 67, 0.15);\n",
              "    fill: var(--button-hover-fill-color);\n",
              "  }\n",
              "\n",
              "  .colab-df-quickchart-complete:disabled,\n",
              "  .colab-df-quickchart-complete:disabled:hover {\n",
              "    background-color: var(--disabled-bg-color);\n",
              "    fill: var(--disabled-fill-color);\n",
              "    box-shadow: none;\n",
              "  }\n",
              "\n",
              "  .colab-df-spinner {\n",
              "    border: 2px solid var(--fill-color);\n",
              "    border-color: transparent;\n",
              "    border-bottom-color: var(--fill-color);\n",
              "    animation:\n",
              "      spin 1s steps(1) infinite;\n",
              "  }\n",
              "\n",
              "  @keyframes spin {\n",
              "    0% {\n",
              "      border-color: transparent;\n",
              "      border-bottom-color: var(--fill-color);\n",
              "      border-left-color: var(--fill-color);\n",
              "    }\n",
              "    20% {\n",
              "      border-color: transparent;\n",
              "      border-left-color: var(--fill-color);\n",
              "      border-top-color: var(--fill-color);\n",
              "    }\n",
              "    30% {\n",
              "      border-color: transparent;\n",
              "      border-left-color: var(--fill-color);\n",
              "      border-top-color: var(--fill-color);\n",
              "      border-right-color: var(--fill-color);\n",
              "    }\n",
              "    40% {\n",
              "      border-color: transparent;\n",
              "      border-right-color: var(--fill-color);\n",
              "      border-top-color: var(--fill-color);\n",
              "    }\n",
              "    60% {\n",
              "      border-color: transparent;\n",
              "      border-right-color: var(--fill-color);\n",
              "    }\n",
              "    80% {\n",
              "      border-color: transparent;\n",
              "      border-right-color: var(--fill-color);\n",
              "      border-bottom-color: var(--fill-color);\n",
              "    }\n",
              "    90% {\n",
              "      border-color: transparent;\n",
              "      border-bottom-color: var(--fill-color);\n",
              "    }\n",
              "  }\n",
              "</style>\n",
              "\n",
              "      <script>\n",
              "        async function quickchart(key) {\n",
              "          const quickchartButtonEl =\n",
              "            document.querySelector('#' + key + ' button');\n",
              "          quickchartButtonEl.disabled = true;  // To prevent multiple clicks.\n",
              "          quickchartButtonEl.classList.add('colab-df-spinner');\n",
              "          try {\n",
              "            const charts = await google.colab.kernel.invokeFunction(\n",
              "                'suggestCharts', [key], {});\n",
              "          } catch (error) {\n",
              "            console.error('Error during call to suggestCharts:', error);\n",
              "          }\n",
              "          quickchartButtonEl.classList.remove('colab-df-spinner');\n",
              "          quickchartButtonEl.classList.add('colab-df-quickchart-complete');\n",
              "        }\n",
              "        (() => {\n",
              "          let quickchartButtonEl =\n",
              "            document.querySelector('#df-a8cdbcc3-4a08-46c5-8bb1-64e02b12b41b button');\n",
              "          quickchartButtonEl.style.display =\n",
              "            google.colab.kernel.accessAllowed ? 'block' : 'none';\n",
              "        })();\n",
              "      </script>\n",
              "    </div>\n",
              "\n",
              "  <div id=\"id_cb8b5848-ddc0-463d-bc7a-c5e3ddc8fda1\">\n",
              "    <style>\n",
              "      .colab-df-generate {\n",
              "        background-color: #E8F0FE;\n",
              "        border: none;\n",
              "        border-radius: 50%;\n",
              "        cursor: pointer;\n",
              "        display: none;\n",
              "        fill: #1967D2;\n",
              "        height: 32px;\n",
              "        padding: 0 0 0 0;\n",
              "        width: 32px;\n",
              "      }\n",
              "\n",
              "      .colab-df-generate:hover {\n",
              "        background-color: #E2EBFA;\n",
              "        box-shadow: 0px 1px 2px rgba(60, 64, 67, 0.3), 0px 1px 3px 1px rgba(60, 64, 67, 0.15);\n",
              "        fill: #174EA6;\n",
              "      }\n",
              "\n",
              "      [theme=dark] .colab-df-generate {\n",
              "        background-color: #3B4455;\n",
              "        fill: #D2E3FC;\n",
              "      }\n",
              "\n",
              "      [theme=dark] .colab-df-generate:hover {\n",
              "        background-color: #434B5C;\n",
              "        box-shadow: 0px 1px 3px 1px rgba(0, 0, 0, 0.15);\n",
              "        filter: drop-shadow(0px 1px 2px rgba(0, 0, 0, 0.3));\n",
              "        fill: #FFFFFF;\n",
              "      }\n",
              "    </style>\n",
              "    <button class=\"colab-df-generate\" onclick=\"generateWithVariable('df')\"\n",
              "            title=\"Generate code using this dataframe.\"\n",
              "            style=\"display:none;\">\n",
              "\n",
              "  <svg xmlns=\"http://www.w3.org/2000/svg\" height=\"24px\"viewBox=\"0 0 24 24\"\n",
              "       width=\"24px\">\n",
              "    <path d=\"M7,19H8.4L18.45,9,17,7.55,7,17.6ZM5,21V16.75L18.45,3.32a2,2,0,0,1,2.83,0l1.4,1.43a1.91,1.91,0,0,1,.58,1.4,1.91,1.91,0,0,1-.58,1.4L9.25,21ZM18.45,9,17,7.55Zm-12,3A5.31,5.31,0,0,0,4.9,8.1,5.31,5.31,0,0,0,1,6.5,5.31,5.31,0,0,0,4.9,4.9,5.31,5.31,0,0,0,6.5,1,5.31,5.31,0,0,0,8.1,4.9,5.31,5.31,0,0,0,12,6.5,5.46,5.46,0,0,0,6.5,12Z\"/>\n",
              "  </svg>\n",
              "    </button>\n",
              "    <script>\n",
              "      (() => {\n",
              "      const buttonEl =\n",
              "        document.querySelector('#id_cb8b5848-ddc0-463d-bc7a-c5e3ddc8fda1 button.colab-df-generate');\n",
              "      buttonEl.style.display =\n",
              "        google.colab.kernel.accessAllowed ? 'block' : 'none';\n",
              "\n",
              "      buttonEl.onclick = () => {\n",
              "        google.colab.notebook.generateWithVariable('df');\n",
              "      }\n",
              "      })();\n",
              "    </script>\n",
              "  </div>\n",
              "\n",
              "    </div>\n",
              "  </div>\n"
            ],
            "application/vnd.google.colaboratory.intrinsic+json": {
              "type": "dataframe",
              "variable_name": "df",
              "summary": "{\n  \"name\": \"df\",\n  \"rows\": 4400,\n  \"fields\": [\n    {\n      \"column\": \"label\",\n      \"properties\": {\n        \"dtype\": \"number\",\n        \"std\": 0,\n        \"min\": 0,\n        \"max\": 1,\n        \"num_unique_values\": 2,\n        \"samples\": [\n          0,\n          1\n        ],\n        \"semantic_type\": \"\",\n        \"description\": \"\"\n      }\n    },\n    {\n      \"column\": \"response\",\n      \"properties\": {\n        \"dtype\": \"string\",\n        \"num_unique_values\": 4394,\n        \"samples\": [\n          \"\\\"We need to talk about the elephant in my womb\\\"\",\n          \"Bold prediction, seeing as how 2016 still has a month to go.\"\n        ],\n        \"semantic_type\": \"\",\n        \"description\": \"\"\n      }\n    },\n    {\n      \"column\": \"context\",\n      \"properties\": {\n        \"dtype\": \"string\",\n        \"num_unique_values\": 4384,\n        \"samples\": [\n          \"*Crushing Your Soul* *Voice of Angels* *Only Demons* She came up with some decent band names in between deluded rants.\",\n          \"Anderson Silva vs Michael Bisping is the main event in London on Feb 27 on Fight Pass\"\n        ],\n        \"semantic_type\": \"\",\n        \"description\": \"\"\n      }\n    }\n  ]\n}"
            }
          },
          "metadata": {},
          "execution_count": 3
        }
      ],
      "source": [
        "# Only read the first 4400 rows and specific columns\n",
        "cols_to_use = ['label', 'comment', 'parent_comment']\n",
        "\n",
        "df = pd.read_csv('Dataset/train-balanced-sarcasm.csv', usecols=cols_to_use, nrows=4400)\n",
        "\n",
        "# Rename columns\n",
        "df = df.rename(columns={\n",
        "    'comment': 'response',\n",
        "    'parent_comment': 'context'\n",
        "})\n",
        "\n",
        "df\n"
      ]
    },
    {
      "cell_type": "markdown",
      "id": "f65ca20e",
      "metadata": {
        "id": "f65ca20e"
      },
      "source": [
        "#### Preparing dataset 2"
      ]
    },
    {
      "cell_type": "code",
      "execution_count": 4,
      "id": "c6049436",
      "metadata": {
        "colab": {
          "base_uri": "https://localhost:8080/"
        },
        "id": "c6049436",
        "outputId": "22640d2b-03f9-4a04-b501-f72057ac1111"
      },
      "outputs": [
        {
          "output_type": "stream",
          "name": "stdout",
          "text": [
            "                                          input_text  label\n",
            "0  That's exactly what a country who made up a ho...      1\n",
            "1                                 but it still snows      1\n",
            "2                 lol, you can't make this stuff up.      0\n",
            "3                     He didn't drink the compliance      0\n",
            "4  In the Half Life series, the reason Gordon Fre...      0\n"
          ]
        }
      ],
      "source": [
        "df['input_text'] = df['response']\n",
        "\n",
        "# Check the result\n",
        "print(df[['input_text', 'label']].head())"
      ]
    },
    {
      "cell_type": "code",
      "execution_count": 5,
      "id": "54da2e76",
      "metadata": {
        "colab": {
          "base_uri": "https://localhost:8080/"
        },
        "id": "54da2e76",
        "outputId": "12f236f1-a15d-4f9f-cf38-1f8af6fcbf71"
      },
      "outputs": [
        {
          "output_type": "stream",
          "name": "stdout",
          "text": [
            "Train and test splits saved!\n"
          ]
        }
      ],
      "source": [
        "# Split\n",
        "X_train, X_test, y_train, y_test = train_test_split(\n",
        "    df['input_text'], df['label'],\n",
        "    test_size=0.2, random_state=42, stratify=df['label']\n",
        ")\n",
        "\n",
        "train_df = pd.DataFrame({'input_text': X_train, 'label': y_train})\n",
        "test_df = pd.DataFrame({'input_text': X_test, 'label': y_test})\n",
        "\n",
        "print(\"Train and test splits saved!\")"
      ]
    },
    {
      "cell_type": "markdown",
      "id": "e138b629",
      "metadata": {
        "id": "e138b629"
      },
      "source": [
        "#### Training"
      ]
    },
    {
      "cell_type": "code",
      "execution_count": 6,
      "id": "e8d0f5b1",
      "metadata": {
        "id": "e8d0f5b1"
      },
      "outputs": [],
      "source": [
        "train_df['input_text'] = train_df['input_text'].fillna(\"\").astype(str)\n",
        "test_df['input_text'] = test_df['input_text'].fillna(\"\").astype(str)\n",
        "\n",
        "X_train_byt5 = train_df['input_text'].tolist()\n",
        "y_train_byt5 = train_df['label'].tolist()\n",
        "X_test_byt5 = test_df['input_text'].tolist()\n",
        "y_test_byt5 = test_df['label'].tolist()"
      ]
    },
    {
      "cell_type": "code",
      "execution_count": 7,
      "id": "dc9b8cc4",
      "metadata": {
        "colab": {
          "base_uri": "https://localhost:8080/",
          "height": 237,
          "referenced_widgets": [
            "3830e1830d3a45748d28915b3e17b9e5",
            "ed26294e1823477bb24f55aeadf1fbb9",
            "e46e0a48b4bd4ad2908d842d619bade0",
            "a57474b7ee8244988c9a384b3e38af28",
            "94d3b05978b8469f92a7dd85d19e0555",
            "d6a8cb89dab745bbb7c7d90655bd9936",
            "b6f1d86a463842299aa02eedae9eee2c",
            "1ad3960726da48a9a001212dde5d7fb4",
            "ebd89f91d0d74702aff788881d8e6045",
            "a1b1f75d9b994784b4bf92e9c8e77989",
            "607bb149d5aa44278a1c0082b8b345f2",
            "72bd31cf32ed4349b1b1494e01c8471a",
            "38f125ec34fc472eaa0014451c5a98ae",
            "90e6c5aff5664af4abb6d8028081e913",
            "eae4e805b1c9407faea8b2a174ce805a",
            "77433758ea6a476e82fcb8fa702a71e2",
            "87acbd87cb6b419d817c994739b934c3",
            "4f13e7f033c64968beda6de761f675a8",
            "56576a8dcb2047ea864dfe6b29872edf",
            "e48bf6fdbceb474cb6a0641f638515de",
            "c417879129dc406686822d7b4f6e93b2",
            "c3e81d7babfa46c7aaca0d97e9d7f5fd",
            "ea767f75014b49a3a3d3127c1d88115d",
            "9d1925aa10e345a086145e4233be61b8",
            "c5242752dce84070a5bb5aed15e759d9",
            "a554f8e878cf4d1797ae8009fda8320e",
            "53fabd231adf43da98d45dcd3fd43ac3",
            "1bda437c5c2c4278a43a968b69714006",
            "6a4ea6150c804fdc876f3eb212c98f47",
            "0f5d0bdccf6941c0af60c394e763234f",
            "93477a65f29b41caabd2f3e7f861aae8",
            "168f90aa05304a68a234791534f23616",
            "a3f5ad0f88fe47ed910e1d34ddcd00c3"
          ]
        },
        "id": "dc9b8cc4",
        "outputId": "e9aaa143-29bb-487f-aa72-63183a64eae6"
      },
      "outputs": [
        {
          "output_type": "stream",
          "name": "stderr",
          "text": [
            "/usr/local/lib/python3.11/dist-packages/huggingface_hub/utils/_auth.py:94: UserWarning: \n",
            "The secret `HF_TOKEN` does not exist in your Colab secrets.\n",
            "To authenticate with the Hugging Face Hub, create a token in your settings tab (https://huggingface.co/settings/tokens), set it as secret in your Google Colab and restart your session.\n",
            "You will be able to reuse this secret in all of your notebooks.\n",
            "Please note that authentication is recommended but still optional to access public models or datasets.\n",
            "  warnings.warn(\n"
          ]
        },
        {
          "output_type": "display_data",
          "data": {
            "text/plain": [
              "tokenizer_config.json: 0.00B [00:00, ?B/s]"
            ],
            "application/vnd.jupyter.widget-view+json": {
              "version_major": 2,
              "version_minor": 0,
              "model_id": "3830e1830d3a45748d28915b3e17b9e5"
            }
          },
          "metadata": {}
        },
        {
          "output_type": "display_data",
          "data": {
            "text/plain": [
              "config.json:   0%|          | 0.00/698 [00:00<?, ?B/s]"
            ],
            "application/vnd.jupyter.widget-view+json": {
              "version_major": 2,
              "version_minor": 0,
              "model_id": "72bd31cf32ed4349b1b1494e01c8471a"
            }
          },
          "metadata": {}
        },
        {
          "output_type": "display_data",
          "data": {
            "text/plain": [
              "special_tokens_map.json: 0.00B [00:00, ?B/s]"
            ],
            "application/vnd.jupyter.widget-view+json": {
              "version_major": 2,
              "version_minor": 0,
              "model_id": "ea767f75014b49a3a3d3127c1d88115d"
            }
          },
          "metadata": {}
        }
      ],
      "source": [
        "tokenizer = AutoTokenizer.from_pretrained(\"google/byt5-small\")\n",
        "\n",
        "def tokenize(texts):\n",
        "    return tokenizer(\n",
        "        texts,\n",
        "        padding=\"max_length\",\n",
        "        truncation=True,\n",
        "        max_length=110,         # You can adjust for your dataset\n",
        "        return_tensors='pt'\n",
        "    )\n",
        "\n",
        "X_train_enc_byt5 = tokenize(X_train_byt5)\n",
        "X_test_enc_byt5 = tokenize(X_test_byt5)"
      ]
    },
    {
      "cell_type": "code",
      "execution_count": 8,
      "id": "e203f36f",
      "metadata": {
        "id": "e203f36f"
      },
      "outputs": [],
      "source": [
        "train_dataset_byt5 = TensorDataset(\n",
        "    X_train_enc_byt5['input_ids'],\n",
        "    X_train_enc_byt5['attention_mask'],\n",
        "    torch.tensor(y_train_byt5)\n",
        ")\n",
        "\n",
        "test_dataset_byt5 = TensorDataset(\n",
        "    X_test_enc_byt5['input_ids'],\n",
        "    X_test_enc_byt5['attention_mask'],\n",
        "    torch.tensor(y_test_byt5)\n",
        ")"
      ]
    },
    {
      "cell_type": "code",
      "execution_count": 9,
      "id": "1a205aaf",
      "metadata": {
        "id": "1a205aaf"
      },
      "outputs": [],
      "source": [
        "batch_size = 32\n",
        "\n",
        "train_loader = DataLoader(train_dataset_byt5, batch_size=batch_size, shuffle=True)\n",
        "test_loader = DataLoader(test_dataset_byt5, batch_size=batch_size)"
      ]
    },
    {
      "cell_type": "code",
      "execution_count": 10,
      "id": "c81cf672",
      "metadata": {
        "colab": {
          "base_uri": "https://localhost:8080/",
          "height": 136,
          "referenced_widgets": [
            "6f192430af3e418a866bbf8db260f1b3",
            "84504ae131934b5293741ae735f49040",
            "17ffe2428616413eba23162ad242b67b",
            "3cdbfe27f5354eaab40b93033d0c17ba",
            "3fb4037bd73b4c66be36942b5cfa1e7d",
            "8a31d7cb859f4498899b09bc77c3820a",
            "021631546a7c4f6e8b97fdd00b1e7d88",
            "8d293c1c11fe45dfa84887532cf5eda7",
            "25d50d2a5399426b8d20ebd34f7f46c1",
            "50dff3e2d8f44b83b226e986117c92aa",
            "2dd3767b2cc84708be24aa7d5de4b5eb",
            "f57fc954cc5946d9821278b9809776f2",
            "85dbaac49a0f4ea4bb47fb28f1cac29a",
            "dffbb0f6d34f432c82583fbb27cc3855",
            "94df203907cf43e3855a22d52fddb7b2",
            "6935492cec23415ea80d2527aaa2d9b3",
            "17b42dacf929475b8e2d02b1543eb354",
            "5a6a88cd11b146e3b54d2a50fef450df",
            "64bf8acf559c40ecb1fc02716bc703fb",
            "2b74b84ef4cc49688d2522547dc00ee4",
            "cc01d0c9efe44588b2385a2b34949d79",
            "0dad3927b5ca45949bf3b51b01a93260"
          ]
        },
        "id": "c81cf672",
        "outputId": "901430e8-4e83-4940-8494-0e87252b496e"
      },
      "outputs": [
        {
          "output_type": "display_data",
          "data": {
            "text/plain": [
              "pytorch_model.bin:   0%|          | 0.00/1.20G [00:00<?, ?B/s]"
            ],
            "application/vnd.jupyter.widget-view+json": {
              "version_major": 2,
              "version_minor": 0,
              "model_id": "6f192430af3e418a866bbf8db260f1b3"
            }
          },
          "metadata": {}
        },
        {
          "output_type": "display_data",
          "data": {
            "text/plain": [
              "model.safetensors:   0%|          | 0.00/1.20G [00:00<?, ?B/s]"
            ],
            "application/vnd.jupyter.widget-view+json": {
              "version_major": 2,
              "version_minor": 0,
              "model_id": "f57fc954cc5946d9821278b9809776f2"
            }
          },
          "metadata": {}
        },
        {
          "output_type": "stream",
          "name": "stderr",
          "text": [
            "Some weights of T5ForSequenceClassification were not initialized from the model checkpoint at google/byt5-small and are newly initialized: ['classification_head.dense.bias', 'classification_head.dense.weight', 'classification_head.out_proj.bias', 'classification_head.out_proj.weight']\n",
            "You should probably TRAIN this model on a down-stream task to be able to use it for predictions and inference.\n"
          ]
        }
      ],
      "source": [
        "device = torch.device('cuda' if torch.cuda.is_available() else 'cpu')\n",
        "\n",
        "model = AutoModelForSequenceClassification.from_pretrained(\"google/byt5-small\", num_labels=2)\n",
        "model = model.to(device)"
      ]
    },
    {
      "cell_type": "code",
      "execution_count": 11,
      "id": "3fdc62bf",
      "metadata": {
        "id": "3fdc62bf"
      },
      "outputs": [],
      "source": [
        "optimizer = AdamW(model.parameters(), lr=2e-5)"
      ]
    },
    {
      "cell_type": "markdown",
      "id": "e34e41d9",
      "metadata": {
        "id": "e34e41d9"
      },
      "source": [
        "#### Training loop\n"
      ]
    },
    {
      "cell_type": "code",
      "execution_count": 12,
      "id": "d80affb9",
      "metadata": {
        "colab": {
          "base_uri": "https://localhost:8080/",
          "height": 1000
        },
        "id": "d80affb9",
        "outputId": "d21f8553-d978-4266-b72c-40d007c51bcb"
      },
      "outputs": [
        {
          "output_type": "stream",
          "name": "stderr",
          "text": [
            "\n",
            "  0%|          | 0/110 [00:00<?, ?it/s]\u001b[A\n",
            "  1%|          | 1/110 [00:05<10:19,  5.69s/it]\u001b[A\n",
            "  2%|▏         | 2/110 [00:07<06:14,  3.46s/it]\u001b[A\n",
            "  3%|▎         | 3/110 [00:09<04:55,  2.76s/it]\u001b[A\n",
            "  4%|▎         | 4/110 [00:13<06:02,  3.42s/it]\u001b[A\n",
            "  5%|▍         | 5/110 [00:15<05:02,  2.88s/it]\u001b[A\n",
            "  5%|▌         | 6/110 [00:17<04:27,  2.57s/it]\u001b[A\n",
            "  6%|▋         | 7/110 [00:19<04:03,  2.37s/it]\u001b[A\n",
            "  7%|▋         | 8/110 [00:21<03:48,  2.24s/it]\u001b[A\n",
            "  8%|▊         | 9/110 [00:23<03:37,  2.15s/it]\u001b[A\n",
            "  9%|▉         | 10/110 [00:25<03:29,  2.09s/it]\u001b[A\n",
            " 10%|█         | 11/110 [00:27<03:23,  2.06s/it]\u001b[A\n",
            " 11%|█         | 12/110 [00:29<03:18,  2.03s/it]\u001b[A\n",
            " 12%|█▏        | 13/110 [00:31<03:14,  2.01s/it]\u001b[A\n",
            " 13%|█▎        | 14/110 [00:33<03:11,  1.99s/it]\u001b[A\n",
            " 14%|█▎        | 15/110 [00:35<03:08,  1.99s/it]\u001b[A\n",
            " 15%|█▍        | 16/110 [00:37<03:06,  1.98s/it]\u001b[A\n",
            " 15%|█▌        | 17/110 [00:39<03:03,  1.98s/it]\u001b[A\n",
            " 16%|█▋        | 18/110 [00:41<03:02,  1.98s/it]\u001b[A\n",
            " 17%|█▋        | 19/110 [00:43<03:00,  1.98s/it]\u001b[A\n",
            " 18%|█▊        | 20/110 [00:45<02:58,  1.99s/it]\u001b[A\n",
            " 19%|█▉        | 21/110 [00:47<02:56,  1.99s/it]\u001b[A\n",
            " 20%|██        | 22/110 [00:49<02:54,  1.99s/it]\u001b[A\n",
            " 21%|██        | 23/110 [00:51<02:52,  1.99s/it]\u001b[A\n",
            " 22%|██▏       | 24/110 [00:53<02:50,  1.99s/it]\u001b[A\n",
            " 23%|██▎       | 25/110 [00:55<02:48,  1.99s/it]\u001b[A\n",
            " 24%|██▎       | 26/110 [00:57<02:46,  1.98s/it]\u001b[A\n",
            " 25%|██▍       | 27/110 [00:59<02:45,  1.99s/it]\u001b[A\n",
            " 25%|██▌       | 28/110 [01:01<02:43,  2.00s/it]\u001b[A\n",
            " 26%|██▋       | 29/110 [01:03<02:42,  2.00s/it]\u001b[A\n",
            " 27%|██▋       | 30/110 [01:05<02:40,  2.01s/it]\u001b[A\n",
            " 28%|██▊       | 31/110 [01:07<02:38,  2.01s/it]\u001b[A\n",
            " 29%|██▉       | 32/110 [01:09<02:36,  2.01s/it]\u001b[A\n",
            " 30%|███       | 33/110 [01:11<02:36,  2.03s/it]\u001b[A\n",
            " 31%|███       | 34/110 [01:13<02:34,  2.03s/it]\u001b[A\n",
            " 32%|███▏      | 35/110 [01:15<02:32,  2.03s/it]\u001b[A\n",
            " 33%|███▎      | 36/110 [01:17<02:30,  2.03s/it]\u001b[A\n",
            " 34%|███▎      | 37/110 [01:19<02:27,  2.03s/it]\u001b[A\n",
            " 35%|███▍      | 38/110 [01:21<02:25,  2.03s/it]\u001b[A\n",
            " 35%|███▌      | 39/110 [01:23<02:23,  2.03s/it]\u001b[A\n",
            " 36%|███▋      | 40/110 [01:25<02:21,  2.03s/it]\u001b[A\n",
            " 37%|███▋      | 41/110 [01:27<02:20,  2.03s/it]\u001b[A\n",
            " 38%|███▊      | 42/110 [01:29<02:18,  2.03s/it]\u001b[A\n",
            " 39%|███▉      | 43/110 [01:31<02:16,  2.03s/it]\u001b[A\n",
            " 40%|████      | 44/110 [01:33<02:14,  2.04s/it]\u001b[A\n",
            " 41%|████      | 45/110 [01:35<02:12,  2.04s/it]\u001b[A\n",
            " 42%|████▏     | 46/110 [01:37<02:10,  2.04s/it]\u001b[A\n",
            " 43%|████▎     | 47/110 [01:39<02:08,  2.04s/it]\u001b[A\n",
            " 44%|████▎     | 48/110 [01:42<02:06,  2.04s/it]\u001b[A\n",
            " 45%|████▍     | 49/110 [01:44<02:04,  2.04s/it]\u001b[A\n",
            " 45%|████▌     | 50/110 [01:46<02:02,  2.05s/it]\u001b[A\n",
            " 46%|████▋     | 51/110 [01:48<02:01,  2.05s/it]\u001b[A\n",
            " 47%|████▋     | 52/110 [01:50<01:59,  2.06s/it]\u001b[A\n",
            " 48%|████▊     | 53/110 [01:52<01:57,  2.06s/it]\u001b[A\n",
            " 49%|████▉     | 54/110 [01:54<01:55,  2.06s/it]\u001b[A\n",
            " 50%|█████     | 55/110 [01:56<01:53,  2.06s/it]\u001b[A\n",
            " 51%|█████     | 56/110 [01:58<01:51,  2.06s/it]\u001b[A\n",
            " 52%|█████▏    | 57/110 [02:00<01:49,  2.06s/it]\u001b[A\n",
            " 53%|█████▎    | 58/110 [02:02<01:47,  2.07s/it]\u001b[A\n",
            " 54%|█████▎    | 59/110 [02:04<01:45,  2.07s/it]\u001b[A\n",
            " 55%|█████▍    | 60/110 [02:06<01:43,  2.07s/it]\u001b[A\n",
            " 55%|█████▌    | 61/110 [02:08<01:41,  2.07s/it]\u001b[A\n",
            " 56%|█████▋    | 62/110 [02:10<01:39,  2.07s/it]\u001b[A\n",
            " 57%|█████▋    | 63/110 [02:13<01:37,  2.08s/it]\u001b[A\n",
            " 58%|█████▊    | 64/110 [02:15<01:35,  2.08s/it]\u001b[A\n",
            " 59%|█████▉    | 65/110 [02:17<01:33,  2.08s/it]\u001b[A\n",
            " 60%|██████    | 66/110 [02:19<01:31,  2.08s/it]\u001b[A\n",
            " 61%|██████    | 67/110 [02:21<01:29,  2.09s/it]\u001b[A\n",
            " 62%|██████▏   | 68/110 [02:23<01:27,  2.09s/it]\u001b[A\n",
            " 63%|██████▎   | 69/110 [02:25<01:25,  2.09s/it]\u001b[A\n",
            " 64%|██████▎   | 70/110 [02:27<01:23,  2.10s/it]\u001b[A\n",
            " 65%|██████▍   | 71/110 [02:29<01:21,  2.10s/it]\u001b[A\n",
            " 65%|██████▌   | 72/110 [02:31<01:19,  2.10s/it]\u001b[A\n",
            " 66%|██████▋   | 73/110 [02:33<01:17,  2.10s/it]\u001b[A\n",
            " 67%|██████▋   | 74/110 [02:36<01:15,  2.10s/it]\u001b[A\n",
            " 68%|██████▊   | 75/110 [02:38<01:13,  2.10s/it]\u001b[A\n",
            " 69%|██████▉   | 76/110 [02:40<01:11,  2.11s/it]\u001b[A\n",
            " 70%|███████   | 77/110 [02:42<01:09,  2.11s/it]\u001b[A\n",
            " 71%|███████   | 78/110 [02:44<01:07,  2.11s/it]\u001b[A\n",
            " 72%|███████▏  | 79/110 [02:46<01:05,  2.11s/it]\u001b[A\n",
            " 73%|███████▎  | 80/110 [02:48<01:03,  2.11s/it]\u001b[A\n",
            " 74%|███████▎  | 81/110 [02:50<01:01,  2.11s/it]\u001b[A\n",
            " 75%|███████▍  | 82/110 [02:52<00:59,  2.11s/it]\u001b[A\n",
            " 75%|███████▌  | 83/110 [02:55<00:57,  2.11s/it]\u001b[A\n",
            " 76%|███████▋  | 84/110 [02:57<00:55,  2.12s/it]\u001b[A\n",
            " 77%|███████▋  | 85/110 [02:59<00:52,  2.11s/it]\u001b[A\n",
            " 78%|███████▊  | 86/110 [03:01<00:50,  2.12s/it]\u001b[A\n",
            " 79%|███████▉  | 87/110 [03:03<00:48,  2.13s/it]\u001b[A\n",
            " 80%|████████  | 88/110 [03:05<00:46,  2.13s/it]\u001b[A\n",
            " 81%|████████  | 89/110 [03:07<00:44,  2.13s/it]\u001b[A\n",
            " 82%|████████▏ | 90/110 [03:09<00:42,  2.13s/it]\u001b[A\n",
            " 83%|████████▎ | 91/110 [03:12<00:40,  2.13s/it]\u001b[A\n",
            " 84%|████████▎ | 92/110 [03:14<00:38,  2.13s/it]\u001b[A\n",
            " 85%|████████▍ | 93/110 [03:16<00:36,  2.13s/it]\u001b[A\n",
            " 85%|████████▌ | 94/110 [03:18<00:34,  2.13s/it]\u001b[A\n",
            " 86%|████████▋ | 95/110 [03:20<00:31,  2.13s/it]\u001b[A\n",
            " 87%|████████▋ | 96/110 [03:22<00:29,  2.13s/it]\u001b[A\n",
            " 88%|████████▊ | 97/110 [03:24<00:27,  2.14s/it]\u001b[A\n",
            " 89%|████████▉ | 98/110 [03:27<00:25,  2.14s/it]\u001b[A\n",
            " 90%|█████████ | 99/110 [03:29<00:23,  2.14s/it]\u001b[A\n",
            " 91%|█████████ | 100/110 [03:31<00:21,  2.14s/it]\u001b[A\n",
            " 92%|█████████▏| 101/110 [03:33<00:19,  2.14s/it]\u001b[A\n",
            " 93%|█████████▎| 102/110 [03:35<00:17,  2.15s/it]\u001b[A\n",
            " 94%|█████████▎| 103/110 [03:37<00:15,  2.15s/it]\u001b[A\n",
            " 95%|█████████▍| 104/110 [03:39<00:12,  2.15s/it]\u001b[A\n",
            " 95%|█████████▌| 105/110 [03:42<00:10,  2.15s/it]\u001b[A\n",
            " 96%|█████████▋| 106/110 [03:44<00:08,  2.15s/it]\u001b[A\n",
            " 97%|█████████▋| 107/110 [03:46<00:06,  2.15s/it]\u001b[A\n",
            " 98%|█████████▊| 108/110 [03:48<00:04,  2.15s/it]\u001b[A\n",
            " 99%|█████████▉| 109/110 [03:50<00:02,  2.15s/it]\u001b[A\n",
            "100%|██████████| 110/110 [03:52<00:00,  2.12s/it]\n"
          ]
        },
        {
          "output_type": "stream",
          "name": "stdout",
          "text": [
            "Epoch 1 Loss: 0.6824\n"
          ]
        },
        {
          "output_type": "stream",
          "name": "stderr",
          "text": [
            "100%|██████████| 110/110 [04:00<00:00,  2.19s/it]\n"
          ]
        },
        {
          "output_type": "stream",
          "name": "stdout",
          "text": [
            "Epoch 2 Loss: 0.6784\n"
          ]
        },
        {
          "output_type": "stream",
          "name": "stderr",
          "text": [
            "100%|██████████| 110/110 [04:00<00:00,  2.19s/it]"
          ]
        },
        {
          "output_type": "stream",
          "name": "stdout",
          "text": [
            "Epoch 3 Loss: 0.6723\n"
          ]
        },
        {
          "output_type": "stream",
          "name": "stderr",
          "text": [
            "\n"
          ]
        }
      ],
      "source": [
        "epochs = 3\n",
        "\n",
        "for epoch in range(epochs):\n",
        "    model.train()\n",
        "    total_loss = 0\n",
        "    for batch in tqdm(train_loader):\n",
        "        b_input_ids, b_attn_mask, b_labels = [x.to(device) for x in batch]\n",
        "        outputs = model(input_ids=b_input_ids, attention_mask=b_attn_mask, labels=b_labels)\n",
        "        loss = outputs.loss\n",
        "        optimizer.zero_grad()\n",
        "        loss.backward()\n",
        "        optimizer.step()\n",
        "        total_loss += loss.item()\n",
        "    print(f\"Epoch {epoch+1} Loss: {total_loss/len(train_loader):.4f}\")"
      ]
    },
    {
      "cell_type": "markdown",
      "id": "cd3ca4bd",
      "metadata": {
        "id": "cd3ca4bd"
      },
      "source": [
        "#### Evaluation"
      ]
    },
    {
      "cell_type": "code",
      "execution_count": 13,
      "id": "ba1fa557",
      "metadata": {
        "colab": {
          "base_uri": "https://localhost:8080/",
          "height": 663
        },
        "id": "ba1fa557",
        "outputId": "55ee8737-f5fd-4731-99c5-20cd388f735d"
      },
      "outputs": [
        {
          "output_type": "stream",
          "name": "stdout",
          "text": [
            "               precision    recall  f1-score   support\n",
            "\n",
            "Not Sarcastic       0.61      0.91      0.73       501\n",
            "    Sarcastic       0.65      0.22      0.33       379\n",
            "\n",
            "     accuracy                           0.61       880\n",
            "    macro avg       0.63      0.57      0.53       880\n",
            " weighted avg       0.63      0.61      0.56       880\n",
            "\n"
          ]
        },
        {
          "output_type": "display_data",
          "data": {
            "text/plain": [
              "<Figure size 600x500 with 2 Axes>"
            ],
            "image/png": "[encoded data removed]"
          },
          "metadata": {}
        }
      ],
      "source": [
        "model.eval()\n",
        "preds_byt5, truths_byt5 = [], []\n",
        "with torch.no_grad():\n",
        "    for batch in test_loader:\n",
        "        b_input_ids, b_attn_mask, b_labels = [x.to(device) for x in batch]\n",
        "        outputs = model(input_ids=b_input_ids, attention_mask=b_attn_mask)\n",
        "        logits = outputs.logits\n",
        "        preds_byt5.extend(torch.argmax(logits, dim=1).cpu().numpy())\n",
        "        truths_byt5.extend(b_labels.cpu().numpy())\n",
        "\n",
        "print(classification_report(truths_byt5, preds_byt5, target_names=['Not Sarcastic', 'Sarcastic']))\n",
        "\n",
        "cm_byt5 = confusion_matrix(truths_byt5, preds_byt5)\n",
        "labels = ['Not Sarcastic', 'Sarcastic']\n",
        "\n",
        "plt.figure(figsize=(6, 5))\n",
        "sns.heatmap(cm_byt5, annot=True, fmt='d', cmap='Blues',\n",
        "            xticklabels=labels, yticklabels=labels)\n",
        "plt.xlabel('Predicted Label')\n",
        "plt.ylabel('True Label')\n",
        "plt.title('Confusion Matrix - ByT5 Sarcasm Detection Dataset 2')\n",
        "plt.tight_layout()\n",
        "plt.show()"
      ]
    },
    {
      "cell_type": "markdown",
      "id": "3492f720",
      "metadata": {
        "id": "3492f720"
      },
      "source": [
        "## With context"
      ]
    },
    {
      "cell_type": "markdown",
      "id": "ef2f2e52",
      "metadata": {
        "id": "ef2f2e52"
      },
      "source": [
        "#### Loading dataset 2"
      ]
    },
    {
      "cell_type": "code",
      "execution_count": 25,
      "id": "3ecc1413",
      "metadata": {
        "colab": {
          "base_uri": "https://localhost:8080/"
        },
        "id": "3ecc1413",
        "outputId": "a4d1dbcf-9d6e-4e76-fb28-8b37f45f39fd"
      },
      "outputs": [
        {
          "output_type": "stream",
          "name": "stdout",
          "text": [
            "                                          input_text  label\n",
            "0  Text to analyse: That's exactly what a country...      1\n",
            "1  Text to analyse: but it still snows [SEP] Cont...      1\n",
            "2  Text to analyse: lol, you can't make this stuf...      0\n",
            "3  Text to analyse: He didn't drink the complianc...      0\n",
            "4  Text to analyse: In the Half Life series, the ...      0\n",
            "Text to analyse: That's exactly what a country who made up a hoax about climate change would say! [SEP] Context: China Tells Trump That Climate Change Is No Hoax It Invented\n"
          ]
        }
      ],
      "source": [
        "df['input_text'] = 'Text to analyse: ' + df['response'] + ' [SEP] ' + 'Context: ' + df['context']\n",
        "\n",
        "# Check the result\n",
        "print(df[['input_text', 'label']].head())\n",
        "print(df['input_text'][0])"
      ]
    },
    {
      "cell_type": "markdown",
      "id": "7febbe83",
      "metadata": {
        "id": "7febbe83"
      },
      "source": [
        "#### Prepare dataset 2"
      ]
    },
    {
      "cell_type": "code",
      "execution_count": 26,
      "id": "9e21ea2a",
      "metadata": {
        "colab": {
          "base_uri": "https://localhost:8080/"
        },
        "id": "9e21ea2a",
        "outputId": "56e1f5b3-53db-4e08-e367-2228126405c8"
      },
      "outputs": [
        {
          "output_type": "stream",
          "name": "stdout",
          "text": [
            "Train and test splits saved!\n"
          ]
        }
      ],
      "source": [
        "# Split\n",
        "X_train, X_test, y_train, y_test = train_test_split(\n",
        "    df['input_text'], df['label'],\n",
        "    test_size=0.2, random_state=42, stratify=df['label']\n",
        ")\n",
        "\n",
        "train_df = pd.DataFrame({'input_text': X_train, 'label': y_train})\n",
        "test_df = pd.DataFrame({'input_text': X_test, 'label': y_test})\n",
        "\n",
        "print(\"Train and test splits saved!\")"
      ]
    },
    {
      "cell_type": "markdown",
      "id": "4c23cfe4",
      "metadata": {
        "id": "4c23cfe4"
      },
      "source": [
        "#### Training"
      ]
    },
    {
      "cell_type": "code",
      "execution_count": 27,
      "id": "d18c9006",
      "metadata": {
        "id": "d18c9006"
      },
      "outputs": [],
      "source": [
        "train_df['input_text'] = train_df['input_text'].fillna(\"\").astype(str)\n",
        "test_df['input_text'] = test_df['input_text'].fillna(\"\").astype(str)\n",
        "\n",
        "X_train_byt5 = train_df['input_text'].tolist()\n",
        "y_train_byt5 = train_df['label'].tolist()\n",
        "X_test_byt5 = test_df['input_text'].tolist()\n",
        "y_test_byt5 = test_df['label'].tolist()"
      ]
    },
    {
      "cell_type": "code",
      "execution_count": 28,
      "id": "515cd32a",
      "metadata": {
        "id": "515cd32a"
      },
      "outputs": [],
      "source": [
        "tokenizer = AutoTokenizer.from_pretrained(\"google/byt5-small\")\n",
        "\n",
        "def tokenize(texts):\n",
        "    return tokenizer(\n",
        "        texts,\n",
        "        padding=\"max_length\",\n",
        "        truncation=True,\n",
        "        max_length=110,         # You can adjust for your dataset\n",
        "        return_tensors='pt'\n",
        "    )\n",
        "\n",
        "X_train_enc_byt5 = tokenize(X_train_byt5)\n",
        "X_test_enc_byt5 = tokenize(X_test_byt5)"
      ]
    },
    {
      "cell_type": "code",
      "execution_count": 29,
      "id": "733c15e5",
      "metadata": {
        "id": "733c15e5"
      },
      "outputs": [],
      "source": [
        "train_dataset_byt5 = TensorDataset(\n",
        "    X_train_enc_byt5['input_ids'],\n",
        "    X_train_enc_byt5['attention_mask'],\n",
        "    torch.tensor(y_train_byt5)\n",
        ")\n",
        "\n",
        "test_dataset_byt5 = TensorDataset(\n",
        "    X_test_enc_byt5['input_ids'],\n",
        "    X_test_enc_byt5['attention_mask'],\n",
        "    torch.tensor(y_test_byt5)\n",
        ")"
      ]
    },
    {
      "cell_type": "code",
      "execution_count": 30,
      "id": "0f0e631a",
      "metadata": {
        "id": "0f0e631a"
      },
      "outputs": [],
      "source": [
        "batch_size = 16\n",
        "\n",
        "train_loader = DataLoader(train_dataset_byt5, batch_size=batch_size, shuffle=True)\n",
        "test_loader = DataLoader(test_dataset_byt5, batch_size=batch_size)"
      ]
    },
    {
      "cell_type": "code",
      "execution_count": 31,
      "id": "ee33d661",
      "metadata": {
        "colab": {
          "base_uri": "https://localhost:8080/"
        },
        "id": "ee33d661",
        "outputId": "55a82310-3b3d-4035-becc-cfc066aab8c1"
      },
      "outputs": [
        {
          "output_type": "stream",
          "name": "stderr",
          "text": [
            "Some weights of T5ForSequenceClassification were not initialized from the model checkpoint at google/byt5-small and are newly initialized: ['classification_head.dense.bias', 'classification_head.dense.weight', 'classification_head.out_proj.bias', 'classification_head.out_proj.weight']\n",
            "You should probably TRAIN this model on a down-stream task to be able to use it for predictions and inference.\n"
          ]
        }
      ],
      "source": [
        "device = torch.device('cuda' if torch.cuda.is_available() else 'cpu')\n",
        "\n",
        "model = AutoModelForSequenceClassification.from_pretrained(\"google/byt5-small\", num_labels=2)\n",
        "model = model.to(device)"
      ]
    },
    {
      "cell_type": "code",
      "execution_count": 21,
      "id": "3fb69f13",
      "metadata": {
        "id": "3fb69f13"
      },
      "outputs": [],
      "source": [
        "optimizer = AdamW(model.parameters(), lr=2e-5)"
      ]
    },
    {
      "cell_type": "markdown",
      "id": "bebab123",
      "metadata": {
        "id": "bebab123"
      },
      "source": [
        "#### Training loop\n"
      ]
    },
    {
      "cell_type": "code",
      "execution_count": 32,
      "id": "566d9ca1",
      "metadata": {
        "colab": {
          "base_uri": "https://localhost:8080/"
        },
        "id": "566d9ca1",
        "outputId": "0a72de08-9277-4ba7-ab94-0687547d810c"
      },
      "outputs": [
        {
          "output_type": "stream",
          "name": "stderr",
          "text": [
            "100%|██████████| 220/220 [03:37<00:00,  1.01it/s]\n"
          ]
        },
        {
          "output_type": "stream",
          "name": "stdout",
          "text": [
            "Epoch 1 Loss: 0.6945\n"
          ]
        },
        {
          "output_type": "stream",
          "name": "stderr",
          "text": [
            "100%|██████████| 220/220 [03:46<00:00,  1.03s/it]\n"
          ]
        },
        {
          "output_type": "stream",
          "name": "stdout",
          "text": [
            "Epoch 2 Loss: 0.6941\n"
          ]
        },
        {
          "output_type": "stream",
          "name": "stderr",
          "text": [
            "100%|██████████| 220/220 [03:46<00:00,  1.03s/it]"
          ]
        },
        {
          "output_type": "stream",
          "name": "stdout",
          "text": [
            "Epoch 3 Loss: 0.6946\n"
          ]
        },
        {
          "output_type": "stream",
          "name": "stderr",
          "text": [
            "\n"
          ]
        }
      ],
      "source": [
        "epochs = 3\n",
        "\n",
        "for epoch in range(epochs):\n",
        "    model.train()\n",
        "    total_loss = 0\n",
        "    for batch in tqdm(train_loader):\n",
        "        b_input_ids, b_attn_mask, b_labels = [x.to(device) for x in batch]\n",
        "        outputs = model(input_ids=b_input_ids, attention_mask=b_attn_mask, labels=b_labels)\n",
        "        loss = outputs.loss\n",
        "        optimizer.zero_grad()\n",
        "        loss.backward()\n",
        "        optimizer.step()\n",
        "        total_loss += loss.item()\n",
        "    print(f\"Epoch {epoch+1} Loss: {total_loss/len(train_loader):.4f}\")"
      ]
    },
    {
      "cell_type": "markdown",
      "id": "55a856ab",
      "metadata": {
        "id": "55a856ab"
      },
      "source": [
        "#### Evaluation"
      ]
    },
    {
      "cell_type": "code",
      "execution_count": 33,
      "id": "d207e3ac",
      "metadata": {
        "colab": {
          "base_uri": "https://localhost:8080/",
          "height": 663
        },
        "id": "d207e3ac",
        "outputId": "d74b6eab-0248-4e0a-c27d-c382db0a96ac"
      },
      "outputs": [
        {
          "output_type": "stream",
          "name": "stdout",
          "text": [
            "               precision    recall  f1-score   support\n",
            "\n",
            "Not Sarcastic       0.58      0.65      0.62       501\n",
            "    Sarcastic       0.45      0.38      0.41       379\n",
            "\n",
            "     accuracy                           0.54       880\n",
            "    macro avg       0.52      0.52      0.51       880\n",
            " weighted avg       0.53      0.54      0.53       880\n",
            "\n"
          ]
        },
        {
          "output_type": "display_data",
          "data": {
            "text/plain": [
              "<Figure size 600x500 with 2 Axes>"
            ],
            "image/png": "[encoded data removed]"
          },
          "metadata": {}
        }
      ],
      "source": [
        "model.eval()\n",
        "preds_byt5, truths_byt5 = [], []\n",
        "with torch.no_grad():\n",
        "    for batch in test_loader:\n",
        "        b_input_ids, b_attn_mask, b_labels = [x.to(device) for x in batch]\n",
        "        outputs = model(input_ids=b_input_ids, attention_mask=b_attn_mask)\n",
        "        logits = outputs.logits\n",
        "        preds_byt5.extend(torch.argmax(logits, dim=1).cpu().numpy())\n",
        "        truths_byt5.extend(b_labels.cpu().numpy())\n",
        "\n",
        "print(classification_report(truths_byt5, preds_byt5, target_names=['Not Sarcastic', 'Sarcastic']))\n",
        "\n",
        "cm_byt5 = confusion_matrix(truths_byt5, preds_byt5)\n",
        "labels = ['Not Sarcastic', 'Sarcastic']\n",
        "\n",
        "plt.figure(figsize=(6, 5))\n",
        "sns.heatmap(cm_byt5, annot=True, fmt='d', cmap='Blues',\n",
        "            xticklabels=labels, yticklabels=labels)\n",
        "plt.xlabel('Predicted Label')\n",
        "plt.ylabel('True Label')\n",
        "plt.title('Confusion Matrix - ByT5 Sarcasm Detection Dataset 2')\n",
        "plt.tight_layout()\n",
        "plt.show()"
      ]
    }
  ],
  "metadata": {
    "language_info": {
      "name": "python"
    },
    "colab": {
      "provenance": [],
      "gpuType": "T4"
    },
    "accelerator": "GPU",
    "kernelspec": {
      "name": "python3",
      "display_name": "Python 3"
    },
    "widgets": {
      "application/vnd.jupyter.widget-state+json": {
        "3830e1830d3a45748d28915b3e17b9e5": {
          "model_module": "@jupyter-widgets/controls",
          "model_name": "HBoxModel",
          "model_module_version": "1.5.0",
          "state": {
            "_dom_classes": [],
            "_model_module": "@jupyter-widgets/controls",
            "_model_module_version": "1.5.0",
            "_model_name": "HBoxModel",
            "_view_count": null,
            "_view_module": "@jupyter-widgets/controls",
            "_view_module_version": "1.5.0",
            "_view_name": "HBoxView",
            "box_style": "",
            "children": [
              "IPY_MODEL_ed26294e1823477bb24f55aeadf1fbb9",
              "IPY_MODEL_e46e0a48b4bd4ad2908d842d619bade0",
              "IPY_MODEL_a57474b7ee8244988c9a384b3e38af28"
            ],
            "layout": "IPY_MODEL_94d3b05978b8469f92a7dd85d19e0555"
          }
        },
        "ed26294e1823477bb24f55aeadf1fbb9": {
          "model_module": "@jupyter-widgets/controls",
          "model_name": "HTMLModel",
          "model_module_version": "1.5.0",
          "state": {
            "_dom_classes": [],
            "_model_module": "@jupyter-widgets/controls",
            "_model_module_version": "1.5.0",
            "_model_name": "HTMLModel",
            "_view_count": null,
            "_view_module": "@jupyter-widgets/controls",
            "_view_module_version": "1.5.0",
            "_view_name": "HTMLView",
            "description": "",
            "description_tooltip": null,
            "layout": "IPY_MODEL_d6a8cb89dab745bbb7c7d90655bd9936",
            "placeholder": "​",
            "style": "IPY_MODEL_b6f1d86a463842299aa02eedae9eee2c",
            "value": "tokenizer_config.json: "
          }
        },
        "e46e0a48b4bd4ad2908d842d619bade0": {
          "model_module": "@jupyter-widgets/controls",
          "model_name": "FloatProgressModel",
          "model_module_version": "1.5.0",
          "state": {
            "_dom_classes": [],
            "_model_module": "@jupyter-widgets/controls",
            "_model_module_version": "1.5.0",
            "_model_name": "FloatProgressModel",
            "_view_count": null,
            "_view_module": "@jupyter-widgets/controls",
            "_view_module_version": "1.5.0",
            "_view_name": "ProgressView",
            "bar_style": "success",
            "description": "",
            "description_tooltip": null,
            "layout": "IPY_MODEL_1ad3960726da48a9a001212dde5d7fb4",
            "max": 1,
            "min": 0,
            "orientation": "horizontal",
            "style": "IPY_MODEL_ebd89f91d0d74702aff788881d8e6045",
            "value": 1
          }
        },
        "a57474b7ee8244988c9a384b3e38af28": {
          "model_module": "@jupyter-widgets/controls",
          "model_name": "HTMLModel",
          "model_module_version": "1.5.0",
          "state": {
            "_dom_classes": [],
            "_model_module": "@jupyter-widgets/controls",
            "_model_module_version": "1.5.0",
            "_model_name": "HTMLModel",
            "_view_count": null,
            "_view_module": "@jupyter-widgets/controls",
            "_view_module_version": "1.5.0",
            "_view_name": "HTMLView",
            "description": "",
            "description_tooltip": null,
            "layout": "IPY_MODEL_a1b1f75d9b994784b4bf92e9c8e77989",
            "placeholder": "​",
            "style": "IPY_MODEL_607bb149d5aa44278a1c0082b8b345f2",
            "value": " 2.59k/? [00:00&lt;00:00, 211kB/s]"
          }
        },
        "94d3b05978b8469f92a7dd85d19e0555": {
          "model_module": "@jupyter-widgets/base",
          "model_name": "LayoutModel",
          "model_module_version": "1.2.0",
          "state": {
            "_model_module": "@jupyter-widgets/base",
            "_model_module_version": "1.2.0",
            "_model_name": "LayoutModel",
            "_view_count": null,
            "_view_module": "@jupyter-widgets/base",
            "_view_module_version": "1.2.0",
            "_view_name": "LayoutView",
            "align_content": null,
            "align_items": null,
            "align_self": null,
            "border": null,
            "bottom": null,
            "display": null,
            "flex": null,
            "flex_flow": null,
            "grid_area": null,
            "grid_auto_columns": null,
            "grid_auto_flow": null,
            "grid_auto_rows": null,
            "grid_column": null,
            "grid_gap": null,
            "grid_row": null,
            "grid_template_areas": null,
            "grid_template_columns": null,
            "grid_template_rows": null,
            "height": null,
            "justify_content": null,
            "justify_items": null,
            "left": null,
            "margin": null,
            "max_height": null,
            "max_width": null,
            "min_height": null,
            "min_width": null,
            "object_fit": null,
            "object_position": null,
            "order": null,
            "overflow": null,
            "overflow_x": null,
            "overflow_y": null,
            "padding": null,
            "right": null,
            "top": null,
            "visibility": null,
            "width": null
          }
        },
        "d6a8cb89dab745bbb7c7d90655bd9936": {
          "model_module": "@jupyter-widgets/base",
          "model_name": "LayoutModel",
          "model_module_version": "1.2.0",
          "state": {
            "_model_module": "@jupyter-widgets/base",
            "_model_module_version": "1.2.0",
            "_model_name": "LayoutModel",
            "_view_count": null,
            "_view_module": "@jupyter-widgets/base",
            "_view_module_version": "1.2.0",
            "_view_name": "LayoutView",
            "align_content": null,
            "align_items": null,
            "align_self": null,
            "border": null,
            "bottom": null,
            "display": null,
            "flex": null,
            "flex_flow": null,
            "grid_area": null,
            "grid_auto_columns": null,
            "grid_auto_flow": null,
            "grid_auto_rows": null,
            "grid_column": null,
            "grid_gap": null,
            "grid_row": null,
            "grid_template_areas": null,
            "grid_template_columns": null,
            "grid_template_rows": null,
            "height": null,
            "justify_content": null,
            "justify_items": null,
            "left": null,
            "margin": null,
            "max_height": null,
            "max_width": null,
            "min_height": null,
            "min_width": null,
            "object_fit": null,
            "object_position": null,
            "order": null,
            "overflow": null,
            "overflow_x": null,
            "overflow_y": null,
            "padding": null,
            "right": null,
            "top": null,
            "visibility": null,
            "width": null
          }
        },
        "b6f1d86a463842299aa02eedae9eee2c": {
          "model_module": "@jupyter-widgets/controls",
          "model_name": "DescriptionStyleModel",
          "model_module_version": "1.5.0",
          "state": {
            "_model_module": "@jupyter-widgets/controls",
            "_model_module_version": "1.5.0",
            "_model_name": "DescriptionStyleModel",
            "_view_count": null,
            "_view_module": "@jupyter-widgets/base",
            "_view_module_version": "1.2.0",
            "_view_name": "StyleView",
            "description_width": ""
          }
        },
        "1ad3960726da48a9a001212dde5d7fb4": {
          "model_module": "@jupyter-widgets/base",
          "model_name": "LayoutModel",
          "model_module_version": "1.2.0",
          "state": {
            "_model_module": "@jupyter-widgets/base",
            "_model_module_version": "1.2.0",
            "_model_name": "LayoutModel",
            "_view_count": null,
            "_view_module": "@jupyter-widgets/base",
            "_view_module_version": "1.2.0",
            "_view_name": "LayoutView",
            "align_content": null,
            "align_items": null,
            "align_self": null,
            "border": null,
            "bottom": null,
            "display": null,
            "flex": null,
            "flex_flow": null,
            "grid_area": null,
            "grid_auto_columns": null,
            "grid_auto_flow": null,
            "grid_auto_rows": null,
            "grid_column": null,
            "grid_gap": null,
            "grid_row": null,
            "grid_template_areas": null,
            "grid_template_columns": null,
            "grid_template_rows": null,
            "height": null,
            "justify_content": null,
            "justify_items": null,
            "left": null,
            "margin": null,
            "max_height": null,
            "max_width": null,
            "min_height": null,
            "min_width": null,
            "object_fit": null,
            "object_position": null,
            "order": null,
            "overflow": null,
            "overflow_x": null,
            "overflow_y": null,
            "padding": null,
            "right": null,
            "top": null,
            "visibility": null,
            "width": "20px"
          }
        },
        "ebd89f91d0d74702aff788881d8e6045": {
          "model_module": "@jupyter-widgets/controls",
          "model_name": "ProgressStyleModel",
          "model_module_version": "1.5.0",
          "state": {
            "_model_module": "@jupyter-widgets/controls",
            "_model_module_version": "1.5.0",
            "_model_name": "ProgressStyleModel",
            "_view_count": null,
            "_view_module": "@jupyter-widgets/base",
            "_view_module_version": "1.2.0",
            "_view_name": "StyleView",
            "bar_color": null,
            "description_width": ""
          }
        },
        "a1b1f75d9b994784b4bf92e9c8e77989": {
          "model_module": "@jupyter-widgets/base",
          "model_name": "LayoutModel",
          "model_module_version": "1.2.0",
          "state": {
            "_model_module": "@jupyter-widgets/base",
            "_model_module_version": "1.2.0",
            "_model_name": "LayoutModel",
            "_view_count": null,
            "_view_module": "@jupyter-widgets/base",
            "_view_module_version": "1.2.0",
            "_view_name": "LayoutView",
            "align_content": null,
            "align_items": null,
            "align_self": null,
            "border": null,
            "bottom": null,
            "display": null,
            "flex": null,
            "flex_flow": null,
            "grid_area": null,
            "grid_auto_columns": null,
            "grid_auto_flow": null,
            "grid_auto_rows": null,
            "grid_column": null,
            "grid_gap": null,
            "grid_row": null,
            "grid_template_areas": null,
            "grid_template_columns": null,
            "grid_template_rows": null,
            "height": null,
            "justify_content": null,
            "justify_items": null,
            "left": null,
            "margin": null,
            "max_height": null,
            "max_width": null,
            "min_height": null,
            "min_width": null,
            "object_fit": null,
            "object_position": null,
            "order": null,
            "overflow": null,
            "overflow_x": null,
            "overflow_y": null,
            "padding": null,
            "right": null,
            "top": null,
            "visibility": null,
            "width": null
          }
        },
        "607bb149d5aa44278a1c0082b8b345f2": {
          "model_module": "@jupyter-widgets/controls",
          "model_name": "DescriptionStyleModel",
          "model_module_version": "1.5.0",
          "state": {
            "_model_module": "@jupyter-widgets/controls",
            "_model_module_version": "1.5.0",
            "_model_name": "DescriptionStyleModel",
            "_view_count": null,
            "_view_module": "@jupyter-widgets/base",
            "_view_module_version": "1.2.0",
            "_view_name": "StyleView",
            "description_width": ""
          }
        },
        "72bd31cf32ed4349b1b1494e01c8471a": {
          "model_module": "@jupyter-widgets/controls",
          "model_name": "HBoxModel",
          "model_module_version": "1.5.0",
          "state": {
            "_dom_classes": [],
            "_model_module": "@jupyter-widgets/controls",
            "_model_module_version": "1.5.0",
            "_model_name": "HBoxModel",
            "_view_count": null,
            "_view_module": "@jupyter-widgets/controls",
            "_view_module_version": "1.5.0",
            "_view_name": "HBoxView",
            "box_style": "",
            "children": [
              "IPY_MODEL_38f125ec34fc472eaa0014451c5a98ae",
              "IPY_MODEL_90e6c5aff5664af4abb6d8028081e913",
              "IPY_MODEL_eae4e805b1c9407faea8b2a174ce805a"
            ],
            "layout": "IPY_MODEL_77433758ea6a476e82fcb8fa702a71e2"
          }
        },
        "38f125ec34fc472eaa0014451c5a98ae": {
          "model_module": "@jupyter-widgets/controls",
          "model_name": "HTMLModel",
          "model_module_version": "1.5.0",
          "state": {
            "_dom_classes": [],
            "_model_module": "@jupyter-widgets/controls",
            "_model_module_version": "1.5.0",
            "_model_name": "HTMLModel",
            "_view_count": null,
            "_view_module": "@jupyter-widgets/controls",
            "_view_module_version": "1.5.0",
            "_view_name": "HTMLView",
            "description": "",
            "description_tooltip": null,
            "layout": "IPY_MODEL_87acbd87cb6b419d817c994739b934c3",
            "placeholder": "​",
            "style": "IPY_MODEL_4f13e7f033c64968beda6de761f675a8",
            "value": "config.json: 100%"
          }
        },
        "90e6c5aff5664af4abb6d8028081e913": {
          "model_module": "@jupyter-widgets/controls",
          "model_name": "FloatProgressModel",
          "model_module_version": "1.5.0",
          "state": {
            "_dom_classes": [],
            "_model_module": "@jupyter-widgets/controls",
            "_model_module_version": "1.5.0",
            "_model_name": "FloatProgressModel",
            "_view_count": null,
            "_view_module": "@jupyter-widgets/controls",
            "_view_module_version": "1.5.0",
            "_view_name": "ProgressView",
            "bar_style": "success",
            "description": "",
            "description_tooltip": null,
            "layout": "IPY_MODEL_56576a8dcb2047ea864dfe6b29872edf",
            "max": 698,
            "min": 0,
            "orientation": "horizontal",
            "style": "IPY_MODEL_e48bf6fdbceb474cb6a0641f638515de",
            "value": 698
          }
        },
        "eae4e805b1c9407faea8b2a174ce805a": {
          "model_module": "@jupyter-widgets/controls",
          "model_name": "HTMLModel",
          "model_module_version": "1.5.0",
          "state": {
            "_dom_classes": [],
            "_model_module": "@jupyter-widgets/controls",
            "_model_module_version": "1.5.0",
            "_model_name": "HTMLModel",
            "_view_count": null,
            "_view_module": "@jupyter-widgets/controls",
            "_view_module_version": "1.5.0",
            "_view_name": "HTMLView",
            "description": "",
            "description_tooltip": null,
            "layout": "IPY_MODEL_c417879129dc406686822d7b4f6e93b2",
            "placeholder": "​",
            "style": "IPY_MODEL_c3e81d7babfa46c7aaca0d97e9d7f5fd",
            "value": " 698/698 [00:00&lt;00:00, 75.5kB/s]"
          }
        },
        "77433758ea6a476e82fcb8fa702a71e2": {
          "model_module": "@jupyter-widgets/base",
          "model_name": "LayoutModel",
          "model_module_version": "1.2.0",
          "state": {
            "_model_module": "@jupyter-widgets/base",
            "_model_module_version": "1.2.0",
            "_model_name": "LayoutModel",
            "_view_count": null,
            "_view_module": "@jupyter-widgets/base",
            "_view_module_version": "1.2.0",
            "_view_name": "LayoutView",
            "align_content": null,
            "align_items": null,
            "align_self": null,
            "border": null,
            "bottom": null,
            "display": null,
            "flex": null,
            "flex_flow": null,
            "grid_area": null,
            "grid_auto_columns": null,
            "grid_auto_flow": null,
            "grid_auto_rows": null,
            "grid_column": null,
            "grid_gap": null,
            "grid_row": null,
            "grid_template_areas": null,
            "grid_template_columns": null,
            "grid_template_rows": null,
            "height": null,
            "justify_content": null,
            "justify_items": null,
            "left": null,
            "margin": null,
            "max_height": null,
            "max_width": null,
            "min_height": null,
            "min_width": null,
            "object_fit": null,
            "object_position": null,
            "order": null,
            "overflow": null,
            "overflow_x": null,
            "overflow_y": null,
            "padding": null,
            "right": null,
            "top": null,
            "visibility": null,
            "width": null
          }
        },
        "87acbd87cb6b419d817c994739b934c3": {
          "model_module": "@jupyter-widgets/base",
          "model_name": "LayoutModel",
          "model_module_version": "1.2.0",
          "state": {
            "_model_module": "@jupyter-widgets/base",
            "_model_module_version": "1.2.0",
            "_model_name": "LayoutModel",
            "_view_count": null,
            "_view_module": "@jupyter-widgets/base",
            "_view_module_version": "1.2.0",
            "_view_name": "LayoutView",
            "align_content": null,
            "align_items": null,
            "align_self": null,
            "border": null,
            "bottom": null,
            "display": null,
            "flex": null,
            "flex_flow": null,
            "grid_area": null,
            "grid_auto_columns": null,
            "grid_auto_flow": null,
            "grid_auto_rows": null,
            "grid_column": null,
            "grid_gap": null,
            "grid_row": null,
            "grid_template_areas": null,
            "grid_template_columns": null,
            "grid_template_rows": null,
            "height": null,
            "justify_content": null,
            "justify_items": null,
            "left": null,
            "margin": null,
            "max_height": null,
            "max_width": null,
            "min_height": null,
            "min_width": null,
            "object_fit": null,
            "object_position": null,
            "order": null,
            "overflow": null,
            "overflow_x": null,
            "overflow_y": null,
            "padding": null,
            "right": null,
            "top": null,
            "visibility": null,
            "width": null
          }
        },
        "4f13e7f033c64968beda6de761f675a8": {
          "model_module": "@jupyter-widgets/controls",
          "model_name": "DescriptionStyleModel",
          "model_module_version": "1.5.0",
          "state": {
            "_model_module": "@jupyter-widgets/controls",
            "_model_module_version": "1.5.0",
            "_model_name": "DescriptionStyleModel",
            "_view_count": null,
            "_view_module": "@jupyter-widgets/base",
            "_view_module_version": "1.2.0",
            "_view_name": "StyleView",
            "description_width": ""
          }
        },
        "56576a8dcb2047ea864dfe6b29872edf": {
          "model_module": "@jupyter-widgets/base",
          "model_name": "LayoutModel",
          "model_module_version": "1.2.0",
          "state": {
            "_model_module": "@jupyter-widgets/base",
            "_model_module_version": "1.2.0",
            "_model_name": "LayoutModel",
            "_view_count": null,
            "_view_module": "@jupyter-widgets/base",
            "_view_module_version": "1.2.0",
            "_view_name": "LayoutView",
            "align_content": null,
            "align_items": null,
            "align_self": null,
            "border": null,
            "bottom": null,
            "display": null,
            "flex": null,
            "flex_flow": null,
            "grid_area": null,
            "grid_auto_columns": null,
            "grid_auto_flow": null,
            "grid_auto_rows": null,
            "grid_column": null,
            "grid_gap": null,
            "grid_row": null,
            "grid_template_areas": null,
            "grid_template_columns": null,
            "grid_template_rows": null,
            "height": null,
            "justify_content": null,
            "justify_items": null,
            "left": null,
            "margin": null,
            "max_height": null,
            "max_width": null,
            "min_height": null,
            "min_width": null,
            "object_fit": null,
            "object_position": null,
            "order": null,
            "overflow": null,
            "overflow_x": null,
            "overflow_y": null,
            "padding": null,
            "right": null,
            "top": null,
            "visibility": null,
            "width": null
          }
        },
        "e48bf6fdbceb474cb6a0641f638515de": {
          "model_module": "@jupyter-widgets/controls",
          "model_name": "ProgressStyleModel",
          "model_module_version": "1.5.0",
          "state": {
            "_model_module": "@jupyter-widgets/controls",
            "_model_module_version": "1.5.0",
            "_model_name": "ProgressStyleModel",
            "_view_count": null,
            "_view_module": "@jupyter-widgets/base",
            "_view_module_version": "1.2.0",
            "_view_name": "StyleView",
            "bar_color": null,
            "description_width": ""
          }
        },
        "c417879129dc406686822d7b4f6e93b2": {
          "model_module": "@jupyter-widgets/base",
          "model_name": "LayoutModel",
          "model_module_version": "1.2.0",
          "state": {
            "_model_module": "@jupyter-widgets/base",
            "_model_module_version": "1.2.0",
            "_model_name": "LayoutModel",
            "_view_count": null,
            "_view_module": "@jupyter-widgets/base",
            "_view_module_version": "1.2.0",
            "_view_name": "LayoutView",
            "align_content": null,
            "align_items": null,
            "align_self": null,
            "border": null,
            "bottom": null,
            "display": null,
            "flex": null,
            "flex_flow": null,
            "grid_area": null,
            "grid_auto_columns": null,
            "grid_auto_flow": null,
            "grid_auto_rows": null,
            "grid_column": null,
            "grid_gap": null,
            "grid_row": null,
            "grid_template_areas": null,
            "grid_template_columns": null,
            "grid_template_rows": null,
            "height": null,
            "justify_content": null,
            "justify_items": null,
            "left": null,
            "margin": null,
            "max_height": null,
            "max_width": null,
            "min_height": null,
            "min_width": null,
            "object_fit": null,
            "object_position": null,
            "order": null,
            "overflow": null,
            "overflow_x": null,
            "overflow_y": null,
            "padding": null,
            "right": null,
            "top": null,
            "visibility": null,
            "width": null
          }
        },
        "c3e81d7babfa46c7aaca0d97e9d7f5fd": {
          "model_module": "@jupyter-widgets/controls",
          "model_name": "DescriptionStyleModel",
          "model_module_version": "1.5.0",
          "state": {
            "_model_module": "@jupyter-widgets/controls",
            "_model_module_version": "1.5.0",
            "_model_name": "DescriptionStyleModel",
            "_view_count": null,
            "_view_module": "@jupyter-widgets/base",
            "_view_module_version": "1.2.0",
            "_view_name": "StyleView",
            "description_width": ""
          }
        },
        "ea767f75014b49a3a3d3127c1d88115d": {
          "model_module": "@jupyter-widgets/controls",
          "model_name": "HBoxModel",
          "model_module_version": "1.5.0",
          "state": {
            "_dom_classes": [],
            "_model_module": "@jupyter-widgets/controls",
            "_model_module_version": "1.5.0",
            "_model_name": "HBoxModel",
            "_view_count": null,
            "_view_module": "@jupyter-widgets/controls",
            "_view_module_version": "1.5.0",
            "_view_name": "HBoxView",
            "box_style": "",
            "children": [
              "IPY_MODEL_9d1925aa10e345a086145e4233be61b8",
              "IPY_MODEL_c5242752dce84070a5bb5aed15e759d9",
              "IPY_MODEL_a554f8e878cf4d1797ae8009fda8320e"
            ],
            "layout": "IPY_MODEL_53fabd231adf43da98d45dcd3fd43ac3"
          }
        },
        "9d1925aa10e345a086145e4233be61b8": {
          "model_module": "@jupyter-widgets/controls",
          "model_name": "HTMLModel",
          "model_module_version": "1.5.0",
          "state": {
            "_dom_classes": [],
            "_model_module": "@jupyter-widgets/controls",
            "_model_module_version": "1.5.0",
            "_model_name": "HTMLModel",
            "_view_count": null,
            "_view_module": "@jupyter-widgets/controls",
            "_view_module_version": "1.5.0",
            "_view_name": "HTMLView",
            "description": "",
            "description_tooltip": null,
            "layout": "IPY_MODEL_1bda437c5c2c4278a43a968b69714006",
            "placeholder": "​",
            "style": "IPY_MODEL_6a4ea6150c804fdc876f3eb212c98f47",
            "value": "special_tokens_map.json: "
          }
        },
        "c5242752dce84070a5bb5aed15e759d9": {
          "model_module": "@jupyter-widgets/controls",
          "model_name": "FloatProgressModel",
          "model_module_version": "1.5.0",
          "state": {
            "_dom_classes": [],
            "_model_module": "@jupyter-widgets/controls",
            "_model_module_version": "1.5.0",
            "_model_name": "FloatProgressModel",
            "_view_count": null,
            "_view_module": "@jupyter-widgets/controls",
            "_view_module_version": "1.5.0",
            "_view_name": "ProgressView",
            "bar_style": "success",
            "description": "",
            "description_tooltip": null,
            "layout": "IPY_MODEL_0f5d0bdccf6941c0af60c394e763234f",
            "max": 1,
            "min": 0,
            "orientation": "horizontal",
            "style": "IPY_MODEL_93477a65f29b41caabd2f3e7f861aae8",
            "value": 1
          }
        },
        "a554f8e878cf4d1797ae8009fda8320e": {
          "model_module": "@jupyter-widgets/controls",
          "model_name": "HTMLModel",
          "model_module_version": "1.5.0",
          "state": {
            "_dom_classes": [],
            "_model_module": "@jupyter-widgets/controls",
            "_model_module_version": "1.5.0",
            "_model_name": "HTMLModel",
            "_view_count": null,
            "_view_module": "@jupyter-widgets/controls",
            "_view_module_version": "1.5.0",
            "_view_name": "HTMLView",
            "description": "",
            "description_tooltip": null,
            "layout": "IPY_MODEL_168f90aa05304a68a234791534f23616",
            "placeholder": "​",
            "style": "IPY_MODEL_a3f5ad0f88fe47ed910e1d34ddcd00c3",
            "value": " 2.50k/? [00:00&lt;00:00, 154kB/s]"
          }
        },
        "53fabd231adf43da98d45dcd3fd43ac3": {
          "model_module": "@jupyter-widgets/base",
          "model_name": "LayoutModel",
          "model_module_version": "1.2.0",
          "state": {
            "_model_module": "@jupyter-widgets/base",
            "_model_module_version": "1.2.0",
            "_model_name": "LayoutModel",
            "_view_count": null,
            "_view_module": "@jupyter-widgets/base",
            "_view_module_version": "1.2.0",
            "_view_name": "LayoutView",
            "align_content": null,
            "align_items": null,
            "align_self": null,
            "border": null,
            "bottom": null,
            "display": null,
            "flex": null,
            "flex_flow": null,
            "grid_area": null,
            "grid_auto_columns": null,
            "grid_auto_flow": null,
            "grid_auto_rows": null,
            "grid_column": null,
            "grid_gap": null,
            "grid_row": null,
            "grid_template_areas": null,
            "grid_template_columns": null,
            "grid_template_rows": null,
            "height": null,
            "justify_content": null,
            "justify_items": null,
            "left": null,
            "margin": null,
            "max_height": null,
            "max_width": null,
            "min_height": null,
            "min_width": null,
            "object_fit": null,
            "object_position": null,
            "order": null,
            "overflow": null,
            "overflow_x": null,
            "overflow_y": null,
            "padding": null,
            "right": null,
            "top": null,
            "visibility": null,
            "width": null
          }
        },
        "1bda437c5c2c4278a43a968b69714006": {
          "model_module": "@jupyter-widgets/base",
          "model_name": "LayoutModel",
          "model_module_version": "1.2.0",
          "state": {
            "_model_module": "@jupyter-widgets/base",
            "_model_module_version": "1.2.0",
            "_model_name": "LayoutModel",
            "_view_count": null,
            "_view_module": "@jupyter-widgets/base",
            "_view_module_version": "1.2.0",
            "_view_name": "LayoutView",
            "align_content": null,
            "align_items": null,
            "align_self": null,
            "border": null,
            "bottom": null,
            "display": null,
            "flex": null,
            "flex_flow": null,
            "grid_area": null,
            "grid_auto_columns": null,
            "grid_auto_flow": null,
            "grid_auto_rows": null,
            "grid_column": null,
            "grid_gap": null,
            "grid_row": null,
            "grid_template_areas": null,
            "grid_template_columns": null,
            "grid_template_rows": null,
            "height": null,
            "justify_content": null,
            "justify_items": null,
            "left": null,
            "margin": null,
            "max_height": null,
            "max_width": null,
            "min_height": null,
            "min_width": null,
            "object_fit": null,
            "object_position": null,
            "order": null,
            "overflow": null,
            "overflow_x": null,
            "overflow_y": null,
            "padding": null,
            "right": null,
            "top": null,
            "visibility": null,
            "width": null
          }
        },
        "6a4ea6150c804fdc876f3eb212c98f47": {
          "model_module": "@jupyter-widgets/controls",
          "model_name": "DescriptionStyleModel",
          "model_module_version": "1.5.0",
          "state": {
            "_model_module": "@jupyter-widgets/controls",
            "_model_module_version": "1.5.0",
            "_model_name": "DescriptionStyleModel",
            "_view_count": null,
            "_view_module": "@jupyter-widgets/base",
            "_view_module_version": "1.2.0",
            "_view_name": "StyleView",
            "description_width": ""
          }
        },
        "0f5d0bdccf6941c0af60c394e763234f": {
          "model_module": "@jupyter-widgets/base",
          "model_name": "LayoutModel",
          "model_module_version": "1.2.0",
          "state": {
            "_model_module": "@jupyter-widgets/base",
            "_model_module_version": "1.2.0",
            "_model_name": "LayoutModel",
            "_view_count": null,
            "_view_module": "@jupyter-widgets/base",
            "_view_module_version": "1.2.0",
            "_view_name": "LayoutView",
            "align_content": null,
            "align_items": null,
            "align_self": null,
            "border": null,
            "bottom": null,
            "display": null,
            "flex": null,
            "flex_flow": null,
            "grid_area": null,
            "grid_auto_columns": null,
            "grid_auto_flow": null,
            "grid_auto_rows": null,
            "grid_column": null,
            "grid_gap": null,
            "grid_row": null,
            "grid_template_areas": null,
            "grid_template_columns": null,
            "grid_template_rows": null,
            "height": null,
            "justify_content": null,
            "justify_items": null,
            "left": null,
            "margin": null,
            "max_height": null,
            "max_width": null,
            "min_height": null,
            "min_width": null,
            "object_fit": null,
            "object_position": null,
            "order": null,
            "overflow": null,
            "overflow_x": null,
            "overflow_y": null,
            "padding": null,
            "right": null,
            "top": null,
            "visibility": null,
            "width": "20px"
          }
        },
        "93477a65f29b41caabd2f3e7f861aae8": {
          "model_module": "@jupyter-widgets/controls",
          "model_name": "ProgressStyleModel",
          "model_module_version": "1.5.0",
          "state": {
            "_model_module": "@jupyter-widgets/controls",
            "_model_module_version": "1.5.0",
            "_model_name": "ProgressStyleModel",
            "_view_count": null,
            "_view_module": "@jupyter-widgets/base",
            "_view_module_version": "1.2.0",
            "_view_name": "StyleView",
            "bar_color": null,
            "description_width": ""
          }
        },
        "168f90aa05304a68a234791534f23616": {
          "model_module": "@jupyter-widgets/base",
          "model_name": "LayoutModel",
          "model_module_version": "1.2.0",
          "state": {
            "_model_module": "@jupyter-widgets/base",
            "_model_module_version": "1.2.0",
            "_model_name": "LayoutModel",
            "_view_count": null,
            "_view_module": "@jupyter-widgets/base",
            "_view_module_version": "1.2.0",
            "_view_name": "LayoutView",
            "align_content": null,
            "align_items": null,
            "align_self": null,
            "border": null,
            "bottom": null,
            "display": null,
            "flex": null,
            "flex_flow": null,
            "grid_area": null,
            "grid_auto_columns": null,
            "grid_auto_flow": null,
            "grid_auto_rows": null,
            "grid_column": null,
            "grid_gap": null,
            "grid_row": null,
            "grid_template_areas": null,
            "grid_template_columns": null,
            "grid_template_rows": null,
            "height": null,
            "justify_content": null,
            "justify_items": null,
            "left": null,
            "margin": null,
            "max_height": null,
            "max_width": null,
            "min_height": null,
            "min_width": null,
            "object_fit": null,
            "object_position": null,
            "order": null,
            "overflow": null,
            "overflow_x": null,
            "overflow_y": null,
            "padding": null,
            "right": null,
            "top": null,
            "visibility": null,
            "width": null
          }
        },
        "a3f5ad0f88fe47ed910e1d34ddcd00c3": {
          "model_module": "@jupyter-widgets/controls",
          "model_name": "DescriptionStyleModel",
          "model_module_version": "1.5.0",
          "state": {
            "_model_module": "@jupyter-widgets/controls",
            "_model_module_version": "1.5.0",
            "_model_name": "DescriptionStyleModel",
            "_view_count": null,
            "_view_module": "@jupyter-widgets/base",
            "_view_module_version": "1.2.0",
            "_view_name": "StyleView",
            "description_width": ""
          }
        },
        "6f192430af3e418a866bbf8db260f1b3": {
          "model_module": "@jupyter-widgets/controls",
          "model_name": "HBoxModel",
          "model_module_version": "1.5.0",
          "state": {
            "_dom_classes": [],
            "_model_module": "@jupyter-widgets/controls",
            "_model_module_version": "1.5.0",
            "_model_name": "HBoxModel",
            "_view_count": null,
            "_view_module": "@jupyter-widgets/controls",
            "_view_module_version": "1.5.0",
            "_view_name": "HBoxView",
            "box_style": "",
            "children": [
              "IPY_MODEL_84504ae131934b5293741ae735f49040",
              "IPY_MODEL_17ffe2428616413eba23162ad242b67b",
              "IPY_MODEL_3cdbfe27f5354eaab40b93033d0c17ba"
            ],
            "layout": "IPY_MODEL_3fb4037bd73b4c66be36942b5cfa1e7d"
          }
        },
        "84504ae131934b5293741ae735f49040": {
          "model_module": "@jupyter-widgets/controls",
          "model_name": "HTMLModel",
          "model_module_version": "1.5.0",
          "state": {
            "_dom_classes": [],
            "_model_module": "@jupyter-widgets/controls",
            "_model_module_version": "1.5.0",
            "_model_name": "HTMLModel",
            "_view_count": null,
            "_view_module": "@jupyter-widgets/controls",
            "_view_module_version": "1.5.0",
            "_view_name": "HTMLView",
            "description": "",
            "description_tooltip": null,
            "layout": "IPY_MODEL_8a31d7cb859f4498899b09bc77c3820a",
            "placeholder": "​",
            "style": "IPY_MODEL_021631546a7c4f6e8b97fdd00b1e7d88",
            "value": "pytorch_model.bin: 100%"
          }
        },
        "17ffe2428616413eba23162ad242b67b": {
          "model_module": "@jupyter-widgets/controls",
          "model_name": "FloatProgressModel",
          "model_module_version": "1.5.0",
          "state": {
            "_dom_classes": [],
            "_model_module": "@jupyter-widgets/controls",
            "_model_module_version": "1.5.0",
            "_model_name": "FloatProgressModel",
            "_view_count": null,
            "_view_module": "@jupyter-widgets/controls",
            "_view_module_version": "1.5.0",
            "_view_name": "ProgressView",
            "bar_style": "success",
            "description": "",
            "description_tooltip": null,
            "layout": "IPY_MODEL_8d293c1c11fe45dfa84887532cf5eda7",
            "max": 1198627927,
            "min": 0,
            "orientation": "horizontal",
            "style": "IPY_MODEL_25d50d2a5399426b8d20ebd34f7f46c1",
            "value": 1198627927
          }
        },
        "3cdbfe27f5354eaab40b93033d0c17ba": {
          "model_module": "@jupyter-widgets/controls",
          "model_name": "HTMLModel",
          "model_module_version": "1.5.0",
          "state": {
            "_dom_classes": [],
            "_model_module": "@jupyter-widgets/controls",
            "_model_module_version": "1.5.0",
            "_model_name": "HTMLModel",
            "_view_count": null,
            "_view_module": "@jupyter-widgets/controls",
            "_view_module_version": "1.5.0",
            "_view_name": "HTMLView",
            "description": "",
            "description_tooltip": null,
            "layout": "IPY_MODEL_50dff3e2d8f44b83b226e986117c92aa",
            "placeholder": "​",
            "style": "IPY_MODEL_2dd3767b2cc84708be24aa7d5de4b5eb",
            "value": " 1.20G/1.20G [00:31&lt;00:00, 30.3MB/s]"
          }
        },
        "3fb4037bd73b4c66be36942b5cfa1e7d": {
          "model_module": "@jupyter-widgets/base",
          "model_name": "LayoutModel",
          "model_module_version": "1.2.0",
          "state": {
            "_model_module": "@jupyter-widgets/base",
            "_model_module_version": "1.2.0",
            "_model_name": "LayoutModel",
            "_view_count": null,
            "_view_module": "@jupyter-widgets/base",
            "_view_module_version": "1.2.0",
            "_view_name": "LayoutView",
            "align_content": null,
            "align_items": null,
            "align_self": null,
            "border": null,
            "bottom": null,
            "display": null,
            "flex": null,
            "flex_flow": null,
            "grid_area": null,
            "grid_auto_columns": null,
            "grid_auto_flow": null,
            "grid_auto_rows": null,
            "grid_column": null,
            "grid_gap": null,
            "grid_row": null,
            "grid_template_areas": null,
            "grid_template_columns": null,
            "grid_template_rows": null,
            "height": null,
            "justify_content": null,
            "justify_items": null,
            "left": null,
            "margin": null,
            "max_height": null,
            "max_width": null,
            "min_height": null,
            "min_width": null,
            "object_fit": null,
            "object_position": null,
            "order": null,
            "overflow": null,
            "overflow_x": null,
            "overflow_y": null,
            "padding": null,
            "right": null,
            "top": null,
            "visibility": null,
            "width": null
          }
        },
        "8a31d7cb859f4498899b09bc77c3820a": {
          "model_module": "@jupyter-widgets/base",
          "model_name": "LayoutModel",
          "model_module_version": "1.2.0",
          "state": {
            "_model_module": "@jupyter-widgets/base",
            "_model_module_version": "1.2.0",
            "_model_name": "LayoutModel",
            "_view_count": null,
            "_view_module": "@jupyter-widgets/base",
            "_view_module_version": "1.2.0",
            "_view_name": "LayoutView",
            "align_content": null,
            "align_items": null,
            "align_self": null,
            "border": null,
            "bottom": null,
            "display": null,
            "flex": null,
            "flex_flow": null,
            "grid_area": null,
            "grid_auto_columns": null,
            "grid_auto_flow": null,
            "grid_auto_rows": null,
            "grid_column": null,
            "grid_gap": null,
            "grid_row": null,
            "grid_template_areas": null,
            "grid_template_columns": null,
            "grid_template_rows": null,
            "height": null,
            "justify_content": null,
            "justify_items": null,
            "left": null,
            "margin": null,
            "max_height": null,
            "max_width": null,
            "min_height": null,
            "min_width": null,
            "object_fit": null,
            "object_position": null,
            "order": null,
            "overflow": null,
            "overflow_x": null,
            "overflow_y": null,
            "padding": null,
            "right": null,
            "top": null,
            "visibility": null,
            "width": null
          }
        },
        "021631546a7c4f6e8b97fdd00b1e7d88": {
          "model_module": "@jupyter-widgets/controls",
          "model_name": "DescriptionStyleModel",
          "model_module_version": "1.5.0",
          "state": {
            "_model_module": "@jupyter-widgets/controls",
            "_model_module_version": "1.5.0",
            "_model_name": "DescriptionStyleModel",
            "_view_count": null,
            "_view_module": "@jupyter-widgets/base",
            "_view_module_version": "1.2.0",
            "_view_name": "StyleView",
            "description_width": ""
          }
        },
        "8d293c1c11fe45dfa84887532cf5eda7": {
          "model_module": "@jupyter-widgets/base",
          "model_name": "LayoutModel",
          "model_module_version": "1.2.0",
          "state": {
            "_model_module": "@jupyter-widgets/base",
            "_model_module_version": "1.2.0",
            "_model_name": "LayoutModel",
            "_view_count": null,
            "_view_module": "@jupyter-widgets/base",
            "_view_module_version": "1.2.0",
            "_view_name": "LayoutView",
            "align_content": null,
            "align_items": null,
            "align_self": null,
            "border": null,
            "bottom": null,
            "display": null,
            "flex": null,
            "flex_flow": null,
            "grid_area": null,
            "grid_auto_columns": null,
            "grid_auto_flow": null,
            "grid_auto_rows": null,
            "grid_column": null,
            "grid_gap": null,
            "grid_row": null,
            "grid_template_areas": null,
            "grid_template_columns": null,
            "grid_template_rows": null,
            "height": null,
            "justify_content": null,
            "justify_items": null,
            "left": null,
            "margin": null,
            "max_height": null,
            "max_width": null,
            "min_height": null,
            "min_width": null,
            "object_fit": null,
            "object_position": null,
            "order": null,
            "overflow": null,
            "overflow_x": null,
            "overflow_y": null,
            "padding": null,
            "right": null,
            "top": null,
            "visibility": null,
            "width": null
          }
        },
        "25d50d2a5399426b8d20ebd34f7f46c1": {
          "model_module": "@jupyter-widgets/controls",
          "model_name": "ProgressStyleModel",
          "model_module_version": "1.5.0",
          "state": {
            "_model_module": "@jupyter-widgets/controls",
            "_model_module_version": "1.5.0",
            "_model_name": "ProgressStyleModel",
            "_view_count": null,
            "_view_module": "@jupyter-widgets/base",
            "_view_module_version": "1.2.0",
            "_view_name": "StyleView",
            "bar_color": null,
            "description_width": ""
          }
        },
        "50dff3e2d8f44b83b226e986117c92aa": {
          "model_module": "@jupyter-widgets/base",
          "model_name": "LayoutModel",
          "model_module_version": "1.2.0",
          "state": {
            "_model_module": "@jupyter-widgets/base",
            "_model_module_version": "1.2.0",
            "_model_name": "LayoutModel",
            "_view_count": null,
            "_view_module": "@jupyter-widgets/base",
            "_view_module_version": "1.2.0",
            "_view_name": "LayoutView",
            "align_content": null,
            "align_items": null,
            "align_self": null,
            "border": null,
            "bottom": null,
            "display": null,
            "flex": null,
            "flex_flow": null,
            "grid_area": null,
            "grid_auto_columns": null,
            "grid_auto_flow": null,
            "grid_auto_rows": null,
            "grid_column": null,
            "grid_gap": null,
            "grid_row": null,
            "grid_template_areas": null,
            "grid_template_columns": null,
            "grid_template_rows": null,
            "height": null,
            "justify_content": null,
            "justify_items": null,
            "left": null,
            "margin": null,
            "max_height": null,
            "max_width": null,
            "min_height": null,
            "min_width": null,
            "object_fit": null,
            "object_position": null,
            "order": null,
            "overflow": null,
            "overflow_x": null,
            "overflow_y": null,
            "padding": null,
            "right": null,
            "top": null,
            "visibility": null,
            "width": null
          }
        },
        "2dd3767b2cc84708be24aa7d5de4b5eb": {
          "model_module": "@jupyter-widgets/controls",
          "model_name": "DescriptionStyleModel",
          "model_module_version": "1.5.0",
          "state": {
            "_model_module": "@jupyter-widgets/controls",
            "_model_module_version": "1.5.0",
            "_model_name": "DescriptionStyleModel",
            "_view_count": null,
            "_view_module": "@jupyter-widgets/base",
            "_view_module_version": "1.2.0",
            "_view_name": "StyleView",
            "description_width": ""
          }
        },
        "f57fc954cc5946d9821278b9809776f2": {
          "model_module": "@jupyter-widgets/controls",
          "model_name": "HBoxModel",
          "model_module_version": "1.5.0",
          "state": {
            "_dom_classes": [],
            "_model_module": "@jupyter-widgets/controls",
            "_model_module_version": "1.5.0",
            "_model_name": "HBoxModel",
            "_view_count": null,
            "_view_module": "@jupyter-widgets/controls",
            "_view_module_version": "1.5.0",
            "_view_name": "HBoxView",
            "box_style": "",
            "children": [
              "IPY_MODEL_85dbaac49a0f4ea4bb47fb28f1cac29a",
              "IPY_MODEL_dffbb0f6d34f432c82583fbb27cc3855",
              "IPY_MODEL_94df203907cf43e3855a22d52fddb7b2"
            ],
            "layout": "IPY_MODEL_6935492cec23415ea80d2527aaa2d9b3"
          }
        },
        "85dbaac49a0f4ea4bb47fb28f1cac29a": {
          "model_module": "@jupyter-widgets/controls",
          "model_name": "HTMLModel",
          "model_module_version": "1.5.0",
          "state": {
            "_dom_classes": [],
            "_model_module": "@jupyter-widgets/controls",
            "_model_module_version": "1.5.0",
            "_model_name": "HTMLModel",
            "_view_count": null,
            "_view_module": "@jupyter-widgets/controls",
            "_view_module_version": "1.5.0",
            "_view_name": "HTMLView",
            "description": "",
            "description_tooltip": null,
            "layout": "IPY_MODEL_17b42dacf929475b8e2d02b1543eb354",
            "placeholder": "​",
            "style": "IPY_MODEL_5a6a88cd11b146e3b54d2a50fef450df",
            "value": "model.safetensors: 100%"
          }
        },
        "dffbb0f6d34f432c82583fbb27cc3855": {
          "model_module": "@jupyter-widgets/controls",
          "model_name": "FloatProgressModel",
          "model_module_version": "1.5.0",
          "state": {
            "_dom_classes": [],
            "_model_module": "@jupyter-widgets/controls",
            "_model_module_version": "1.5.0",
            "_model_name": "FloatProgressModel",
            "_view_count": null,
            "_view_module": "@jupyter-widgets/controls",
            "_view_module_version": "1.5.0",
            "_view_name": "ProgressView",
            "bar_style": "success",
            "description": "",
            "description_tooltip": null,
            "layout": "IPY_MODEL_64bf8acf559c40ecb1fc02716bc703fb",
            "max": 1198571496,
            "min": 0,
            "orientation": "horizontal",
            "style": "IPY_MODEL_2b74b84ef4cc49688d2522547dc00ee4",
            "value": 1198571496
          }
        },
        "94df203907cf43e3855a22d52fddb7b2": {
          "model_module": "@jupyter-widgets/controls",
          "model_name": "HTMLModel",
          "model_module_version": "1.5.0",
          "state": {
            "_dom_classes": [],
            "_model_module": "@jupyter-widgets/controls",
            "_model_module_version": "1.5.0",
            "_model_name": "HTMLModel",
            "_view_count": null,
            "_view_module": "@jupyter-widgets/controls",
            "_view_module_version": "1.5.0",
            "_view_name": "HTMLView",
            "description": "",
            "description_tooltip": null,
            "layout": "IPY_MODEL_cc01d0c9efe44588b2385a2b34949d79",
            "placeholder": "​",
            "style": "IPY_MODEL_0dad3927b5ca45949bf3b51b01a93260",
            "value": " 1.20G/1.20G [00:48&lt;00:00, 54.0MB/s]"
          }
        },
        "6935492cec23415ea80d2527aaa2d9b3": {
          "model_module": "@jupyter-widgets/base",
          "model_name": "LayoutModel",
          "model_module_version": "1.2.0",
          "state": {
            "_model_module": "@jupyter-widgets/base",
            "_model_module_version": "1.2.0",
            "_model_name": "LayoutModel",
            "_view_count": null,
            "_view_module": "@jupyter-widgets/base",
            "_view_module_version": "1.2.0",
            "_view_name": "LayoutView",
            "align_content": null,
            "align_items": null,
            "align_self": null,
            "border": null,
            "bottom": null,
            "display": null,
            "flex": null,
            "flex_flow": null,
            "grid_area": null,
            "grid_auto_columns": null,
            "grid_auto_flow": null,
            "grid_auto_rows": null,
            "grid_column": null,
            "grid_gap": null,
            "grid_row": null,
            "grid_template_areas": null,
            "grid_template_columns": null,
            "grid_template_rows": null,
            "height": null,
            "justify_content": null,
            "justify_items": null,
            "left": null,
            "margin": null,
            "max_height": null,
            "max_width": null,
            "min_height": null,
            "min_width": null,
            "object_fit": null,
            "object_position": null,
            "order": null,
            "overflow": null,
            "overflow_x": null,
            "overflow_y": null,
            "padding": null,
            "right": null,
            "top": null,
            "visibility": null,
            "width": null
          }
        },
        "17b42dacf929475b8e2d02b1543eb354": {
          "model_module": "@jupyter-widgets/base",
          "model_name": "LayoutModel",
          "model_module_version": "1.2.0",
          "state": {
            "_model_module": "@jupyter-widgets/base",
            "_model_module_version": "1.2.0",
            "_model_name": "LayoutModel",
            "_view_count": null,
            "_view_module": "@jupyter-widgets/base",
            "_view_module_version": "1.2.0",
            "_view_name": "LayoutView",
            "align_content": null,
            "align_items": null,
            "align_self": null,
            "border": null,
            "bottom": null,
            "display": null,
            "flex": null,
            "flex_flow": null,
            "grid_area": null,
            "grid_auto_columns": null,
            "grid_auto_flow": null,
            "grid_auto_rows": null,
            "grid_column": null,
            "grid_gap": null,
            "grid_row": null,
            "grid_template_areas": null,
            "grid_template_columns": null,
            "grid_template_rows": null,
            "height": null,
            "justify_content": null,
            "justify_items": null,
            "left": null,
            "margin": null,
            "max_height": null,
            "max_width": null,
            "min_height": null,
            "min_width": null,
            "object_fit": null,
            "object_position": null,
            "order": null,
            "overflow": null,
            "overflow_x": null,
            "overflow_y": null,
            "padding": null,
            "right": null,
            "top": null,
            "visibility": null,
            "width": null
          }
        },
        "5a6a88cd11b146e3b54d2a50fef450df": {
          "model_module": "@jupyter-widgets/controls",
          "model_name": "DescriptionStyleModel",
          "model_module_version": "1.5.0",
          "state": {
            "_model_module": "@jupyter-widgets/controls",
            "_model_module_version": "1.5.0",
            "_model_name": "DescriptionStyleModel",
            "_view_count": null,
            "_view_module": "@jupyter-widgets/base",
            "_view_module_version": "1.2.0",
            "_view_name": "StyleView",
            "description_width": ""
          }
        },
        "64bf8acf559c40ecb1fc02716bc703fb": {
          "model_module": "@jupyter-widgets/base",
          "model_name": "LayoutModel",
          "model_module_version": "1.2.0",
          "state": {
            "_model_module": "@jupyter-widgets/base",
            "_model_module_version": "1.2.0",
            "_model_name": "LayoutModel",
            "_view_count": null,
            "_view_module": "@jupyter-widgets/base",
            "_view_module_version": "1.2.0",
            "_view_name": "LayoutView",
            "align_content": null,
            "align_items": null,
            "align_self": null,
            "border": null,
            "bottom": null,
            "display": null,
            "flex": null,
            "flex_flow": null,
            "grid_area": null,
            "grid_auto_columns": null,
            "grid_auto_flow": null,
            "grid_auto_rows": null,
            "grid_column": null,
            "grid_gap": null,
            "grid_row": null,
            "grid_template_areas": null,
            "grid_template_columns": null,
            "grid_template_rows": null,
            "height": null,
            "justify_content": null,
            "justify_items": null,
            "left": null,
            "margin": null,
            "max_height": null,
            "max_width": null,
            "min_height": null,
            "min_width": null,
            "object_fit": null,
            "object_position": null,
            "order": null,
            "overflow": null,
            "overflow_x": null,
            "overflow_y": null,
            "padding": null,
            "right": null,
            "top": null,
            "visibility": null,
            "width": null
          }
        },
        "2b74b84ef4cc49688d2522547dc00ee4": {
          "model_module": "@jupyter-widgets/controls",
          "model_name": "ProgressStyleModel",
          "model_module_version": "1.5.0",
          "state": {
            "_model_module": "@jupyter-widgets/controls",
            "_model_module_version": "1.5.0",
            "_model_name": "ProgressStyleModel",
            "_view_count": null,
            "_view_module": "@jupyter-widgets/base",
            "_view_module_version": "1.2.0",
            "_view_name": "StyleView",
            "bar_color": null,
            "description_width": ""
          }
        },
        "cc01d0c9efe44588b2385a2b34949d79": {
          "model_module": "@jupyter-widgets/base",
          "model_name": "LayoutModel",
          "model_module_version": "1.2.0",
          "state": {
            "_model_module": "@jupyter-widgets/base",
            "_model_module_version": "1.2.0",
            "_model_name": "LayoutModel",
            "_view_count": null,
            "_view_module": "@jupyter-widgets/base",
            "_view_module_version": "1.2.0",
            "_view_name": "LayoutView",
            "align_content": null,
            "align_items": null,
            "align_self": null,
            "border": null,
            "bottom": null,
            "display": null,
            "flex": null,
            "flex_flow": null,
            "grid_area": null,
            "grid_auto_columns": null,
            "grid_auto_flow": null,
            "grid_auto_rows": null,
            "grid_column": null,
            "grid_gap": null,
            "grid_row": null,
            "grid_template_areas": null,
            "grid_template_columns": null,
            "grid_template_rows": null,
            "height": null,
            "justify_content": null,
            "justify_items": null,
            "left": null,
            "margin": null,
            "max_height": null,
            "max_width": null,
            "min_height": null,
            "min_width": null,
            "object_fit": null,
            "object_position": null,
            "order": null,
            "overflow": null,
            "overflow_x": null,
            "overflow_y": null,
            "padding": null,
            "right": null,
            "top": null,
            "visibility": null,
            "width": null
          }
        },
        "0dad3927b5ca45949bf3b51b01a93260": {
          "model_module": "@jupyter-widgets/controls",
          "model_name": "DescriptionStyleModel",
          "model_module_version": "1.5.0",
          "state": {
            "_model_module": "@jupyter-widgets/controls",
            "_model_module_version": "1.5.0",
            "_model_name": "DescriptionStyleModel",
            "_view_count": null,
            "_view_module": "@jupyter-widgets/base",
            "_view_module_version": "1.2.0",
            "_view_name": "StyleView",
            "description_width": ""
          }
        }
      }
    }
  },
  "nbformat": 4,
  "nbformat_minor": 5
}